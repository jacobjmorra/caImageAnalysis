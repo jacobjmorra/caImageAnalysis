{
 "cells": [
  {
   "cell_type": "code",
   "execution_count": 10,
   "id": "cc49f315",
   "metadata": {},
   "outputs": [
    {
     "name": "stdout",
     "output_type": "stream",
     "text": [
      "The autoreload extension is already loaded. To reload it, use:\n",
      "  %reload_ext autoreload\n"
     ]
    }
   ],
   "source": [
    "%load_ext autoreload\n",
    "%autoreload 2\n",
    "\n",
    "import pandas as pd\n",
    "from tifffile import memmap\n",
    "\n",
    "from caImageAnalysis import BrukerFish, VolumeFish\n",
    "from caImageAnalysis.caiman_process import caiman_mcorr\n",
    "from caImageAnalysis.mesm import *\n",
    "from caImageAnalysis.visualize import visualize_images, visualize_volumes\n",
    "\n",
    "pd.options.display.max_colwidth = 120"
   ]
  },
  {
   "cell_type": "markdown",
   "id": "4bbc00ce",
   "metadata": {},
   "source": [
    "### Change the exp_folder to the path of the experiment"
   ]
  },
  {
   "cell_type": "code",
   "execution_count": 17,
   "id": "cd0d8c26",
   "metadata": {},
   "outputs": [],
   "source": [
    "# Change this path to the experiment folder\n",
    "exp_folder = r'/Volumes/Rapid/DOI/Bruker/elavl3H2BGCaMP6s_11dpf_DOI_50ugml_5_20231104'\n",
    "region = ''"
   ]
  },
  {
   "cell_type": "code",
   "execution_count": 18,
   "id": "0c539866",
   "metadata": {
    "scrolled": true
   },
   "outputs": [
    {
     "name": "stderr",
     "output_type": "stream",
     "text": [
      "/Users/minelarinel/caImageAnalysis/caImageAnalysis/bruker_2P/voltage_output.py:22: GuessedAtParserWarning: No parser was explicitly specified, so I'm using the best available HTML parser for this system (\"html.parser\"). This usually isn't a problem, but if you run this code on another system, or in a different virtual environment, it may use a different parser and behave differently.\n",
      "\n",
      "The code that caused this warning is on line 22 of the file /Users/minelarinel/caImageAnalysis/caImageAnalysis/bruker_2P/voltage_output.py. To get rid of this warning, pass the additional argument 'features=\"html.parser\"' to the BeautifulSoup constructor.\n",
      "\n",
      "  Bs_data = BeautifulSoup(xml)\n",
      "/Users/minelarinel/mambaforge/envs/mescore/lib/python3.10/site-packages/bs4/builder/__init__.py:545: XMLParsedAsHTMLWarning: It looks like you're parsing an XML document using an HTML parser. If this really is an HTML document (maybe it's XHTML?), you can ignore or filter this warning. If it's XML, you should know that using an XML parser will be more reliable. To parse this document as XML, make sure you have the lxml package installed, and pass the keyword argument `features=\"xml\"` into the BeautifulSoup constructor.\n",
      "  warnings.warn(\n",
      "/Users/minelarinel/caImageAnalysis/caImageAnalysis/bruker_2P/voltage_output.py:48: GuessedAtParserWarning: No parser was explicitly specified, so I'm using the best available HTML parser for this system (\"html.parser\"). This usually isn't a problem, but if you run this code on another system, or in a different virtual environment, it may use a different parser and behave differently.\n",
      "\n",
      "The code that caused this warning is on line 48 of the file /Users/minelarinel/caImageAnalysis/caImageAnalysis/bruker_2P/voltage_output.py. To get rid of this warning, pass the additional argument 'features=\"html.parser\"' to the BeautifulSoup constructor.\n",
      "\n",
      "  Bs_log_data = BeautifulSoup(log)\n",
      "/Users/minelarinel/caImageAnalysis/caImageAnalysis/bruker_2P/bruker.py:166: GuessedAtParserWarning: No parser was explicitly specified, so I'm using the best available HTML parser for this system (\"html.parser\"). This usually isn't a problem, but if you run this code on another system, or in a different virtual environment, it may use a different parser and behave differently.\n",
      "\n",
      "The code that caused this warning is on line 166 of the file /Users/minelarinel/caImageAnalysis/caImageAnalysis/bruker_2P/bruker.py. To get rid of this warning, pass the additional argument 'features=\"html.parser\"' to the BeautifulSoup constructor.\n",
      "\n",
      "  # if it's a Z-Series, automatically assume volumetric\n"
     ]
    },
    {
     "data": {
      "text/plain": [
       "{'frametimes': PosixPath('/Volumes/Rapid/DOI/Bruker/elavl3H2BGCaMP6s_11dpf_DOI_50ugml_5_20231104/motor_pretectum-000_frametimes.h5'),\n",
       " 'raw_image': PosixPath('/Volumes/Rapid/DOI/Bruker/elavl3H2BGCaMP6s_11dpf_DOI_50ugml_5_20231104/motor_pretectum-000_ch2.tif'),\n",
       " 'raw': PosixPath('/Volumes/Rapid/DOI/Bruker/elavl3H2BGCaMP6s_11dpf_DOI_50ugml_5_20231104/motor_pretectum-000'),\n",
       " 'anatomy': None,\n",
       " 'references': PosixPath('/Volumes/Rapid/DOI/Bruker/elavl3H2BGCaMP6s_11dpf_DOI_50ugml_5_20231104/motor_pretectum-000/References'),\n",
       " 'voltage_output': PosixPath('/Volumes/Rapid/DOI/Bruker/elavl3H2BGCaMP6s_11dpf_DOI_50ugml_5_20231104/motor_pretectum-000/motor_pretectum-000_Cycle00001_VoltageOutput_001.xml'),\n",
       " 'log': PosixPath('/Volumes/Rapid/DOI/Bruker/elavl3H2BGCaMP6s_11dpf_DOI_50ugml_5_20231104/motor_pretectum-000/motor_pretectum-000.xml'),\n",
       " 'volumes': {'0': {'image': PosixPath('/Volumes/Rapid/DOI/Bruker/elavl3H2BGCaMP6s_11dpf_DOI_50ugml_5_20231104/img_stack_0/image.tif'),\n",
       "   'frametimes': PosixPath('/Volumes/Rapid/DOI/Bruker/elavl3H2BGCaMP6s_11dpf_DOI_50ugml_5_20231104/img_stack_0/frametimes.h5')}}}"
      ]
     },
     "execution_count": 18,
     "metadata": {},
     "output_type": "execute_result"
    }
   ],
   "source": [
    "# Initialize the fish. \n",
    "# If custom 2P, use VolumeFish. If Bruker 2P, use BrukerFish.\n",
    "\n",
    "# fish = VolumeFish(exp_folder)\n",
    "fish = BrukerFish(exp_folder, region=region)\n",
    "fish.data_paths"
   ]
  },
  {
   "cell_type": "markdown",
   "id": "5b23a421",
   "metadata": {},
   "source": [
    "## IF VOLUMETRIC: Pick a plane to apply movement correction"
   ]
  },
  {
   "cell_type": "code",
   "execution_count": 5,
   "id": "4e4a0a28",
   "metadata": {
    "scrolled": false
   },
   "outputs": [
    {
     "ename": "KeyError",
     "evalue": "'volumes'",
     "output_type": "error",
     "traceback": [
      "\u001b[0;31m---------------------------------------------------------------------------\u001b[0m",
      "\u001b[0;31mKeyError\u001b[0m                                  Traceback (most recent call last)",
      "Cell \u001b[0;32mIn[5], line 1\u001b[0m\n\u001b[0;32m----> 1\u001b[0m iw \u001b[38;5;241m=\u001b[39m \u001b[43mvisualize_volumes\u001b[49m\u001b[43m(\u001b[49m\u001b[43mfish\u001b[49m\u001b[43m)\u001b[49m\n\u001b[1;32m      2\u001b[0m iw\u001b[38;5;241m.\u001b[39mshow()\n",
      "File \u001b[0;32m~/caImageAnalysis/caImageAnalysis/visualize.py:45\u001b[0m, in \u001b[0;36mvisualize_volumes\u001b[0;34m(fish, names)\u001b[0m\n\u001b[1;32m     42\u001b[0m \u001b[38;5;250m\u001b[39m\u001b[38;5;124;03m'''Visualize individual planes of a given fish'''\u001b[39;00m\n\u001b[1;32m     43\u001b[0m planes \u001b[38;5;241m=\u001b[39m []\n\u001b[0;32m---> 45\u001b[0m \u001b[38;5;28;01mfor\u001b[39;00m i \u001b[38;5;129;01min\u001b[39;00m \u001b[43mfish\u001b[49m\u001b[38;5;241;43m.\u001b[39;49m\u001b[43mdata_paths\u001b[49m\u001b[43m[\u001b[49m\u001b[38;5;124;43m'\u001b[39;49m\u001b[38;5;124;43mvolumes\u001b[39;49m\u001b[38;5;124;43m'\u001b[39;49m\u001b[43m]\u001b[49m\u001b[38;5;241m.\u001b[39mkeys():\n\u001b[1;32m     46\u001b[0m     img \u001b[38;5;241m=\u001b[39m memmap(fish\u001b[38;5;241m.\u001b[39mdata_paths[\u001b[38;5;124m'\u001b[39m\u001b[38;5;124mvolumes\u001b[39m\u001b[38;5;124m'\u001b[39m][i][\u001b[38;5;124m'\u001b[39m\u001b[38;5;124mimage\u001b[39m\u001b[38;5;124m'\u001b[39m])\n\u001b[1;32m     47\u001b[0m     planes\u001b[38;5;241m.\u001b[39mappend(img)\n",
      "\u001b[0;31mKeyError\u001b[0m: 'volumes'"
     ]
    }
   ],
   "source": [
    "iw = visualize_volumes(fish)\n",
    "iw.show()"
   ]
  },
  {
   "cell_type": "code",
   "execution_count": 5,
   "id": "474f0d65",
   "metadata": {},
   "outputs": [],
   "source": [
    "iw.plot.canvas.close()"
   ]
  },
  {
   "cell_type": "code",
   "execution_count": 19,
   "id": "d8f1a6cd",
   "metadata": {},
   "outputs": [],
   "source": [
    "# Change this to the plane you want to test motion correction parameters on\n",
    "plane = 0"
   ]
  },
  {
   "cell_type": "markdown",
   "id": "2ccf19be",
   "metadata": {},
   "source": [
    "## Set parameters"
   ]
  },
  {
   "cell_type": "code",
   "execution_count": 5,
   "id": "76ac0392",
   "metadata": {},
   "outputs": [],
   "source": [
    "# motion correction parameters\n",
    "strides = (80, 80)          # start a new patch for pw-rigid motion correction every x pixels\n",
    "overlaps = (30, 30)         # overlap between pathes (size of patch strides+overlaps)\n",
    "max_shifts = (20, 20)          # maximum allowed rigid shifts (in pixels)\n",
    "max_deviation_rigid = 20     # maximum shifts deviation allowed for patch with respect to rigid shifts\n",
    "pw_rigid = True             # flag for performing non-rigid motion correction"
   ]
  },
  {
   "cell_type": "code",
   "execution_count": 6,
   "id": "c345b21d",
   "metadata": {},
   "outputs": [],
   "source": [
    "opts_dict = {'strides': strides,\n",
    "            'overlaps': overlaps,\n",
    "            'max_shifts': max_shifts,\n",
    "            'max_deviation_rigid': max_deviation_rigid,\n",
    "            'pw_rigid': pw_rigid}"
   ]
  },
  {
   "cell_type": "markdown",
   "id": "23f04571",
   "metadata": {},
   "source": [
    "## Motion correct"
   ]
  },
  {
   "cell_type": "code",
   "execution_count": 7,
   "id": "1dc4abfe",
   "metadata": {
    "scrolled": true
   },
   "outputs": [
    {
     "name": "stderr",
     "output_type": "stream",
     "text": [
      "100%|██████████| 1/1 [00:17<00:00, 17.24s/it]\n",
      "  0%|          | 0/1 [00:00<?, ?it/s]"
     ]
    },
    {
     "name": "stdout",
     "output_type": "stream",
     "text": [
      "Decode mmap filename /Users/minelarinel/Documents/Duke University/Naumann Lab/DOI/Brain imaging/elavl3H2BGCaMP6s_11dpf_DOI_50ugml_5_20231104/motor_pretectum-000_ch2_els__d1_1024_d2_1024_d3_1_order_F_frames_2046.mmap\n"
     ]
    },
    {
     "name": "stderr",
     "output_type": "stream",
     "text": [
      "100%|██████████| 1/1 [01:00<00:00, 60.75s/it]\n"
     ]
    },
    {
     "name": "stdout",
     "output_type": "stream",
     "text": [
      "Decode mmap filename /Users/minelarinel/Documents/Duke University/Naumann Lab/DOI/Brain imaging/elavl3H2BGCaMP6s_11dpf_DOI_50ugml_5_20231104/motor_pretectum-000_ch2_els__d1_1024_d2_1024_d3_1_order_F_frames_2046.mmap\n",
      "/Users/minelarinel/Documents/Duke University/Naumann Lab/DOI/Brain imaging/elavl3H2BGCaMP6s_11dpf_DOI_50ugml_5_20231104/memmap_d1_1024_d2_1024_d3_1_order_C_frames_2046.mmap\n",
      "Decode mmap filename /Users/minelarinel/Documents/Duke University/Naumann Lab/DOI/Brain imaging/elavl3H2BGCaMP6s_11dpf_DOI_50ugml_5_20231104/memmap_d1_1024_d2_1024_d3_1_order_C_frames_2046.mmap\n"
     ]
    }
   ],
   "source": [
    "if fish.volumetric:\n",
    "    mcorr_img = caiman_mcorr(fish, plane=plane, **opts_dict)\n",
    "else:\n",
    "    mcorr_img = caiman_mcorr(fish, **opts_dict)"
   ]
  },
  {
   "cell_type": "code",
   "execution_count": null,
   "id": "11ea1936",
   "metadata": {},
   "outputs": [
    {
     "data": {
      "application/vnd.jupyter.widget-view+json": {
       "model_id": "2ad3618c392d40e8ab93e72b8ef994c6",
       "version_major": 2,
       "version_minor": 0
      },
      "text/plain": [
       "RFBOutputContext()"
      ]
     },
     "metadata": {},
     "output_type": "display_data"
    },
    {
     "data": {
      "application/vnd.jupyter.widget-view+json": {
       "model_id": "f6c4588e5947489897bd89b81470ffb7",
       "version_major": 2,
       "version_minor": 0
      },
      "text/plain": [
       "VBox(children=(JupyterWgpuCanvas(), IntSlider(value=0, description='dimension: t', max=2045), FloatRangeSlider…"
      ]
     },
     "metadata": {},
     "output_type": "display_data"
    },
    {
     "name": "stderr",
     "output_type": "stream",
     "text": [
      "     4159376 [base_comm.py:            get_comm():212] [14050] No such comm: fae746f620d04415b0cd37220fe929d9\n",
      "     4159378 [base_comm.py:            get_comm():212] [14050] No such comm: fae746f620d04415b0cd37220fe929d9\n",
      "     4159379 [base_comm.py:            get_comm():212] [14050] No such comm: fae746f620d04415b0cd37220fe929d9\n",
      "     4159381 [base_comm.py:            get_comm():212] [14050] No such comm: fae746f620d04415b0cd37220fe929d9\n",
      "     4159381 [base_comm.py:            get_comm():212] [14050] No such comm: fae746f620d04415b0cd37220fe929d9\n",
      "     4159382 [base_comm.py:            get_comm():212] [14050] No such comm: fae746f620d04415b0cd37220fe929d9\n",
      "     4159384 [base_comm.py:            get_comm():212] [14050] No such comm: fae746f620d04415b0cd37220fe929d9\n",
      "     4159386 [base_comm.py:            get_comm():212] [14050] No such comm: fae746f620d04415b0cd37220fe929d9\n",
      "     4159388 [base_comm.py:            get_comm():212] [14050] No such comm: fae746f620d04415b0cd37220fe929d9\n",
      "     4159390 [base_comm.py:            get_comm():212] [14050] No such comm: fae746f620d04415b0cd37220fe929d9\n",
      "     4159392 [base_comm.py:            get_comm():212] [14050] No such comm: fae746f620d04415b0cd37220fe929d9\n",
      "     4159394 [base_comm.py:            get_comm():212] [14050] No such comm: fae746f620d04415b0cd37220fe929d9\n",
      "     4159396 [base_comm.py:            get_comm():212] [14050] No such comm: fae746f620d04415b0cd37220fe929d9\n",
      "     4159397 [base_comm.py:            get_comm():212] [14050] No such comm: fae746f620d04415b0cd37220fe929d9\n",
      "     4159398 [base_comm.py:            get_comm():212] [14050] No such comm: fae746f620d04415b0cd37220fe929d9\n",
      "     4159399 [base_comm.py:            get_comm():212] [14050] No such comm: fae746f620d04415b0cd37220fe929d9\n",
      "     4181274 [base_comm.py:            get_comm():212] [14050] No such comm: fae746f620d04415b0cd37220fe929d9\n",
      "     4181281 [base_comm.py:            get_comm():212] [14050] No such comm: fae746f620d04415b0cd37220fe929d9\n"
     ]
    }
   ],
   "source": [
    "# Compare the results\n",
    "if fish.volumetric:\n",
    "    orig = memmap(fish.data_paths['volumes'][str(plane)]['image'])\n",
    "else:\n",
    "    orig = memmap(fish.data_paths['raw_image'])\n",
    "caiman_iw = visualize_images([orig, mcorr_img], names=['original', 'mcorr'])\n",
    "caiman_iw.show()"
   ]
  },
  {
   "cell_type": "code",
   "execution_count": 9,
   "id": "c5f6cfce",
   "metadata": {},
   "outputs": [],
   "source": [
    "caiman_iw.plot.canvas.close()"
   ]
  },
  {
   "cell_type": "markdown",
   "id": "6988dfe1",
   "metadata": {},
   "source": [
    "## Optimize parameters with Mesmerize"
   ]
  },
  {
   "cell_type": "markdown",
   "id": "9df6d492",
   "metadata": {},
   "source": [
    "### Motion correction parameters"
   ]
  },
  {
   "cell_type": "code",
   "execution_count": 20,
   "id": "70902458",
   "metadata": {},
   "outputs": [],
   "source": [
    "# Set combination of values to try\n",
    "if 'vagal' in fish.data_paths['raw'].name:\n",
    "    strides = [100]  # start a new patch for pw-rigid motion correction every x pixels\n",
    "    overlaps = [50]  # overlap between patches (size of patch strides+overlaps)\n",
    "    max_shifts = [30]  # maximum allowed rigid shifts (in pixels)\n",
    "    max_deviation_rigid = [10]  # maximum shifts deviation allowed for patch with respect to rigid shifts\n",
    "\n",
    "else:  # for hindbrain and other brain regions\n",
    "    strides = [80]\n",
    "    overlaps = [30]\n",
    "    max_shifts = [20]\n",
    "    max_deviation_rigid = [20]"
   ]
  },
  {
   "cell_type": "code",
   "execution_count": 21,
   "id": "21b4c922",
   "metadata": {},
   "outputs": [
    {
     "name": "stdout",
     "output_type": "stream",
     "text": [
      "Batch does not exist. Creating batch.pickle\n"
     ]
    }
   ],
   "source": [
    "# Add the combination of parameters to a mes_df dataframe\n",
    "img_path = fish.data_paths['volumes'][str(plane)]['image']\n",
    "mes_df = add_mcorr(fish, [img_path], grid=True, \n",
    "                         strides=strides, \n",
    "                         overlaps=overlaps,\n",
    "                         max_shifts=max_shifts,\n",
    "                         max_deviation_rigid=max_deviation_rigid)"
   ]
  },
  {
   "cell_type": "code",
   "execution_count": 22,
   "id": "7e340584",
   "metadata": {},
   "outputs": [
    {
     "data": {
      "text/html": [
       "<div>\n",
       "<style scoped>\n",
       "    .dataframe tbody tr th:only-of-type {\n",
       "        vertical-align: middle;\n",
       "    }\n",
       "\n",
       "    .dataframe tbody tr th {\n",
       "        vertical-align: top;\n",
       "    }\n",
       "\n",
       "    .dataframe thead th {\n",
       "        text-align: right;\n",
       "    }\n",
       "</style>\n",
       "<table border=\"1\" class=\"dataframe\">\n",
       "  <thead>\n",
       "    <tr style=\"text-align: right;\">\n",
       "      <th></th>\n",
       "      <th>algo</th>\n",
       "      <th>item_name</th>\n",
       "      <th>input_movie_path</th>\n",
       "      <th>params</th>\n",
       "      <th>outputs</th>\n",
       "      <th>added_time</th>\n",
       "      <th>ran_time</th>\n",
       "      <th>algo_duration</th>\n",
       "      <th>comments</th>\n",
       "      <th>uuid</th>\n",
       "    </tr>\n",
       "  </thead>\n",
       "  <tbody>\n",
       "    <tr>\n",
       "      <th>0</th>\n",
       "      <td>mcorr</td>\n",
       "      <td>img_stack_0</td>\n",
       "      <td>img_stack_0/image.tif</td>\n",
       "      <td>{'main': {'strides': (80, 80), 'overlaps': (30, 30), 'max_shifts': (20, 20), 'max_deviation_rigid': 20, 'pw_rigid': ...</td>\n",
       "      <td>None</td>\n",
       "      <td>2024-03-29T18:46:26</td>\n",
       "      <td>None</td>\n",
       "      <td>None</td>\n",
       "      <td>None</td>\n",
       "      <td>ca450d2a-f550-4abd-99ba-771d2e4dd7dd</td>\n",
       "    </tr>\n",
       "  </tbody>\n",
       "</table>\n",
       "</div>"
      ],
      "text/plain": [
       "    algo    item_name       input_movie_path  \\\n",
       "0  mcorr  img_stack_0  img_stack_0/image.tif   \n",
       "\n",
       "                                                                                                                    params  \\\n",
       "0  {'main': {'strides': (80, 80), 'overlaps': (30, 30), 'max_shifts': (20, 20), 'max_deviation_rigid': 20, 'pw_rigid': ...   \n",
       "\n",
       "  outputs           added_time ran_time algo_duration comments  \\\n",
       "0    None  2024-03-29T18:46:26     None          None     None   \n",
       "\n",
       "                                   uuid  \n",
       "0  ca450d2a-f550-4abd-99ba-771d2e4dd7dd  "
      ]
     },
     "execution_count": 22,
     "metadata": {},
     "output_type": "execute_result"
    }
   ],
   "source": [
    "mes_df"
   ]
  },
  {
   "cell_type": "code",
   "execution_count": 23,
   "id": "3dec0008",
   "metadata": {},
   "outputs": [
    {
     "name": "stderr",
     "output_type": "stream",
     "text": [
      "/var/folders/48/8y2gqcvx5q5575kwkzngl6qw0000gn/T/ipykernel_14050/688498701.py:2: FutureWarning: You are trying to use the following experimental feature, this may change in the future without warning:\n",
      "CaimanDataFrameExtensions.get_params_diffs\n",
      "This feature is new and the might improve in the future\n",
      "\n",
      "  diffs = mes_df.caiman.get_params_diffs(algo=\"mcorr\", item_name=mes_df.iloc[0][\"item_name\"])\n"
     ]
    },
    {
     "data": {
      "text/plain": [
       "0    {}\n",
       "Name: params, dtype: object"
      ]
     },
     "execution_count": 23,
     "metadata": {},
     "output_type": "execute_result"
    }
   ],
   "source": [
    "# See the unique parameters between rows with the same item_name\n",
    "diffs = mes_df.caiman.get_params_diffs(algo=\"mcorr\", item_name=mes_df.iloc[0][\"item_name\"])\n",
    "diffs"
   ]
  },
  {
   "cell_type": "markdown",
   "id": "ec970f45",
   "metadata": {},
   "source": [
    "### Run motion correction with the given parameter space"
   ]
  },
  {
   "cell_type": "code",
   "execution_count": 24,
   "id": "1c7e166e",
   "metadata": {
    "scrolled": true
   },
   "outputs": [
    {
     "name": "stdout",
     "output_type": "stream",
     "text": [
      "Batch exists. Loading batch.pickle\n",
      "Running ca450d2a-f550-4abd-99ba-771d2e4dd7dd with local backend\n",
      "starting mc\n",
      "mc finished successfully!\n",
      "computing projections\n",
      "Decode mmap filename /Volumes/Rapid/DOI/Bruker/elavl3H2BGCaMP6s_11dpf_DOI_50ugml_5_20231104/mesmerize-batch/ca450d2a-f550-4abd-99ba-771d2e4dd7dd/ca450d2a-f550-4abd-99ba-771d2e4dd7dd-image_els__d1_1024_d2_1024_d3_1_order_F_frames_2046.mmap\n",
      "finished computing correlation image\n"
     ]
    }
   ],
   "source": [
    "mes_df = load_mesmerize(fish)\n",
    "run_mesmerize(mes_df)\n",
    "mes_df = mes_df.caiman.reload_from_disk()"
   ]
  },
  {
   "cell_type": "code",
   "execution_count": 25,
   "id": "f4539ccc",
   "metadata": {},
   "outputs": [
    {
     "name": "stdout",
     "output_type": "stream",
     "text": [
      "True\n"
     ]
    }
   ],
   "source": [
    "# See the rows that were successfully run\n",
    "for output in mes_df.loc[:, 'outputs']:\n",
    "    print(output['success'])"
   ]
  },
  {
   "cell_type": "markdown",
   "id": "7694ca58",
   "metadata": {},
   "source": [
    "### Visualize outputs"
   ]
  },
  {
   "cell_type": "code",
   "execution_count": 28,
   "id": "94446064",
   "metadata": {
    "scrolled": false
   },
   "outputs": [
    {
     "name": "stdout",
     "output_type": "stream",
     "text": [
      "Batch exists. Loading batch.pickle\n",
      "Decode mmap filename /Volumes/Rapid/bruker2P_data/elavl3H2BGCaMP8m_9dpf_fed_glucose_25mM_23_20240111/mesmerize-batch/fdc1da29-fd3b-4902-85a1-8d7fdfe44eb4/fdc1da29-fd3b-4902-85a1-8d7fdfe44eb4-image_els__d1_512_d2_512_d3_1_order_F_frames_1174.mmap\n"
     ]
    },
    {
     "data": {
      "application/vnd.jupyter.widget-view+json": {
       "model_id": "15b4f691d75e4186922b8a63131178cf",
       "version_major": 2,
       "version_minor": 0
      },
      "text/plain": [
       "RFBOutputContext()"
      ]
     },
     "metadata": {},
     "output_type": "display_data"
    },
    {
     "data": {
      "application/vnd.jupyter.widget-view+json": {
       "model_id": "0c55160fb6c540af8be0483105e02bdb",
       "version_major": 2,
       "version_minor": 0
      },
      "text/plain": [
       "VBox(children=(JupyterWgpuCanvas(), IntSlider(value=0, description='dimension: t', max=1173), FloatRangeSlider…"
      ]
     },
     "metadata": {},
     "output_type": "display_data"
    },
    {
     "name": "stderr",
     "output_type": "stream",
     "text": [
      "WARNING:Comm:No such comm: 7fbdc889069e4f09878aeba718270f00\n",
      "WARNING:Comm:No such comm: 7fbdc889069e4f09878aeba718270f00\n"
     ]
    }
   ],
   "source": [
    "# Compare the raw image to motion corrected ones\n",
    "mes_df = load_mesmerize(fish)\n",
    "mcorr_iw = visualize_mesmerize(mes_df, 'mcorr')\n",
    "mcorr_iw.show()"
   ]
  },
  {
   "cell_type": "code",
   "execution_count": 29,
   "id": "61bd8954",
   "metadata": {},
   "outputs": [],
   "source": [
    "mcorr_iw.plot.canvas.close()"
   ]
  },
  {
   "cell_type": "code",
   "execution_count": 26,
   "id": "370a7765",
   "metadata": {},
   "outputs": [
    {
     "name": "stdout",
     "output_type": "stream",
     "text": [
      "Decode mmap filename /Volumes/Rapid/bruker2P_data/neurod1rsChRmine_elavl3H2BGCaMP8m_8dpf_7_20231101/mesmerize-batch/147592e6-8946-4673-aae4-1916350d3fec/147592e6-8946-4673-aae4-1916350d3fec-image_els__d1_512_d2_512_d3_1_order_F_frames_2250.mmap\n"
     ]
    },
    {
     "data": {
      "application/vnd.jupyter.widget-view+json": {
       "model_id": "8df285890f8247748de26f080dc0bdb8",
       "version_major": 2,
       "version_minor": 0
      },
      "text/plain": [
       "RFBOutputContext()"
      ]
     },
     "metadata": {},
     "output_type": "display_data"
    },
    {
     "data": {
      "application/vnd.jupyter.widget-view+json": {
       "model_id": "6cac2ac799e044b4ab0f7473ea082be2",
       "version_major": 2,
       "version_minor": 0
      },
      "text/plain": [
       "VBox(children=(JupyterWgpuCanvas(), IntSlider(value=0, description='dimension: t', max=2249), FloatRangeSlider…"
      ]
     },
     "metadata": {},
     "output_type": "display_data"
    },
    {
     "name": "stderr",
     "output_type": "stream",
     "text": [
      "    64243017 [base_comm.py:            get_comm():212] [92926] No such comm: d19d4a46f0a64780ae8c9b1a81063406\n",
      "    64243018 [base_comm.py:            get_comm():212] [92926] No such comm: d19d4a46f0a64780ae8c9b1a81063406\n"
     ]
    }
   ],
   "source": [
    "# Visualize the difference of each frame from the mean\n",
    "mcorr_diff_iw = visualize_diff(mes_df)\n",
    "mcorr_diff_iw.show()"
   ]
  },
  {
   "cell_type": "code",
   "execution_count": 28,
   "id": "c8e13427",
   "metadata": {},
   "outputs": [],
   "source": [
    "mcorr_diff_iw.plot.canvas.close()"
   ]
  },
  {
   "cell_type": "markdown",
   "id": "86cfed8f",
   "metadata": {},
   "source": [
    "### Choose an index with the best parameters"
   ]
  },
  {
   "cell_type": "code",
   "execution_count": 30,
   "id": "bda26abf",
   "metadata": {},
   "outputs": [],
   "source": [
    "# Change the row index here that you want to keep\n",
    "# If you want to delete all rows to start over, keep the list empty\n",
    "indices = [0]"
   ]
  },
  {
   "cell_type": "code",
   "execution_count": 31,
   "id": "43ec449c",
   "metadata": {
    "scrolled": true
   },
   "outputs": [
    {
     "name": "stdout",
     "output_type": "stream",
     "text": [
      "Batch exists. Loading batch.pickle\n"
     ]
    },
    {
     "data": {
      "text/html": [
       "<div>\n",
       "<style scoped>\n",
       "    .dataframe tbody tr th:only-of-type {\n",
       "        vertical-align: middle;\n",
       "    }\n",
       "\n",
       "    .dataframe tbody tr th {\n",
       "        vertical-align: top;\n",
       "    }\n",
       "\n",
       "    .dataframe thead th {\n",
       "        text-align: right;\n",
       "    }\n",
       "</style>\n",
       "<table border=\"1\" class=\"dataframe\">\n",
       "  <thead>\n",
       "    <tr style=\"text-align: right;\">\n",
       "      <th></th>\n",
       "      <th>algo</th>\n",
       "      <th>item_name</th>\n",
       "      <th>input_movie_path</th>\n",
       "      <th>params</th>\n",
       "      <th>outputs</th>\n",
       "      <th>added_time</th>\n",
       "      <th>ran_time</th>\n",
       "      <th>algo_duration</th>\n",
       "      <th>comments</th>\n",
       "      <th>uuid</th>\n",
       "    </tr>\n",
       "  </thead>\n",
       "  <tbody>\n",
       "    <tr>\n",
       "      <th>0</th>\n",
       "      <td>mcorr</td>\n",
       "      <td>img_stack_0</td>\n",
       "      <td>img_stack_0/image.tif</td>\n",
       "      <td>{'main': {'strides': (100, 100), 'overlaps': (50, 50), 'max_shifts': (30, 30), 'max_deviation_rigid': 10, 'pw_rigid'...</td>\n",
       "      <td>{'mean-projection-path': fdc1da29-fd3b-4902-85a1-8d7fdfe44eb4/fdc1da29-fd3b-4902-85a1-8d7fdfe44eb4_mean_projection.n...</td>\n",
       "      <td>2024-03-08T10:12:37</td>\n",
       "      <td>2024-03-08T10:13:33</td>\n",
       "      <td>52.77 sec</td>\n",
       "      <td>None</td>\n",
       "      <td>fdc1da29-fd3b-4902-85a1-8d7fdfe44eb4</td>\n",
       "    </tr>\n",
       "  </tbody>\n",
       "</table>\n",
       "</div>"
      ],
      "text/plain": [
       "    algo    item_name       input_movie_path  \\\n",
       "0  mcorr  img_stack_0  img_stack_0/image.tif   \n",
       "\n",
       "                                                                                                                    params  \\\n",
       "0  {'main': {'strides': (100, 100), 'overlaps': (50, 50), 'max_shifts': (30, 30), 'max_deviation_rigid': 10, 'pw_rigid'...   \n",
       "\n",
       "                                                                                                                   outputs  \\\n",
       "0  {'mean-projection-path': fdc1da29-fd3b-4902-85a1-8d7fdfe44eb4/fdc1da29-fd3b-4902-85a1-8d7fdfe44eb4_mean_projection.n...   \n",
       "\n",
       "            added_time             ran_time algo_duration comments  \\\n",
       "0  2024-03-08T10:12:37  2024-03-08T10:13:33     52.77 sec     None   \n",
       "\n",
       "                                   uuid  \n",
       "0  fdc1da29-fd3b-4902-85a1-8d7fdfe44eb4  "
      ]
     },
     "execution_count": 31,
     "metadata": {},
     "output_type": "execute_result"
    }
   ],
   "source": [
    "# Removes every row except for the chosen index in the indices list\n",
    "df = load_mesmerize(fish)\n",
    "mes_df = clean_mesmerize(df, indices)  \n",
    "mes_df"
   ]
  },
  {
   "cell_type": "markdown",
   "id": "eb96459c",
   "metadata": {},
   "source": [
    "## Run motion correction on all planes"
   ]
  },
  {
   "cell_type": "code",
   "execution_count": 32,
   "id": "cb5b83a4",
   "metadata": {},
   "outputs": [
    {
     "name": "stdout",
     "output_type": "stream",
     "text": [
      "Batch exists. Loading batch.pickle\n",
      "Batch exists. Loading batch.pickle\n",
      "Batch exists. Loading batch.pickle\n"
     ]
    },
    {
     "data": {
      "text/html": [
       "<div>\n",
       "<style scoped>\n",
       "    .dataframe tbody tr th:only-of-type {\n",
       "        vertical-align: middle;\n",
       "    }\n",
       "\n",
       "    .dataframe tbody tr th {\n",
       "        vertical-align: top;\n",
       "    }\n",
       "\n",
       "    .dataframe thead th {\n",
       "        text-align: right;\n",
       "    }\n",
       "</style>\n",
       "<table border=\"1\" class=\"dataframe\">\n",
       "  <thead>\n",
       "    <tr style=\"text-align: right;\">\n",
       "      <th></th>\n",
       "      <th>algo</th>\n",
       "      <th>item_name</th>\n",
       "      <th>input_movie_path</th>\n",
       "      <th>params</th>\n",
       "      <th>outputs</th>\n",
       "      <th>added_time</th>\n",
       "      <th>ran_time</th>\n",
       "      <th>algo_duration</th>\n",
       "      <th>comments</th>\n",
       "      <th>uuid</th>\n",
       "    </tr>\n",
       "  </thead>\n",
       "  <tbody>\n",
       "    <tr>\n",
       "      <th>0</th>\n",
       "      <td>mcorr</td>\n",
       "      <td>img_stack_0</td>\n",
       "      <td>img_stack_0/image.tif</td>\n",
       "      <td>{'main': {'strides': (100, 100), 'overlaps': (50, 50), 'max_shifts': (30, 30), 'max_deviation_rigid': 10, 'pw_rigid'...</td>\n",
       "      <td>{'mean-projection-path': fdc1da29-fd3b-4902-85a1-8d7fdfe44eb4/fdc1da29-fd3b-4902-85a1-8d7fdfe44eb4_mean_projection.n...</td>\n",
       "      <td>2024-03-08T10:12:37</td>\n",
       "      <td>2024-03-08T10:13:33</td>\n",
       "      <td>52.77 sec</td>\n",
       "      <td>None</td>\n",
       "      <td>fdc1da29-fd3b-4902-85a1-8d7fdfe44eb4</td>\n",
       "    </tr>\n",
       "    <tr>\n",
       "      <th>1</th>\n",
       "      <td>mcorr</td>\n",
       "      <td>img_stack_1</td>\n",
       "      <td>img_stack_1/image.tif</td>\n",
       "      <td>{'main': {'strides': (100, 100), 'overlaps': (50, 50), 'max_shifts': (30, 30), 'max_deviation_rigid': 10, 'pw_rigid'...</td>\n",
       "      <td>None</td>\n",
       "      <td>2024-03-08T10:14:08</td>\n",
       "      <td>None</td>\n",
       "      <td>None</td>\n",
       "      <td>None</td>\n",
       "      <td>f0ddec55-3b28-4304-ae72-cb0f0b409124</td>\n",
       "    </tr>\n",
       "    <tr>\n",
       "      <th>2</th>\n",
       "      <td>mcorr</td>\n",
       "      <td>img_stack_2</td>\n",
       "      <td>img_stack_2/image.tif</td>\n",
       "      <td>{'main': {'strides': (100, 100), 'overlaps': (50, 50), 'max_shifts': (30, 30), 'max_deviation_rigid': 10, 'pw_rigid'...</td>\n",
       "      <td>None</td>\n",
       "      <td>2024-03-08T10:14:08</td>\n",
       "      <td>None</td>\n",
       "      <td>None</td>\n",
       "      <td>None</td>\n",
       "      <td>2bcb969e-f12c-410b-bf80-a121036c1537</td>\n",
       "    </tr>\n",
       "    <tr>\n",
       "      <th>3</th>\n",
       "      <td>mcorr</td>\n",
       "      <td>img_stack_3</td>\n",
       "      <td>img_stack_3/image.tif</td>\n",
       "      <td>{'main': {'strides': (100, 100), 'overlaps': (50, 50), 'max_shifts': (30, 30), 'max_deviation_rigid': 10, 'pw_rigid'...</td>\n",
       "      <td>None</td>\n",
       "      <td>2024-03-08T10:14:08</td>\n",
       "      <td>None</td>\n",
       "      <td>None</td>\n",
       "      <td>None</td>\n",
       "      <td>3fef463a-ef1f-43d8-bb04-2d134c4c055e</td>\n",
       "    </tr>\n",
       "    <tr>\n",
       "      <th>4</th>\n",
       "      <td>mcorr</td>\n",
       "      <td>img_stack_4</td>\n",
       "      <td>img_stack_4/image.tif</td>\n",
       "      <td>{'main': {'strides': (100, 100), 'overlaps': (50, 50), 'max_shifts': (30, 30), 'max_deviation_rigid': 10, 'pw_rigid'...</td>\n",
       "      <td>None</td>\n",
       "      <td>2024-03-08T10:14:08</td>\n",
       "      <td>None</td>\n",
       "      <td>None</td>\n",
       "      <td>None</td>\n",
       "      <td>1bfae04a-6f13-470e-9ac8-1e4505eb951f</td>\n",
       "    </tr>\n",
       "  </tbody>\n",
       "</table>\n",
       "</div>"
      ],
      "text/plain": [
       "    algo    item_name       input_movie_path  \\\n",
       "0  mcorr  img_stack_0  img_stack_0/image.tif   \n",
       "1  mcorr  img_stack_1  img_stack_1/image.tif   \n",
       "2  mcorr  img_stack_2  img_stack_2/image.tif   \n",
       "3  mcorr  img_stack_3  img_stack_3/image.tif   \n",
       "4  mcorr  img_stack_4  img_stack_4/image.tif   \n",
       "\n",
       "                                                                                                                    params  \\\n",
       "0  {'main': {'strides': (100, 100), 'overlaps': (50, 50), 'max_shifts': (30, 30), 'max_deviation_rigid': 10, 'pw_rigid'...   \n",
       "1  {'main': {'strides': (100, 100), 'overlaps': (50, 50), 'max_shifts': (30, 30), 'max_deviation_rigid': 10, 'pw_rigid'...   \n",
       "2  {'main': {'strides': (100, 100), 'overlaps': (50, 50), 'max_shifts': (30, 30), 'max_deviation_rigid': 10, 'pw_rigid'...   \n",
       "3  {'main': {'strides': (100, 100), 'overlaps': (50, 50), 'max_shifts': (30, 30), 'max_deviation_rigid': 10, 'pw_rigid'...   \n",
       "4  {'main': {'strides': (100, 100), 'overlaps': (50, 50), 'max_shifts': (30, 30), 'max_deviation_rigid': 10, 'pw_rigid'...   \n",
       "\n",
       "                                                                                                                   outputs  \\\n",
       "0  {'mean-projection-path': fdc1da29-fd3b-4902-85a1-8d7fdfe44eb4/fdc1da29-fd3b-4902-85a1-8d7fdfe44eb4_mean_projection.n...   \n",
       "1                                                                                                                     None   \n",
       "2                                                                                                                     None   \n",
       "3                                                                                                                     None   \n",
       "4                                                                                                                     None   \n",
       "\n",
       "            added_time             ran_time algo_duration comments  \\\n",
       "0  2024-03-08T10:12:37  2024-03-08T10:13:33     52.77 sec     None   \n",
       "1  2024-03-08T10:14:08                 None          None     None   \n",
       "2  2024-03-08T10:14:08                 None          None     None   \n",
       "3  2024-03-08T10:14:08                 None          None     None   \n",
       "4  2024-03-08T10:14:08                 None          None     None   \n",
       "\n",
       "                                   uuid  \n",
       "0  fdc1da29-fd3b-4902-85a1-8d7fdfe44eb4  \n",
       "1  f0ddec55-3b28-4304-ae72-cb0f0b409124  \n",
       "2  2bcb969e-f12c-410b-bf80-a121036c1537  \n",
       "3  3fef463a-ef1f-43d8-bb04-2d134c4c055e  \n",
       "4  1bfae04a-6f13-470e-9ac8-1e4505eb951f  "
      ]
     },
     "execution_count": 32,
     "metadata": {},
     "output_type": "execute_result"
    }
   ],
   "source": [
    "# Adds every other plane in the volume with the same parameters as the leftover, chosen index\n",
    "fish.process_mesmerize_filestructure()\n",
    "mes_df = add_volume(fish, algo='mcorr')  \n",
    "mes_df"
   ]
  },
  {
   "cell_type": "code",
   "execution_count": 33,
   "id": "993d49ce",
   "metadata": {
    "scrolled": true
   },
   "outputs": [
    {
     "name": "stdout",
     "output_type": "stream",
     "text": [
      "Running f0ddec55-3b28-4304-ae72-cb0f0b409124 with local backend\n",
      "starting mc\n",
      "mc finished successfully!\n",
      "computing projections\n",
      "Decode mmap filename /Volumes/Rapid/bruker2P_data/elavl3H2BGCaMP8m_9dpf_fed_glucose_25mM_23_20240111/mesmerize-batch/f0ddec55-3b28-4304-ae72-cb0f0b409124/f0ddec55-3b28-4304-ae72-cb0f0b409124-image_els__d1_512_d2_512_d3_1_order_F_frames_1174.mmap\n",
      "finished computing correlation image\n",
      "Running 2bcb969e-f12c-410b-bf80-a121036c1537 with local backend\n",
      "starting mc\n",
      "mc finished successfully!\n",
      "computing projections\n",
      "Decode mmap filename /Volumes/Rapid/bruker2P_data/elavl3H2BGCaMP8m_9dpf_fed_glucose_25mM_23_20240111/mesmerize-batch/2bcb969e-f12c-410b-bf80-a121036c1537/2bcb969e-f12c-410b-bf80-a121036c1537-image_els__d1_512_d2_512_d3_1_order_F_frames_1174.mmap\n",
      "finished computing correlation image\n",
      "Running 3fef463a-ef1f-43d8-bb04-2d134c4c055e with local backend\n",
      "starting mc\n",
      "mc finished successfully!\n",
      "computing projections\n",
      "Decode mmap filename /Volumes/Rapid/bruker2P_data/elavl3H2BGCaMP8m_9dpf_fed_glucose_25mM_23_20240111/mesmerize-batch/3fef463a-ef1f-43d8-bb04-2d134c4c055e/3fef463a-ef1f-43d8-bb04-2d134c4c055e-image_els__d1_512_d2_512_d3_1_order_F_frames_1174.mmap\n",
      "finished computing correlation image\n",
      "Running 1bfae04a-6f13-470e-9ac8-1e4505eb951f with local backend\n",
      "starting mc\n",
      "mc finished successfully!\n",
      "computing projections\n",
      "Decode mmap filename /Volumes/Rapid/bruker2P_data/elavl3H2BGCaMP8m_9dpf_fed_glucose_25mM_23_20240111/mesmerize-batch/1bfae04a-6f13-470e-9ac8-1e4505eb951f/1bfae04a-6f13-470e-9ac8-1e4505eb951f-image_els__d1_512_d2_512_d3_1_order_F_frames_1174.mmap\n",
      "finished computing correlation image\n",
      "True\n",
      "True\n",
      "True\n",
      "True\n",
      "True\n"
     ]
    }
   ],
   "source": [
    "# Run mesmerize on the entire volume\n",
    "run_mesmerize(mes_df)\n",
    "mes_df = mes_df.caiman.reload_from_disk()\n",
    "\n",
    "# See the rows that were successfully run\n",
    "for output in mes_df.loc[:, 'outputs']:\n",
    "    print(output['success'])"
   ]
  },
  {
   "cell_type": "markdown",
   "id": "8bf2f9a3",
   "metadata": {},
   "source": [
    "### Visualize outputs"
   ]
  },
  {
   "cell_type": "code",
   "execution_count": 78,
   "id": "837d4ce1",
   "metadata": {
    "scrolled": false
   },
   "outputs": [
    {
     "name": "stdout",
     "output_type": "stream",
     "text": [
      "Batch exists. Loading batch.pickle\n",
      "Decode mmap filename /Volumes/Rapid/bruker2P_data/elavl3H2BGCaMP8m_8dpf_fed_eggwater_0mM_18_20231206/mesmerize-batch/8615633a-d6e9-4b95-ac1c-12ffef3a0001/8615633a-d6e9-4b95-ac1c-12ffef3a0001-image_els__d1_512_d2_512_d3_1_order_F_frames_1174.mmap\n",
      "Decode mmap filename /Volumes/Rapid/bruker2P_data/elavl3H2BGCaMP8m_8dpf_fed_eggwater_0mM_18_20231206/mesmerize-batch/9e577156-6a00-4e85-a296-b0674bd27e85/9e577156-6a00-4e85-a296-b0674bd27e85-image_els__d1_512_d2_512_d3_1_order_F_frames_1174.mmap\n",
      "Decode mmap filename /Volumes/Rapid/bruker2P_data/elavl3H2BGCaMP8m_8dpf_fed_eggwater_0mM_18_20231206/mesmerize-batch/319c1a32-011b-4f2a-8f09-f6e89d1cc576/319c1a32-011b-4f2a-8f09-f6e89d1cc576-image_els__d1_512_d2_512_d3_1_order_F_frames_1174.mmap\n",
      "Decode mmap filename /Volumes/Rapid/bruker2P_data/elavl3H2BGCaMP8m_8dpf_fed_eggwater_0mM_18_20231206/mesmerize-batch/7f70d193-6785-4135-9fef-685b1387c603/7f70d193-6785-4135-9fef-685b1387c603-image_els__d1_512_d2_512_d3_1_order_F_frames_1174.mmap\n",
      "Decode mmap filename /Volumes/Rapid/bruker2P_data/elavl3H2BGCaMP8m_8dpf_fed_eggwater_0mM_18_20231206/mesmerize-batch/2dc1cf4b-ae93-47f6-8b8f-fd1c8c681c02/2dc1cf4b-ae93-47f6-8b8f-fd1c8c681c02-image_els__d1_512_d2_512_d3_1_order_F_frames_1174.mmap\n"
     ]
    },
    {
     "data": {
      "application/vnd.jupyter.widget-view+json": {
       "model_id": "0e9265eca49a4a2e94226b736586a3ff",
       "version_major": 2,
       "version_minor": 0
      },
      "text/plain": [
       "RFBOutputContext()"
      ]
     },
     "metadata": {},
     "output_type": "display_data"
    },
    {
     "data": {
      "application/vnd.jupyter.widget-view+json": {
       "model_id": "59fd534106174b2ab8394cdc96420961",
       "version_major": 2,
       "version_minor": 0
      },
      "text/plain": [
       "VBox(children=(JupyterWgpuCanvas(), IntSlider(value=0, description='dimension: t', max=1173), FloatRangeSlider…"
      ]
     },
     "metadata": {},
     "output_type": "display_data"
    },
    {
     "name": "stderr",
     "output_type": "stream",
     "text": [
      "WARNING:Comm:No such comm: a65c9a52ac894545a1bea3b20cfe27e9\n",
      "WARNING:Comm:No such comm: a65c9a52ac894545a1bea3b20cfe27e9\n",
      "WARNING:Comm:No such comm: a65c9a52ac894545a1bea3b20cfe27e9\n",
      "WARNING:Comm:No such comm: a65c9a52ac894545a1bea3b20cfe27e9\n",
      "WARNING:Comm:No such comm: a65c9a52ac894545a1bea3b20cfe27e9\n",
      "WARNING:Comm:No such comm: a65c9a52ac894545a1bea3b20cfe27e9\n",
      "WARNING:Comm:No such comm: a65c9a52ac894545a1bea3b20cfe27e9\n"
     ]
    }
   ],
   "source": [
    "# Visualize the motion corrected output of all planes\n",
    "mes_df = load_mesmerize(fish)\n",
    "mcorr_iw = visualize_mesmerize(mes_df, 'mcorr')\n",
    "mcorr_iw.show()"
   ]
  },
  {
   "cell_type": "code",
   "execution_count": 79,
   "id": "bf188b3b",
   "metadata": {},
   "outputs": [],
   "source": [
    "mcorr_iw.plot.canvas.close()"
   ]
  },
  {
   "cell_type": "code",
   "execution_count": null,
   "metadata": {},
   "outputs": [],
   "source": []
  }
 ],
 "metadata": {
  "kernelspec": {
   "display_name": "Python 3 (ipykernel)",
   "language": "python",
   "name": "python3"
  },
  "language_info": {
   "codemirror_mode": {
    "name": "ipython",
    "version": 3
   },
   "file_extension": ".py",
   "mimetype": "text/x-python",
   "name": "python",
   "nbconvert_exporter": "python",
   "pygments_lexer": "ipython3",
   "version": "3.10.12"
  }
 },
 "nbformat": 4,
 "nbformat_minor": 5
}
