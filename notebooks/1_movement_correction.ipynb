{
 "cells": [
  {
   "cell_type": "code",
   "execution_count": 1,
   "id": "cc49f315",
   "metadata": {},
   "outputs": [],
   "source": [
    "%load_ext autoreload\n",
    "%autoreload 2\n",
    "\n",
    "import pandas as pd\n",
    "from tifffile import memmap\n",
    "\n",
    "from caImageAnalysis import BrukerFish, VolumeFish\n",
    "from caImageAnalysis.caiman_process import caiman_mcorr\n",
    "from caImageAnalysis.mesm import *\n",
    "from caImageAnalysis.visualize import visualize_images, visualize_volumes\n",
    "\n",
    "pd.options.display.max_colwidth = 120"
   ]
  },
  {
   "cell_type": "markdown",
   "id": "4bbc00ce",
   "metadata": {},
   "source": [
    "### Change the exp_folder to the path of the experiment"
   ]
  },
  {
   "cell_type": "code",
   "execution_count": 2,
   "id": "cd0d8c26",
   "metadata": {},
   "outputs": [],
   "source": [
    "# Change this path to the experiment folder\n",
    "exp_folder = r'/Volumes/Rapid/bruker2P_data/elavl3H2BGCaMP8m_10dpf_fed_glucose_500mM_5_20230818'"
   ]
  },
  {
   "cell_type": "code",
   "execution_count": 3,
   "id": "0c539866",
   "metadata": {
    "scrolled": true
   },
   "outputs": [
    {
     "name": "stderr",
     "output_type": "stream",
     "text": [
      "/Users/minelarinel/caImageAnalysis/caImageAnalysis/bruker_2P/voltage_output.py:22: GuessedAtParserWarning: No parser was explicitly specified, so I'm using the best available HTML parser for this system (\"html.parser\"). This usually isn't a problem, but if you run this code on another system, or in a different virtual environment, it may use a different parser and behave differently.\n",
      "\n",
      "The code that caused this warning is on line 22 of the file /Users/minelarinel/caImageAnalysis/caImageAnalysis/bruker_2P/voltage_output.py. To get rid of this warning, pass the additional argument 'features=\"html.parser\"' to the BeautifulSoup constructor.\n",
      "\n",
      "  Bs_data = BeautifulSoup(xml)\n",
      "/Users/minelarinel/mambaforge/envs/mescore/lib/python3.10/site-packages/bs4/builder/__init__.py:545: XMLParsedAsHTMLWarning: It looks like you're parsing an XML document using an HTML parser. If this really is an HTML document (maybe it's XHTML?), you can ignore or filter this warning. If it's XML, you should know that using an XML parser will be more reliable. To parse this document as XML, make sure you have the lxml package installed, and pass the keyword argument `features=\"xml\"` into the BeautifulSoup constructor.\n",
      "  warnings.warn(\n",
      "/Users/minelarinel/caImageAnalysis/caImageAnalysis/bruker_2P/voltage_output.py:46: GuessedAtParserWarning: No parser was explicitly specified, so I'm using the best available HTML parser for this system (\"html.parser\"). This usually isn't a problem, but if you run this code on another system, or in a different virtual environment, it may use a different parser and behave differently.\n",
      "\n",
      "The code that caused this warning is on line 46 of the file /Users/minelarinel/caImageAnalysis/caImageAnalysis/bruker_2P/voltage_output.py. To get rid of this warning, pass the additional argument 'features=\"html.parser\"' to the BeautifulSoup constructor.\n",
      "\n",
      "  Bs_log_data = BeautifulSoup(log)\n"
     ]
    },
    {
     "name": "stdout",
     "output_type": "stream",
     "text": [
      "Batch exists. Loading batch.pickle\n"
     ]
    },
    {
     "data": {
      "text/plain": [
       "{'raw': PosixPath('/Volumes/Rapid/bruker2P_data/elavl3H2BGCaMP8m_10dpf_fed_glucose_500mM_5_20230818/hindbrain-000'),\n",
       " 'frametimes': PosixPath('/Volumes/Rapid/bruker2P_data/elavl3H2BGCaMP8m_10dpf_fed_glucose_500mM_5_20230818/frametimes.txt'),\n",
       " 'raw_image': PosixPath('/Volumes/Rapid/bruker2P_data/elavl3H2BGCaMP8m_10dpf_fed_glucose_500mM_5_20230818/._ch2.tif'),\n",
       " 'rotated': PosixPath('/Volumes/Rapid/bruker2P_data/elavl3H2BGCaMP8m_10dpf_fed_glucose_500mM_5_20230818/raw_rotated.tif'),\n",
       " 'opts': PosixPath('/Volumes/Rapid/bruker2P_data/elavl3H2BGCaMP8m_10dpf_fed_glucose_500mM_5_20230818/opts.pkl'),\n",
       " 'mesmerize': PosixPath('/Volumes/Rapid/bruker2P_data/elavl3H2BGCaMP8m_10dpf_fed_glucose_500mM_5_20230818/mesmerize-batch'),\n",
       " 'log': PosixPath('/Volumes/Rapid/bruker2P_data/elavl3H2BGCaMP8m_10dpf_fed_glucose_500mM_5_20230818/hindbrain-000/hindbrain-000.xml'),\n",
       " 'voltage_output': PosixPath('/Volumes/Rapid/bruker2P_data/elavl3H2BGCaMP8m_10dpf_fed_glucose_500mM_5_20230818/hindbrain-000/hindbrain-000_Cycle00001_VoltageOutput_001.xml'),\n",
       " 'references': PosixPath('/Volumes/Rapid/bruker2P_data/elavl3H2BGCaMP8m_10dpf_fed_glucose_500mM_5_20230818/hindbrain-000/References'),\n",
       " 'volumes': {'0': {'image': PosixPath('/Volumes/Rapid/bruker2P_data/elavl3H2BGCaMP8m_10dpf_fed_glucose_500mM_5_20230818/img_stack_0/image.tif'),\n",
       "   'frametimes': PosixPath('/Volumes/Rapid/bruker2P_data/elavl3H2BGCaMP8m_10dpf_fed_glucose_500mM_5_20230818/img_stack_0/frametimes.h5'),\n",
       "   'mcorr': PosixPath('/Volumes/Rapid/bruker2P_data/elavl3H2BGCaMP8m_10dpf_fed_glucose_500mM_5_20230818/mesmerize-batch/25a96cf4-65d4-4a77-b4ca-76038da422a6/25a96cf4-65d4-4a77-b4ca-76038da422a6-image_els__d1_512_d2_512_d3_1_order_F_frames_1174.mmap')},\n",
       "  '1': {'image': PosixPath('/Volumes/Rapid/bruker2P_data/elavl3H2BGCaMP8m_10dpf_fed_glucose_500mM_5_20230818/img_stack_1/image.tif'),\n",
       "   'frametimes': PosixPath('/Volumes/Rapid/bruker2P_data/elavl3H2BGCaMP8m_10dpf_fed_glucose_500mM_5_20230818/img_stack_1/frametimes.h5'),\n",
       "   'mcorr': PosixPath('/Volumes/Rapid/bruker2P_data/elavl3H2BGCaMP8m_10dpf_fed_glucose_500mM_5_20230818/mesmerize-batch/f0c43a45-ed4e-4cdd-9eae-994ff428d881/f0c43a45-ed4e-4cdd-9eae-994ff428d881-image_els__d1_512_d2_512_d3_1_order_F_frames_1174.mmap')},\n",
       "  '2': {'image': PosixPath('/Volumes/Rapid/bruker2P_data/elavl3H2BGCaMP8m_10dpf_fed_glucose_500mM_5_20230818/img_stack_2/image.tif'),\n",
       "   'frametimes': PosixPath('/Volumes/Rapid/bruker2P_data/elavl3H2BGCaMP8m_10dpf_fed_glucose_500mM_5_20230818/img_stack_2/frametimes.h5'),\n",
       "   'mcorr': PosixPath('/Volumes/Rapid/bruker2P_data/elavl3H2BGCaMP8m_10dpf_fed_glucose_500mM_5_20230818/mesmerize-batch/a709743e-1874-466c-99a8-9a016169a597/a709743e-1874-466c-99a8-9a016169a597-image_els__d1_512_d2_512_d3_1_order_F_frames_1174.mmap')},\n",
       "  '3': {'image': PosixPath('/Volumes/Rapid/bruker2P_data/elavl3H2BGCaMP8m_10dpf_fed_glucose_500mM_5_20230818/img_stack_3/image.tif'),\n",
       "   'frametimes': PosixPath('/Volumes/Rapid/bruker2P_data/elavl3H2BGCaMP8m_10dpf_fed_glucose_500mM_5_20230818/img_stack_3/frametimes.h5'),\n",
       "   'mcorr': PosixPath('/Volumes/Rapid/bruker2P_data/elavl3H2BGCaMP8m_10dpf_fed_glucose_500mM_5_20230818/mesmerize-batch/45953ae4-946a-4af2-9f53-70e594aa4400/45953ae4-946a-4af2-9f53-70e594aa4400-image_els__d1_512_d2_512_d3_1_order_F_frames_1174.mmap')},\n",
       "  '4': {'image': PosixPath('/Volumes/Rapid/bruker2P_data/elavl3H2BGCaMP8m_10dpf_fed_glucose_500mM_5_20230818/img_stack_4/image.tif'),\n",
       "   'frametimes': PosixPath('/Volumes/Rapid/bruker2P_data/elavl3H2BGCaMP8m_10dpf_fed_glucose_500mM_5_20230818/img_stack_4/frametimes.h5'),\n",
       "   'mcorr': PosixPath('/Volumes/Rapid/bruker2P_data/elavl3H2BGCaMP8m_10dpf_fed_glucose_500mM_5_20230818/mesmerize-batch/52320441-93c9-445e-86e3-d2a81012b909/52320441-93c9-445e-86e3-d2a81012b909-image_els__d1_512_d2_512_d3_1_order_F_frames_1174.mmap')}}}"
      ]
     },
     "execution_count": 3,
     "metadata": {},
     "output_type": "execute_result"
    }
   ],
   "source": [
    "# Initialize the fish. \n",
    "# If custom 2P, use VolumeFish. If Bruker 2P, use BrukerFish.\n",
    "\n",
    "# fish = VolumeFish(exp_folder)\n",
    "fish = BrukerFish(exp_folder)\n",
    "fish.data_paths"
   ]
  },
  {
   "cell_type": "markdown",
   "id": "5b23a421",
   "metadata": {},
   "source": [
    "## Pick a plane to apply movement correction"
   ]
  },
  {
   "cell_type": "code",
   "execution_count": 4,
   "id": "4e4a0a28",
   "metadata": {
    "scrolled": false
   },
   "outputs": [
    {
     "data": {
      "application/vnd.jupyter.widget-view+json": {
       "model_id": "2f563d171d3f4c769b61c3c1330df0a8",
       "version_major": 2,
       "version_minor": 0
      },
      "text/plain": [
       "RFBOutputContext()"
      ]
     },
     "metadata": {},
     "output_type": "display_data"
    },
    {
     "data": {
      "application/vnd.jupyter.widget-view+json": {
       "model_id": "3a30a834e5584abdaa063fc017fb2868",
       "version_major": 2,
       "version_minor": 0
      },
      "text/plain": [
       "VBox(children=(JupyterWgpuCanvas(), IntSlider(value=0, description='dimension: t', max=1173), FloatRangeSlider…"
      ]
     },
     "metadata": {},
     "output_type": "display_data"
    },
    {
     "name": "stderr",
     "output_type": "stream",
     "text": [
      "No such comm: a2177b230ade437bbf7ad25d720c9b6b\n",
      "No such comm: a2177b230ade437bbf7ad25d720c9b6b\n",
      "No such comm: a2177b230ade437bbf7ad25d720c9b6b\n"
     ]
    }
   ],
   "source": [
    "iw = visualize_volumes(fish)\n",
    "iw.show()"
   ]
  },
  {
   "cell_type": "code",
   "execution_count": 5,
   "id": "474f0d65",
   "metadata": {},
   "outputs": [],
   "source": [
    "iw.plot.canvas.close()"
   ]
  },
  {
   "cell_type": "code",
   "execution_count": 6,
   "id": "d8f1a6cd",
   "metadata": {},
   "outputs": [],
   "source": [
    "# Change this to the plane you want to test motion correction parameters on\n",
    "plane = 1"
   ]
  },
  {
   "cell_type": "markdown",
   "id": "2ccf19be",
   "metadata": {},
   "source": [
    "## Set parameters"
   ]
  },
  {
   "cell_type": "code",
   "execution_count": 6,
   "id": "76ac0392",
   "metadata": {},
   "outputs": [],
   "source": [
    "# motion correction parameters\n",
    "strides = (80, 80)          # start a new patch for pw-rigid motion correction every x pixels\n",
    "overlaps = (30, 30)         # overlap between pathes (size of patch strides+overlaps)\n",
    "max_shifts = (20, 20)          # maximum allowed rigid shifts (in pixels)\n",
    "max_deviation_rigid = 20     # maximum shifts deviation allowed for patch with respect to rigid shifts\n",
    "pw_rigid = True             # flag for performing non-rigid motion correction"
   ]
  },
  {
   "cell_type": "code",
   "execution_count": 7,
   "id": "c345b21d",
   "metadata": {},
   "outputs": [],
   "source": [
    "opts_dict = {'strides': strides,\n",
    "            'overlaps': overlaps,\n",
    "            'max_shifts': max_shifts,\n",
    "            'max_deviation_rigid': max_deviation_rigid,\n",
    "            'pw_rigid': pw_rigid}"
   ]
  },
  {
   "cell_type": "markdown",
   "id": "23f04571",
   "metadata": {},
   "source": [
    "## Motion correct"
   ]
  },
  {
   "cell_type": "code",
   "execution_count": 8,
   "id": "1dc4abfe",
   "metadata": {
    "scrolled": true
   },
   "outputs": [
    {
     "name": "stderr",
     "output_type": "stream",
     "text": [
      "100%|██████████| 1/1 [00:04<00:00,  4.93s/it]\n",
      "  0%|          | 0/1 [00:00<?, ?it/s]"
     ]
    },
    {
     "name": "stdout",
     "output_type": "stream",
     "text": [
      "Decode mmap filename /Volumes/Rapid/bruker2P_data/elavl3H2BGCaMP8m_10dpf_fed_glucose_500mM_5_20230818/img_stack_1/image_els__d1_512_d2_512_d3_1_order_F_frames_1174.mmap\n"
     ]
    },
    {
     "name": "stderr",
     "output_type": "stream",
     "text": [
      "100%|██████████| 1/1 [00:03<00:00,  3.51s/it]\n"
     ]
    },
    {
     "name": "stdout",
     "output_type": "stream",
     "text": [
      "Decode mmap filename /Volumes/Rapid/bruker2P_data/elavl3H2BGCaMP8m_10dpf_fed_glucose_500mM_5_20230818/img_stack_1/image_els__d1_512_d2_512_d3_1_order_F_frames_1174.mmap\n",
      "/Volumes/Rapid/bruker2P_data/elavl3H2BGCaMP8m_10dpf_fed_glucose_500mM_5_20230818/img_stack_1/memmap_d1_512_d2_512_d3_1_order_C_frames_1174.mmap\n",
      "Decode mmap filename /Volumes/Rapid/bruker2P_data/elavl3H2BGCaMP8m_10dpf_fed_glucose_500mM_5_20230818/img_stack_1/memmap_d1_512_d2_512_d3_1_order_C_frames_1174.mmap\n"
     ]
    },
    {
     "name": "stderr",
     "output_type": "stream",
     "text": [
      "/Users/minelarinel/caImageAnalysis/caImageAnalysis/bruker_2P/voltage_output.py:22: GuessedAtParserWarning: No parser was explicitly specified, so I'm using the best available HTML parser for this system (\"html.parser\"). This usually isn't a problem, but if you run this code on another system, or in a different virtual environment, it may use a different parser and behave differently.\n",
      "\n",
      "The code that caused this warning is on line 22 of the file /Users/minelarinel/caImageAnalysis/caImageAnalysis/bruker_2P/voltage_output.py. To get rid of this warning, pass the additional argument 'features=\"html.parser\"' to the BeautifulSoup constructor.\n",
      "\n",
      "  Bs_data = BeautifulSoup(xml)\n",
      "/Users/minelarinel/mambaforge/envs/mescore/lib/python3.10/site-packages/bs4/builder/__init__.py:545: XMLParsedAsHTMLWarning: It looks like you're parsing an XML document using an HTML parser. If this really is an HTML document (maybe it's XHTML?), you can ignore or filter this warning. If it's XML, you should know that using an XML parser will be more reliable. To parse this document as XML, make sure you have the lxml package installed, and pass the keyword argument `features=\"xml\"` into the BeautifulSoup constructor.\n",
      "  warnings.warn(\n",
      "/Users/minelarinel/caImageAnalysis/caImageAnalysis/bruker_2P/voltage_output.py:46: GuessedAtParserWarning: No parser was explicitly specified, so I'm using the best available HTML parser for this system (\"html.parser\"). This usually isn't a problem, but if you run this code on another system, or in a different virtual environment, it may use a different parser and behave differently.\n",
      "\n",
      "The code that caused this warning is on line 46 of the file /Users/minelarinel/caImageAnalysis/caImageAnalysis/bruker_2P/voltage_output.py. To get rid of this warning, pass the additional argument 'features=\"html.parser\"' to the BeautifulSoup constructor.\n",
      "\n",
      "  Bs_log_data = BeautifulSoup(log)\n"
     ]
    }
   ],
   "source": [
    "mcorr_img = caiman_mcorr(fish, plane=plane, **opts_dict)"
   ]
  },
  {
   "cell_type": "code",
   "execution_count": 9,
   "id": "11ea1936",
   "metadata": {},
   "outputs": [
    {
     "data": {
      "application/vnd.jupyter.widget-view+json": {
       "model_id": "6f87c2c9b6f440d2b62120330ed05004",
       "version_major": 2,
       "version_minor": 0
      },
      "text/plain": [
       "RFBOutputContext()"
      ]
     },
     "metadata": {},
     "output_type": "display_data"
    },
    {
     "name": "stderr",
     "output_type": "stream",
     "text": [
      "/Users/minelarinel/mambaforge/envs/mescore/lib/python3.10/site-packages/fastplotlib/graphics/_features/_base.py:34: UserWarning: converting float64 array to float32\n",
      "  warn(f\"converting {array.dtype} array to float32\")\n"
     ]
    },
    {
     "data": {
      "application/vnd.jupyter.widget-view+json": {
       "model_id": "1b00ba2b8a3d43398f933aabaf1f66af",
       "version_major": 2,
       "version_minor": 0
      },
      "text/plain": [
       "VBox(children=(VBox(children=(JupyterWgpuCanvas(), HBox(children=(Button(icon='expand-arrows-alt', layout=Layo…"
      ]
     },
     "execution_count": 9,
     "metadata": {},
     "output_type": "execute_result"
    }
   ],
   "source": [
    "# Compare the results\n",
    "orig = memmap(fish.data_paths['volumes'][str(plane)]['image'])\n",
    "caiman_iw = visualize_images([orig, mcorr_img], names=['original', 'mcorr'])\n",
    "caiman_iw.show()"
   ]
  },
  {
   "cell_type": "code",
   "execution_count": 67,
   "id": "c5f6cfce",
   "metadata": {},
   "outputs": [],
   "source": [
    "caiman_iw.gridplot.close()"
   ]
  },
  {
   "cell_type": "markdown",
   "id": "6988dfe1",
   "metadata": {},
   "source": [
    "## Optimize parameters with Mesmerize"
   ]
  },
  {
   "cell_type": "markdown",
   "id": "9df6d492",
   "metadata": {},
   "source": [
    "### Motion correction parameters"
   ]
  },
  {
   "cell_type": "code",
   "execution_count": 11,
   "id": "70902458",
   "metadata": {},
   "outputs": [],
   "source": [
    "# Set combination of values to try\n",
    "strides = [80]  # start a new patch for pw-rigid motion correction every x pixels\n",
    "overlaps = [30]  # overlap between patches (size of patch strides+overlaps)\n",
    "max_shifts = [20]  # maximum allowed rigid shifts (in pixels)\n",
    "max_deviation_rigid = [20]  # maximum shifts deviation allowed for patch with respect to rigid shifts"
   ]
  },
  {
   "cell_type": "code",
   "execution_count": 12,
   "id": "21b4c922",
   "metadata": {},
   "outputs": [
    {
     "name": "stdout",
     "output_type": "stream",
     "text": [
      "Batch does not exist. Creating batch.pickle\n"
     ]
    }
   ],
   "source": [
    "# Add the combination of parameters to a mes_df dataframe\n",
    "img_path = fish.data_paths['volumes'][str(plane)]['image']\n",
    "mes_df = add_mcorr(fish, [img_path], grid=True, \n",
    "                         strides=strides, \n",
    "                         overlaps=overlaps,\n",
    "                         max_shifts=max_shifts,\n",
    "                         max_deviation_rigid=max_deviation_rigid)"
   ]
  },
  {
   "cell_type": "code",
   "execution_count": 13,
   "id": "7e340584",
   "metadata": {},
   "outputs": [
    {
     "data": {
      "text/html": [
       "<div>\n",
       "<style scoped>\n",
       "    .dataframe tbody tr th:only-of-type {\n",
       "        vertical-align: middle;\n",
       "    }\n",
       "\n",
       "    .dataframe tbody tr th {\n",
       "        vertical-align: top;\n",
       "    }\n",
       "\n",
       "    .dataframe thead th {\n",
       "        text-align: right;\n",
       "    }\n",
       "</style>\n",
       "<table border=\"1\" class=\"dataframe\">\n",
       "  <thead>\n",
       "    <tr style=\"text-align: right;\">\n",
       "      <th></th>\n",
       "      <th>algo</th>\n",
       "      <th>item_name</th>\n",
       "      <th>input_movie_path</th>\n",
       "      <th>params</th>\n",
       "      <th>outputs</th>\n",
       "      <th>added_time</th>\n",
       "      <th>ran_time</th>\n",
       "      <th>algo_duration</th>\n",
       "      <th>comments</th>\n",
       "      <th>uuid</th>\n",
       "    </tr>\n",
       "  </thead>\n",
       "  <tbody>\n",
       "    <tr>\n",
       "      <th>0</th>\n",
       "      <td>mcorr</td>\n",
       "      <td>img_stack_1</td>\n",
       "      <td>img_stack_1/image.tif</td>\n",
       "      <td>{'main': {'strides': (80, 80), 'overlaps': (30, 30), 'max_shifts': (20, 20), 'max_deviation_rigid': 20, 'pw_rigid': ...</td>\n",
       "      <td>None</td>\n",
       "      <td>2023-08-20T13:35:17</td>\n",
       "      <td>None</td>\n",
       "      <td>None</td>\n",
       "      <td>None</td>\n",
       "      <td>f0c43a45-ed4e-4cdd-9eae-994ff428d881</td>\n",
       "    </tr>\n",
       "  </tbody>\n",
       "</table>\n",
       "</div>"
      ],
      "text/plain": [
       "    algo    item_name       input_movie_path  \\\n",
       "0  mcorr  img_stack_1  img_stack_1/image.tif   \n",
       "\n",
       "                                                                                                                    params  \\\n",
       "0  {'main': {'strides': (80, 80), 'overlaps': (30, 30), 'max_shifts': (20, 20), 'max_deviation_rigid': 20, 'pw_rigid': ...   \n",
       "\n",
       "  outputs           added_time ran_time algo_duration comments  \\\n",
       "0    None  2023-08-20T13:35:17     None          None     None   \n",
       "\n",
       "                                   uuid  \n",
       "0  f0c43a45-ed4e-4cdd-9eae-994ff428d881  "
      ]
     },
     "execution_count": 13,
     "metadata": {},
     "output_type": "execute_result"
    }
   ],
   "source": [
    "mes_df"
   ]
  },
  {
   "cell_type": "code",
   "execution_count": 14,
   "id": "3dec0008",
   "metadata": {},
   "outputs": [
    {
     "name": "stderr",
     "output_type": "stream",
     "text": [
      "/var/folders/48/8y2gqcvx5q5575kwkzngl6qw0000gn/T/ipykernel_75465/688498701.py:2: FutureWarning: You are trying to use the following experimental feature, this may change in the future without warning:\n",
      "CaimanDataFrameExtensions.get_params_diffs\n",
      "This feature is new and the might improve in the future\n",
      "\n",
      "  diffs = mes_df.caiman.get_params_diffs(algo=\"mcorr\", item_name=mes_df.iloc[0][\"item_name\"])\n"
     ]
    },
    {
     "data": {
      "text/plain": [
       "0    {}\n",
       "Name: params, dtype: object"
      ]
     },
     "execution_count": 14,
     "metadata": {},
     "output_type": "execute_result"
    }
   ],
   "source": [
    "# See the unique parameters between rows with the same item_name\n",
    "diffs = mes_df.caiman.get_params_diffs(algo=\"mcorr\", item_name=mes_df.iloc[0][\"item_name\"])\n",
    "diffs"
   ]
  },
  {
   "cell_type": "markdown",
   "id": "ec970f45",
   "metadata": {},
   "source": [
    "### Run motion correction with the given parameter space"
   ]
  },
  {
   "cell_type": "code",
   "execution_count": 15,
   "id": "1c7e166e",
   "metadata": {
    "scrolled": true
   },
   "outputs": [
    {
     "name": "stdout",
     "output_type": "stream",
     "text": [
      "Batch exists. Loading batch.pickle\n",
      "Running f0c43a45-ed4e-4cdd-9eae-994ff428d881 with local backend\n",
      "starting mc\n",
      "mc finished successfully!\n",
      "computing projections\n",
      "Decode mmap filename /Volumes/Rapid/bruker2P_data/elavl3H2BGCaMP8m_10dpf_fed_glucose_500mM_5_20230818/mesmerize-batch/f0c43a45-ed4e-4cdd-9eae-994ff428d881/f0c43a45-ed4e-4cdd-9eae-994ff428d881-image_els__d1_512_d2_512_d3_1_order_F_frames_1174.mmap\n",
      "finished computing correlation image\n"
     ]
    }
   ],
   "source": [
    "mes_df = load_mesmerize(fish)\n",
    "run_mesmerize(mes_df)\n",
    "mes_df = mes_df.caiman.reload_from_disk()"
   ]
  },
  {
   "cell_type": "code",
   "execution_count": 16,
   "id": "f4539ccc",
   "metadata": {},
   "outputs": [
    {
     "name": "stdout",
     "output_type": "stream",
     "text": [
      "True\n"
     ]
    }
   ],
   "source": [
    "# See the rows that were successfully run\n",
    "for output in mes_df.loc[:, 'outputs']:\n",
    "    print(output['success'])"
   ]
  },
  {
   "cell_type": "markdown",
   "id": "7694ca58",
   "metadata": {},
   "source": [
    "### Visualize outputs"
   ]
  },
  {
   "cell_type": "code",
   "execution_count": 7,
   "id": "94446064",
   "metadata": {
    "scrolled": false
   },
   "outputs": [
    {
     "name": "stdout",
     "output_type": "stream",
     "text": [
      "Batch exists. Loading batch.pickle\n",
      "Decode mmap filename /Volumes/Rapid/bruker2P_data/elavl3H2BGCaMP8m_10dpf_fed_glucose_500mM_5_20230818/mesmerize-batch/f0c43a45-ed4e-4cdd-9eae-994ff428d881/f0c43a45-ed4e-4cdd-9eae-994ff428d881-image_els__d1_512_d2_512_d3_1_order_F_frames_1174.mmap\n",
      "Decode mmap filename /Volumes/Rapid/bruker2P_data/elavl3H2BGCaMP8m_10dpf_fed_glucose_500mM_5_20230818/mesmerize-batch/25a96cf4-65d4-4a77-b4ca-76038da422a6/25a96cf4-65d4-4a77-b4ca-76038da422a6-image_els__d1_512_d2_512_d3_1_order_F_frames_1174.mmap\n",
      "Decode mmap filename /Volumes/Rapid/bruker2P_data/elavl3H2BGCaMP8m_10dpf_fed_glucose_500mM_5_20230818/mesmerize-batch/a709743e-1874-466c-99a8-9a016169a597/a709743e-1874-466c-99a8-9a016169a597-image_els__d1_512_d2_512_d3_1_order_F_frames_1174.mmap\n",
      "Decode mmap filename /Volumes/Rapid/bruker2P_data/elavl3H2BGCaMP8m_10dpf_fed_glucose_500mM_5_20230818/mesmerize-batch/45953ae4-946a-4af2-9f53-70e594aa4400/45953ae4-946a-4af2-9f53-70e594aa4400-image_els__d1_512_d2_512_d3_1_order_F_frames_1174.mmap\n",
      "Decode mmap filename /Volumes/Rapid/bruker2P_data/elavl3H2BGCaMP8m_10dpf_fed_glucose_500mM_5_20230818/mesmerize-batch/52320441-93c9-445e-86e3-d2a81012b909/52320441-93c9-445e-86e3-d2a81012b909-image_els__d1_512_d2_512_d3_1_order_F_frames_1174.mmap\n"
     ]
    },
    {
     "data": {
      "application/vnd.jupyter.widget-view+json": {
       "model_id": "05b1478fa0d1456c9d3734bfc46b0969",
       "version_major": 2,
       "version_minor": 0
      },
      "text/plain": [
       "RFBOutputContext()"
      ]
     },
     "metadata": {},
     "output_type": "display_data"
    },
    {
     "data": {
      "application/vnd.jupyter.widget-view+json": {
       "model_id": "affbcd5175f54377a1164fa2bd71313d",
       "version_major": 2,
       "version_minor": 0
      },
      "text/plain": [
       "VBox(children=(JupyterWgpuCanvas(), IntSlider(value=0, description='dimension: t', max=1173), FloatRangeSlider…"
      ]
     },
     "metadata": {},
     "output_type": "display_data"
    },
    {
     "name": "stderr",
     "output_type": "stream",
     "text": [
      "No such comm: 709492c21d254434a6f1ebe65aa34ece\n",
      "No such comm: 709492c21d254434a6f1ebe65aa34ece\n",
      "No such comm: 709492c21d254434a6f1ebe65aa34ece\n"
     ]
    }
   ],
   "source": [
    "# Compare the raw image to motion corrected ones\n",
    "mes_df = load_mesmerize(fish)\n",
    "mcorr_iw = visualize_mesmerize(mes_df, 'mcorr')\n",
    "mcorr_iw.show()"
   ]
  },
  {
   "cell_type": "code",
   "execution_count": 8,
   "id": "61bd8954",
   "metadata": {},
   "outputs": [],
   "source": [
    "mcorr_iw.plot.canvas.close()"
   ]
  },
  {
   "cell_type": "code",
   "execution_count": 10,
   "id": "370a7765",
   "metadata": {},
   "outputs": [
    {
     "name": "stdout",
     "output_type": "stream",
     "text": [
      "Decode mmap filename /Volumes/Rapid/bruker2P_data/elavl3H2BGCaMP8m_10dpf_fed_glucose_500mM_5_20230818/mesmerize-batch/f0c43a45-ed4e-4cdd-9eae-994ff428d881/f0c43a45-ed4e-4cdd-9eae-994ff428d881-image_els__d1_512_d2_512_d3_1_order_F_frames_1174.mmap\n",
      "Decode mmap filename /Volumes/Rapid/bruker2P_data/elavl3H2BGCaMP8m_10dpf_fed_glucose_500mM_5_20230818/mesmerize-batch/25a96cf4-65d4-4a77-b4ca-76038da422a6/25a96cf4-65d4-4a77-b4ca-76038da422a6-image_els__d1_512_d2_512_d3_1_order_F_frames_1174.mmap\n",
      "Decode mmap filename /Volumes/Rapid/bruker2P_data/elavl3H2BGCaMP8m_10dpf_fed_glucose_500mM_5_20230818/mesmerize-batch/a709743e-1874-466c-99a8-9a016169a597/a709743e-1874-466c-99a8-9a016169a597-image_els__d1_512_d2_512_d3_1_order_F_frames_1174.mmap\n",
      "Decode mmap filename /Volumes/Rapid/bruker2P_data/elavl3H2BGCaMP8m_10dpf_fed_glucose_500mM_5_20230818/mesmerize-batch/45953ae4-946a-4af2-9f53-70e594aa4400/45953ae4-946a-4af2-9f53-70e594aa4400-image_els__d1_512_d2_512_d3_1_order_F_frames_1174.mmap\n",
      "Decode mmap filename /Volumes/Rapid/bruker2P_data/elavl3H2BGCaMP8m_10dpf_fed_glucose_500mM_5_20230818/mesmerize-batch/52320441-93c9-445e-86e3-d2a81012b909/52320441-93c9-445e-86e3-d2a81012b909-image_els__d1_512_d2_512_d3_1_order_F_frames_1174.mmap\n"
     ]
    },
    {
     "data": {
      "application/vnd.jupyter.widget-view+json": {
       "model_id": "1ba8bc89b63943bfb9db8fb213fb0a38",
       "version_major": 2,
       "version_minor": 0
      },
      "text/plain": [
       "RFBOutputContext()"
      ]
     },
     "metadata": {},
     "output_type": "display_data"
    },
    {
     "data": {
      "application/vnd.jupyter.widget-view+json": {
       "model_id": "534c02af52e04c8f95daa980364d7456",
       "version_major": 2,
       "version_minor": 0
      },
      "text/plain": [
       "VBox(children=(JupyterWgpuCanvas(), IntSlider(value=0, description='dimension: t', max=1173), FloatRangeSlider…"
      ]
     },
     "metadata": {},
     "output_type": "display_data"
    },
    {
     "name": "stderr",
     "output_type": "stream",
     "text": [
      "No such comm: 47221e5c9ae54e31880c88a1cb669809\n",
      "No such comm: 47221e5c9ae54e31880c88a1cb669809\n",
      "No such comm: 47221e5c9ae54e31880c88a1cb669809\n"
     ]
    }
   ],
   "source": [
    "# Visualize the difference of each frame from the mean\n",
    "mcorr_diff_iw = visualize_diff(mes_df)\n",
    "mcorr_diff_iw.show()"
   ]
  },
  {
   "cell_type": "code",
   "execution_count": 11,
   "id": "c8e13427",
   "metadata": {},
   "outputs": [],
   "source": [
    "mcorr_diff_iw.plot.canvas.close()"
   ]
  },
  {
   "cell_type": "markdown",
   "id": "86cfed8f",
   "metadata": {},
   "source": [
    "### Choose an index with the best parameters"
   ]
  },
  {
   "cell_type": "code",
   "execution_count": 72,
   "id": "bda26abf",
   "metadata": {},
   "outputs": [],
   "source": [
    "# Change the row index here that you want to keep\n",
    "# If you want to delete all rows to start over, keep the list empty\n",
    "indices = [0]"
   ]
  },
  {
   "cell_type": "code",
   "execution_count": 73,
   "id": "43ec449c",
   "metadata": {
    "scrolled": true
   },
   "outputs": [
    {
     "name": "stdout",
     "output_type": "stream",
     "text": [
      "Batch exists. Loading batch.pickle\n"
     ]
    },
    {
     "data": {
      "text/html": [
       "<div>\n",
       "<style scoped>\n",
       "    .dataframe tbody tr th:only-of-type {\n",
       "        vertical-align: middle;\n",
       "    }\n",
       "\n",
       "    .dataframe tbody tr th {\n",
       "        vertical-align: top;\n",
       "    }\n",
       "\n",
       "    .dataframe thead th {\n",
       "        text-align: right;\n",
       "    }\n",
       "</style>\n",
       "<table border=\"1\" class=\"dataframe\">\n",
       "  <thead>\n",
       "    <tr style=\"text-align: right;\">\n",
       "      <th></th>\n",
       "      <th>algo</th>\n",
       "      <th>item_name</th>\n",
       "      <th>input_movie_path</th>\n",
       "      <th>params</th>\n",
       "      <th>outputs</th>\n",
       "      <th>added_time</th>\n",
       "      <th>ran_time</th>\n",
       "      <th>algo_duration</th>\n",
       "      <th>comments</th>\n",
       "      <th>uuid</th>\n",
       "    </tr>\n",
       "  </thead>\n",
       "  <tbody>\n",
       "    <tr>\n",
       "      <th>0</th>\n",
       "      <td>mcorr</td>\n",
       "      <td>img_stack_1</td>\n",
       "      <td>img_stack_1/image.tif</td>\n",
       "      <td>{'main': {'strides': (80, 80), 'overlaps': (30, 30), 'max_shifts': (20, 20), 'max_deviation_rigid': 20, 'pw_rigid': ...</td>\n",
       "      <td>{'mean-projection-path': f0c43a45-ed4e-4cdd-9eae-994ff428d881/f0c43a45-ed4e-4cdd-9eae-994ff428d881_mean_projection.n...</td>\n",
       "      <td>2023-08-20T13:35:17</td>\n",
       "      <td>2023-08-20T13:36:12</td>\n",
       "      <td>44.84 sec</td>\n",
       "      <td>None</td>\n",
       "      <td>f0c43a45-ed4e-4cdd-9eae-994ff428d881</td>\n",
       "    </tr>\n",
       "  </tbody>\n",
       "</table>\n",
       "</div>"
      ],
      "text/plain": [
       "    algo    item_name       input_movie_path  \\\n",
       "0  mcorr  img_stack_1  img_stack_1/image.tif   \n",
       "\n",
       "                                                                                                                    params  \\\n",
       "0  {'main': {'strides': (80, 80), 'overlaps': (30, 30), 'max_shifts': (20, 20), 'max_deviation_rigid': 20, 'pw_rigid': ...   \n",
       "\n",
       "                                                                                                                   outputs  \\\n",
       "0  {'mean-projection-path': f0c43a45-ed4e-4cdd-9eae-994ff428d881/f0c43a45-ed4e-4cdd-9eae-994ff428d881_mean_projection.n...   \n",
       "\n",
       "            added_time             ran_time algo_duration comments  \\\n",
       "0  2023-08-20T13:35:17  2023-08-20T13:36:12     44.84 sec     None   \n",
       "\n",
       "                                   uuid  \n",
       "0  f0c43a45-ed4e-4cdd-9eae-994ff428d881  "
      ]
     },
     "execution_count": 73,
     "metadata": {},
     "output_type": "execute_result"
    }
   ],
   "source": [
    "# Removes every row except for the chosen index in the indices list\n",
    "df = load_mesmerize(fish)\n",
    "mes_df = clean_mesmerize(df, indices)  \n",
    "mes_df"
   ]
  },
  {
   "cell_type": "markdown",
   "id": "eb96459c",
   "metadata": {},
   "source": [
    "## Run motion correction on all planes"
   ]
  },
  {
   "cell_type": "code",
   "execution_count": 80,
   "id": "cb5b83a4",
   "metadata": {},
   "outputs": [
    {
     "name": "stdout",
     "output_type": "stream",
     "text": [
      "Batch exists. Loading batch.pickle\n",
      "Batch exists. Loading batch.pickle\n",
      "Batch exists. Loading batch.pickle\n"
     ]
    },
    {
     "data": {
      "text/html": [
       "<div>\n",
       "<style scoped>\n",
       "    .dataframe tbody tr th:only-of-type {\n",
       "        vertical-align: middle;\n",
       "    }\n",
       "\n",
       "    .dataframe tbody tr th {\n",
       "        vertical-align: top;\n",
       "    }\n",
       "\n",
       "    .dataframe thead th {\n",
       "        text-align: right;\n",
       "    }\n",
       "</style>\n",
       "<table border=\"1\" class=\"dataframe\">\n",
       "  <thead>\n",
       "    <tr style=\"text-align: right;\">\n",
       "      <th></th>\n",
       "      <th>algo</th>\n",
       "      <th>item_name</th>\n",
       "      <th>input_movie_path</th>\n",
       "      <th>params</th>\n",
       "      <th>outputs</th>\n",
       "      <th>added_time</th>\n",
       "      <th>ran_time</th>\n",
       "      <th>algo_duration</th>\n",
       "      <th>comments</th>\n",
       "      <th>uuid</th>\n",
       "    </tr>\n",
       "  </thead>\n",
       "  <tbody>\n",
       "    <tr>\n",
       "      <th>0</th>\n",
       "      <td>mcorr</td>\n",
       "      <td>img_stack_1</td>\n",
       "      <td>img_stack_1/image.tif</td>\n",
       "      <td>{'main': {'strides': (80, 80), 'overlaps': (30, 30), 'max_shifts': (20, 20), 'max_deviation_rigid': 20, 'pw_rigid': ...</td>\n",
       "      <td>{'mean-projection-path': f0c43a45-ed4e-4cdd-9eae-994ff428d881/f0c43a45-ed4e-4cdd-9eae-994ff428d881_mean_projection.n...</td>\n",
       "      <td>2023-08-20T13:35:17</td>\n",
       "      <td>2023-08-20T13:36:12</td>\n",
       "      <td>44.84 sec</td>\n",
       "      <td>None</td>\n",
       "      <td>f0c43a45-ed4e-4cdd-9eae-994ff428d881</td>\n",
       "    </tr>\n",
       "    <tr>\n",
       "      <th>1</th>\n",
       "      <td>mcorr</td>\n",
       "      <td>img_stack_0</td>\n",
       "      <td>img_stack_0/image.tif</td>\n",
       "      <td>{'main': {'strides': (80, 80), 'overlaps': (30, 30), 'max_shifts': (20, 20), 'max_deviation_rigid': 20, 'pw_rigid': ...</td>\n",
       "      <td>None</td>\n",
       "      <td>2023-08-20T14:13:54</td>\n",
       "      <td>None</td>\n",
       "      <td>None</td>\n",
       "      <td>None</td>\n",
       "      <td>25a96cf4-65d4-4a77-b4ca-76038da422a6</td>\n",
       "    </tr>\n",
       "    <tr>\n",
       "      <th>2</th>\n",
       "      <td>mcorr</td>\n",
       "      <td>img_stack_2</td>\n",
       "      <td>img_stack_2/image.tif</td>\n",
       "      <td>{'main': {'strides': (80, 80), 'overlaps': (30, 30), 'max_shifts': (20, 20), 'max_deviation_rigid': 20, 'pw_rigid': ...</td>\n",
       "      <td>None</td>\n",
       "      <td>2023-08-20T14:13:54</td>\n",
       "      <td>None</td>\n",
       "      <td>None</td>\n",
       "      <td>None</td>\n",
       "      <td>a709743e-1874-466c-99a8-9a016169a597</td>\n",
       "    </tr>\n",
       "    <tr>\n",
       "      <th>3</th>\n",
       "      <td>mcorr</td>\n",
       "      <td>img_stack_3</td>\n",
       "      <td>img_stack_3/image.tif</td>\n",
       "      <td>{'main': {'strides': (80, 80), 'overlaps': (30, 30), 'max_shifts': (20, 20), 'max_deviation_rigid': 20, 'pw_rigid': ...</td>\n",
       "      <td>None</td>\n",
       "      <td>2023-08-20T14:13:54</td>\n",
       "      <td>None</td>\n",
       "      <td>None</td>\n",
       "      <td>None</td>\n",
       "      <td>45953ae4-946a-4af2-9f53-70e594aa4400</td>\n",
       "    </tr>\n",
       "    <tr>\n",
       "      <th>4</th>\n",
       "      <td>mcorr</td>\n",
       "      <td>img_stack_4</td>\n",
       "      <td>img_stack_4/image.tif</td>\n",
       "      <td>{'main': {'strides': (80, 80), 'overlaps': (30, 30), 'max_shifts': (20, 20), 'max_deviation_rigid': 20, 'pw_rigid': ...</td>\n",
       "      <td>None</td>\n",
       "      <td>2023-08-20T14:13:54</td>\n",
       "      <td>None</td>\n",
       "      <td>None</td>\n",
       "      <td>None</td>\n",
       "      <td>52320441-93c9-445e-86e3-d2a81012b909</td>\n",
       "    </tr>\n",
       "  </tbody>\n",
       "</table>\n",
       "</div>"
      ],
      "text/plain": [
       "    algo    item_name       input_movie_path  \\\n",
       "0  mcorr  img_stack_1  img_stack_1/image.tif   \n",
       "1  mcorr  img_stack_0  img_stack_0/image.tif   \n",
       "2  mcorr  img_stack_2  img_stack_2/image.tif   \n",
       "3  mcorr  img_stack_3  img_stack_3/image.tif   \n",
       "4  mcorr  img_stack_4  img_stack_4/image.tif   \n",
       "\n",
       "                                                                                                                    params  \\\n",
       "0  {'main': {'strides': (80, 80), 'overlaps': (30, 30), 'max_shifts': (20, 20), 'max_deviation_rigid': 20, 'pw_rigid': ...   \n",
       "1  {'main': {'strides': (80, 80), 'overlaps': (30, 30), 'max_shifts': (20, 20), 'max_deviation_rigid': 20, 'pw_rigid': ...   \n",
       "2  {'main': {'strides': (80, 80), 'overlaps': (30, 30), 'max_shifts': (20, 20), 'max_deviation_rigid': 20, 'pw_rigid': ...   \n",
       "3  {'main': {'strides': (80, 80), 'overlaps': (30, 30), 'max_shifts': (20, 20), 'max_deviation_rigid': 20, 'pw_rigid': ...   \n",
       "4  {'main': {'strides': (80, 80), 'overlaps': (30, 30), 'max_shifts': (20, 20), 'max_deviation_rigid': 20, 'pw_rigid': ...   \n",
       "\n",
       "                                                                                                                   outputs  \\\n",
       "0  {'mean-projection-path': f0c43a45-ed4e-4cdd-9eae-994ff428d881/f0c43a45-ed4e-4cdd-9eae-994ff428d881_mean_projection.n...   \n",
       "1                                                                                                                     None   \n",
       "2                                                                                                                     None   \n",
       "3                                                                                                                     None   \n",
       "4                                                                                                                     None   \n",
       "\n",
       "            added_time             ran_time algo_duration comments  \\\n",
       "0  2023-08-20T13:35:17  2023-08-20T13:36:12     44.84 sec     None   \n",
       "1  2023-08-20T14:13:54                 None          None     None   \n",
       "2  2023-08-20T14:13:54                 None          None     None   \n",
       "3  2023-08-20T14:13:54                 None          None     None   \n",
       "4  2023-08-20T14:13:54                 None          None     None   \n",
       "\n",
       "                                   uuid  \n",
       "0  f0c43a45-ed4e-4cdd-9eae-994ff428d881  \n",
       "1  25a96cf4-65d4-4a77-b4ca-76038da422a6  \n",
       "2  a709743e-1874-466c-99a8-9a016169a597  \n",
       "3  45953ae4-946a-4af2-9f53-70e594aa4400  \n",
       "4  52320441-93c9-445e-86e3-d2a81012b909  "
      ]
     },
     "execution_count": 80,
     "metadata": {},
     "output_type": "execute_result"
    }
   ],
   "source": [
    "# Adds every other plane in the volume with the same parameters as the leftover, chosen index\n",
    "fish.process_mesmerize_filestructure()\n",
    "mes_df = add_volume(fish, algo='mcorr')  \n",
    "mes_df"
   ]
  },
  {
   "cell_type": "code",
   "execution_count": 81,
   "id": "993d49ce",
   "metadata": {
    "scrolled": true
   },
   "outputs": [
    {
     "name": "stdout",
     "output_type": "stream",
     "text": [
      "Running 25a96cf4-65d4-4a77-b4ca-76038da422a6 with local backend\n",
      "starting mc\n",
      "mc finished successfully!\n",
      "computing projections\n",
      "Decode mmap filename /Volumes/Rapid/bruker2P_data/elavl3H2BGCaMP8m_10dpf_fed_glucose_500mM_5_20230818/mesmerize-batch/25a96cf4-65d4-4a77-b4ca-76038da422a6/25a96cf4-65d4-4a77-b4ca-76038da422a6-image_els__d1_512_d2_512_d3_1_order_F_frames_1174.mmap\n",
      "finished computing correlation image\n",
      "Running a709743e-1874-466c-99a8-9a016169a597 with local backend\n",
      "starting mc\n",
      "mc finished successfully!\n",
      "computing projections\n",
      "Decode mmap filename /Volumes/Rapid/bruker2P_data/elavl3H2BGCaMP8m_10dpf_fed_glucose_500mM_5_20230818/mesmerize-batch/a709743e-1874-466c-99a8-9a016169a597/a709743e-1874-466c-99a8-9a016169a597-image_els__d1_512_d2_512_d3_1_order_F_frames_1174.mmap\n",
      "finished computing correlation image\n",
      "Running 45953ae4-946a-4af2-9f53-70e594aa4400 with local backend\n",
      "starting mc\n",
      "mc finished successfully!\n",
      "computing projections\n",
      "Decode mmap filename /Volumes/Rapid/bruker2P_data/elavl3H2BGCaMP8m_10dpf_fed_glucose_500mM_5_20230818/mesmerize-batch/45953ae4-946a-4af2-9f53-70e594aa4400/45953ae4-946a-4af2-9f53-70e594aa4400-image_els__d1_512_d2_512_d3_1_order_F_frames_1174.mmap\n",
      "finished computing correlation image\n",
      "Running 52320441-93c9-445e-86e3-d2a81012b909 with local backend\n",
      "starting mc\n",
      "mc finished successfully!\n",
      "computing projections\n",
      "Decode mmap filename /Volumes/Rapid/bruker2P_data/elavl3H2BGCaMP8m_10dpf_fed_glucose_500mM_5_20230818/mesmerize-batch/52320441-93c9-445e-86e3-d2a81012b909/52320441-93c9-445e-86e3-d2a81012b909-image_els__d1_512_d2_512_d3_1_order_F_frames_1174.mmap\n",
      "finished computing correlation image\n",
      "True\n",
      "True\n",
      "True\n",
      "True\n",
      "True\n"
     ]
    }
   ],
   "source": [
    "# Run mesmerize on the entire volume\n",
    "run_mesmerize(mes_df)\n",
    "mes_df = mes_df.caiman.reload_from_disk()\n",
    "\n",
    "# See the rows that were successfully run\n",
    "for output in mes_df.loc[:, 'outputs']:\n",
    "    print(output['success'])"
   ]
  },
  {
   "cell_type": "markdown",
   "id": "8bf2f9a3",
   "metadata": {},
   "source": [
    "### Visualize outputs"
   ]
  },
  {
   "cell_type": "code",
   "execution_count": 12,
   "id": "837d4ce1",
   "metadata": {
    "scrolled": false
   },
   "outputs": [
    {
     "name": "stdout",
     "output_type": "stream",
     "text": [
      "Batch exists. Loading batch.pickle\n",
      "Decode mmap filename /Volumes/Rapid/bruker2P_data/elavl3H2BGCaMP8m_10dpf_fed_glucose_500mM_5_20230818/mesmerize-batch/f0c43a45-ed4e-4cdd-9eae-994ff428d881/f0c43a45-ed4e-4cdd-9eae-994ff428d881-image_els__d1_512_d2_512_d3_1_order_F_frames_1174.mmap\n",
      "Decode mmap filename /Volumes/Rapid/bruker2P_data/elavl3H2BGCaMP8m_10dpf_fed_glucose_500mM_5_20230818/mesmerize-batch/25a96cf4-65d4-4a77-b4ca-76038da422a6/25a96cf4-65d4-4a77-b4ca-76038da422a6-image_els__d1_512_d2_512_d3_1_order_F_frames_1174.mmap\n",
      "Decode mmap filename /Volumes/Rapid/bruker2P_data/elavl3H2BGCaMP8m_10dpf_fed_glucose_500mM_5_20230818/mesmerize-batch/a709743e-1874-466c-99a8-9a016169a597/a709743e-1874-466c-99a8-9a016169a597-image_els__d1_512_d2_512_d3_1_order_F_frames_1174.mmap\n",
      "Decode mmap filename /Volumes/Rapid/bruker2P_data/elavl3H2BGCaMP8m_10dpf_fed_glucose_500mM_5_20230818/mesmerize-batch/45953ae4-946a-4af2-9f53-70e594aa4400/45953ae4-946a-4af2-9f53-70e594aa4400-image_els__d1_512_d2_512_d3_1_order_F_frames_1174.mmap\n",
      "Decode mmap filename /Volumes/Rapid/bruker2P_data/elavl3H2BGCaMP8m_10dpf_fed_glucose_500mM_5_20230818/mesmerize-batch/52320441-93c9-445e-86e3-d2a81012b909/52320441-93c9-445e-86e3-d2a81012b909-image_els__d1_512_d2_512_d3_1_order_F_frames_1174.mmap\n"
     ]
    },
    {
     "data": {
      "application/vnd.jupyter.widget-view+json": {
       "model_id": "b8c73cf3a2da4a3a8e85a1ca85191ba3",
       "version_major": 2,
       "version_minor": 0
      },
      "text/plain": [
       "RFBOutputContext()"
      ]
     },
     "metadata": {},
     "output_type": "display_data"
    },
    {
     "data": {
      "application/vnd.jupyter.widget-view+json": {
       "model_id": "15af5557a275454f99fb1a9869651769",
       "version_major": 2,
       "version_minor": 0
      },
      "text/plain": [
       "VBox(children=(JupyterWgpuCanvas(), IntSlider(value=0, description='dimension: t', max=1173), FloatRangeSlider…"
      ]
     },
     "metadata": {},
     "output_type": "display_data"
    },
    {
     "name": "stderr",
     "output_type": "stream",
     "text": [
      "No such comm: 69b4dedb201f42618f0e939cb3c0209a\n",
      "No such comm: 69b4dedb201f42618f0e939cb3c0209a\n",
      "No such comm: 69b4dedb201f42618f0e939cb3c0209a\n"
     ]
    }
   ],
   "source": [
    "# Visualize the motion corrected output of all planes\n",
    "mes_df = load_mesmerize(fish)\n",
    "mcorr_iw = visualize_mesmerize(mes_df, 'mcorr')\n",
    "mcorr_iw.show()"
   ]
  },
  {
   "cell_type": "code",
   "execution_count": 13,
   "id": "bf188b3b",
   "metadata": {},
   "outputs": [],
   "source": [
    "mcorr_iw.plot.canvas.close()"
   ]
  },
  {
   "cell_type": "code",
   "execution_count": null,
   "id": "b719168e",
   "metadata": {},
   "outputs": [],
   "source": []
  }
 ],
 "metadata": {
  "kernelspec": {
   "display_name": "Python 3 (ipykernel)",
   "language": "python",
   "name": "python3"
  },
  "language_info": {
   "codemirror_mode": {
    "name": "ipython",
    "version": 3
   },
   "file_extension": ".py",
   "mimetype": "text/x-python",
   "name": "python",
   "nbconvert_exporter": "python",
   "pygments_lexer": "ipython3",
   "version": "3.10.12"
  }
 },
 "nbformat": 4,
 "nbformat_minor": 5
}
