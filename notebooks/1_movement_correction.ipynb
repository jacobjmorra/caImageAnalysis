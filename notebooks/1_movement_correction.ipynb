{
 "cells": [
  {
   "cell_type": "code",
   "execution_count": 1,
   "id": "cc49f315",
   "metadata": {},
   "outputs": [],
   "source": [
    "%load_ext autoreload\n",
    "%autoreload 2\n",
    "\n",
    "import pandas as pd\n",
    "from tifffile import memmap\n",
    "\n",
    "from caImageAnalysis import BrukerFish, VolumeFish\n",
    "from caImageAnalysis.caiman_process import caiman_mcorr\n",
    "from caImageAnalysis.mesm import *\n",
    "from caImageAnalysis.visualize import visualize_images, visualize_volumes\n",
    "\n",
    "pd.options.display.max_colwidth = 120"
   ]
  },
  {
   "cell_type": "markdown",
   "id": "1839369d",
   "metadata": {},
   "source": [
    "### Batch analysis"
   ]
  },
  {
   "cell_type": "code",
   "execution_count": 2,
   "id": "f71e923d",
   "metadata": {},
   "outputs": [
    {
     "name": "stderr",
     "output_type": "stream",
     "text": [
      "/Users/minelarinel/caImageAnalysis/caImageAnalysis/bruker_2P/bruker.py:202: GuessedAtParserWarning: No parser was explicitly specified, so I'm using the best available HTML parser for this system (\"html.parser\"). This usually isn't a problem, but if you run this code on another system, or in a different virtual environment, it may use a different parser and behave differently.\n",
      "\n",
      "The code that caused this warning is on line 202 of the file /Users/minelarinel/caImageAnalysis/caImageAnalysis/bruker_2P/bruker.py. To get rid of this warning, pass the additional argument 'features=\"html.parser\"' to the BeautifulSoup constructor.\n",
      "\n",
      "  Bs_data = BeautifulSoup(log)\n",
      "/Users/minelarinel/mambaforge/envs/mescore/lib/python3.10/site-packages/bs4/builder/__init__.py:545: XMLParsedAsHTMLWarning: It looks like you're parsing an XML document using an HTML parser. If this really is an HTML document (maybe it's XHTML?), you can ignore or filter this warning. If it's XML, you should know that using an XML parser will be more reliable. To parse this document as XML, make sure you have the lxml package installed, and pass the keyword argument `features=\"xml\"` into the BeautifulSoup constructor.\n",
      "  warnings.warn(\n"
     ]
    },
    {
     "name": "stdout",
     "output_type": "stream",
     "text": [
      "Batch does not exist. Creating batch.pickle\n",
      "Batch exists. Loading batch.pickle\n",
      "Running b910ef14-8c0c-4282-94fa-f5a3bcac6e4e with local backend\n",
      "starting mc\n",
      "mc finished successfully!\n",
      "computing projections\n",
      "Decode mmap filename /Volumes/DOI/Bruker/elavl3H2BGCaMP8m_6dpf_DOI_50ugml_42_20240916/mesmerize-batch/b910ef14-8c0c-4282-94fa-f5a3bcac6e4e/b910ef14-8c0c-4282-94fa-f5a3bcac6e4e-image_els__d1_640_d2_1024_d3_1_order_F_frames_5142.mmap\n",
      "finished computing correlation image\n",
      "True\n",
      "Batch exists. Loading batch.pickle\n",
      "Batch exists. Loading batch.pickle\n",
      "Batch exists. Loading batch.pickle\n",
      "Running 4cf99655-d47e-4093-aed5-a164cc9fe082 with local backend\n",
      "starting mc\n",
      "mc finished successfully!\n",
      "computing projections\n",
      "Decode mmap filename /Volumes/DOI/Bruker/elavl3H2BGCaMP8m_6dpf_DOI_50ugml_42_20240916/mesmerize-batch/4cf99655-d47e-4093-aed5-a164cc9fe082/4cf99655-d47e-4093-aed5-a164cc9fe082-image_els__d1_640_d2_1024_d3_1_order_F_frames_5142.mmap\n",
      "finished computing correlation image\n",
      "Running 3ef5dacb-a712-4437-aa86-7e72b4e7f7f1 with local backend\n",
      "starting mc\n",
      "mc finished successfully!\n",
      "computing projections\n",
      "Decode mmap filename /Volumes/DOI/Bruker/elavl3H2BGCaMP8m_6dpf_DOI_50ugml_42_20240916/mesmerize-batch/3ef5dacb-a712-4437-aa86-7e72b4e7f7f1/3ef5dacb-a712-4437-aa86-7e72b4e7f7f1-image_els__d1_640_d2_1024_d3_1_order_F_frames_5142.mmap\n",
      "finished computing correlation image\n",
      "Running 91e1d83c-15fd-4d0e-82c3-de9f5bcbdda5 with local backend\n",
      "starting mc\n"
     ]
    },
    {
     "name": "stderr",
     "output_type": "stream",
     "text": [
      "python(15430) MallocStackLogging: can't turn off malloc stack logging because it was not enabled.\n"
     ]
    },
    {
     "name": "stdout",
     "output_type": "stream",
     "text": [
      "mc finished successfully!\n",
      "computing projections\n",
      "Decode mmap filename /Volumes/DOI/Bruker/elavl3H2BGCaMP8m_6dpf_DOI_50ugml_42_20240916/mesmerize-batch/91e1d83c-15fd-4d0e-82c3-de9f5bcbdda5/91e1d83c-15fd-4d0e-82c3-de9f5bcbdda5-image_els__d1_640_d2_1024_d3_1_order_F_frames_5142.mmap\n",
      "finished computing correlation image\n",
      "Running aa35c1bf-533f-459b-8941-d6dff0d43de5 with local backend\n",
      "starting mc\n"
     ]
    },
    {
     "name": "stderr",
     "output_type": "stream",
     "text": [
      "python(35433) MallocStackLogging: can't turn off malloc stack logging because it was not enabled.\n"
     ]
    },
    {
     "name": "stdout",
     "output_type": "stream",
     "text": [
      "mc finished successfully!\n",
      "computing projections\n",
      "Decode mmap filename /Volumes/DOI/Bruker/elavl3H2BGCaMP8m_6dpf_DOI_50ugml_42_20240916/mesmerize-batch/aa35c1bf-533f-459b-8941-d6dff0d43de5/aa35c1bf-533f-459b-8941-d6dff0d43de5-image_els__d1_640_d2_1024_d3_1_order_F_frames_5142.mmap\n",
      "finished computing correlation image\n",
      "True\n",
      "True\n",
      "True\n",
      "True\n",
      "True\n"
     ]
    },
    {
     "name": "stderr",
     "output_type": "stream",
     "text": [
      "/Users/minelarinel/caImageAnalysis/caImageAnalysis/bruker_2P/bruker.py:202: GuessedAtParserWarning: No parser was explicitly specified, so I'm using the best available HTML parser for this system (\"html.parser\"). This usually isn't a problem, but if you run this code on another system, or in a different virtual environment, it may use a different parser and behave differently.\n",
      "\n",
      "The code that caused this warning is on line 202 of the file /Users/minelarinel/caImageAnalysis/caImageAnalysis/bruker_2P/bruker.py. To get rid of this warning, pass the additional argument 'features=\"html.parser\"' to the BeautifulSoup constructor.\n",
      "\n",
      "  Bs_data = BeautifulSoup(log)\n",
      "/Users/minelarinel/mambaforge/envs/mescore/lib/python3.10/site-packages/bs4/builder/__init__.py:545: XMLParsedAsHTMLWarning: It looks like you're parsing an XML document using an HTML parser. If this really is an HTML document (maybe it's XHTML?), you can ignore or filter this warning. If it's XML, you should know that using an XML parser will be more reliable. To parse this document as XML, make sure you have the lxml package installed, and pass the keyword argument `features=\"xml\"` into the BeautifulSoup constructor.\n",
      "  warnings.warn(\n"
     ]
    },
    {
     "name": "stdout",
     "output_type": "stream",
     "text": [
      "Batch does not exist. Creating batch.pickle\n",
      "Batch exists. Loading batch.pickle\n",
      "Running 8ac411f4-961b-480a-9541-0b265315758b with local backend\n",
      "starting mc\n"
     ]
    },
    {
     "name": "stderr",
     "output_type": "stream",
     "text": [
      "python(52644) MallocStackLogging: can't turn off malloc stack logging because it was not enabled.\n"
     ]
    },
    {
     "name": "stdout",
     "output_type": "stream",
     "text": [
      "mc finished successfully!\n",
      "computing projections\n",
      "Decode mmap filename /Volumes/DOI/Bruker/elavl3H2BGCaMP8m_6dpf_DOI_50ugml_43_20240923/mesmerize-batch/8ac411f4-961b-480a-9541-0b265315758b/8ac411f4-961b-480a-9541-0b265315758b-image_els__d1_640_d2_1024_d3_1_order_F_frames_5142.mmap\n",
      "finished computing correlation image\n",
      "True\n",
      "Batch exists. Loading batch.pickle\n",
      "Batch exists. Loading batch.pickle\n",
      "Batch exists. Loading batch.pickle\n",
      "Running 541c755d-7e4b-46ec-9b5f-6b725a93f174 with local backend\n",
      "starting mc\n"
     ]
    },
    {
     "name": "stderr",
     "output_type": "stream",
     "text": [
      "python(67097) MallocStackLogging: can't turn off malloc stack logging because it was not enabled.\n"
     ]
    },
    {
     "name": "stdout",
     "output_type": "stream",
     "text": [
      "mc finished successfully!\n",
      "computing projections\n",
      "Decode mmap filename /Volumes/DOI/Bruker/elavl3H2BGCaMP8m_6dpf_DOI_50ugml_43_20240923/mesmerize-batch/541c755d-7e4b-46ec-9b5f-6b725a93f174/541c755d-7e4b-46ec-9b5f-6b725a93f174-image_els__d1_640_d2_1024_d3_1_order_F_frames_5142.mmap\n",
      "finished computing correlation image\n",
      "Running 24046c40-612c-4e35-8945-0ddaf3489972 with local backend\n",
      "starting mc\n"
     ]
    },
    {
     "name": "stderr",
     "output_type": "stream",
     "text": [
      "python(82518) MallocStackLogging: can't turn off malloc stack logging because it was not enabled.\n"
     ]
    },
    {
     "name": "stdout",
     "output_type": "stream",
     "text": [
      "mc finished successfully!\n",
      "computing projections\n",
      "Decode mmap filename /Volumes/DOI/Bruker/elavl3H2BGCaMP8m_6dpf_DOI_50ugml_43_20240923/mesmerize-batch/24046c40-612c-4e35-8945-0ddaf3489972/24046c40-612c-4e35-8945-0ddaf3489972-image_els__d1_640_d2_1024_d3_1_order_F_frames_5142.mmap\n",
      "finished computing correlation image\n",
      "Running 1cf66997-5739-4817-b577-6e41a0532c35 with local backend\n",
      "starting mc\n"
     ]
    },
    {
     "name": "stderr",
     "output_type": "stream",
     "text": [
      "python(2489) MallocStackLogging: can't turn off malloc stack logging because it was not enabled.\n"
     ]
    },
    {
     "name": "stdout",
     "output_type": "stream",
     "text": [
      "mc finished successfully!\n",
      "computing projections\n",
      "Decode mmap filename /Volumes/DOI/Bruker/elavl3H2BGCaMP8m_6dpf_DOI_50ugml_43_20240923/mesmerize-batch/1cf66997-5739-4817-b577-6e41a0532c35/1cf66997-5739-4817-b577-6e41a0532c35-image_els__d1_640_d2_1024_d3_1_order_F_frames_5142.mmap\n",
      "finished computing correlation image\n",
      "Running ac493846-3a3a-4d55-ab2a-25d9ad2a912a with local backend\n",
      "starting mc\n"
     ]
    },
    {
     "name": "stderr",
     "output_type": "stream",
     "text": [
      "python(18761) MallocStackLogging: can't turn off malloc stack logging because it was not enabled.\n"
     ]
    },
    {
     "name": "stdout",
     "output_type": "stream",
     "text": [
      "mc finished successfully!\n",
      "computing projections\n",
      "Decode mmap filename /Volumes/DOI/Bruker/elavl3H2BGCaMP8m_6dpf_DOI_50ugml_43_20240923/mesmerize-batch/ac493846-3a3a-4d55-ab2a-25d9ad2a912a/ac493846-3a3a-4d55-ab2a-25d9ad2a912a-image_els__d1_640_d2_1024_d3_1_order_F_frames_5142.mmap\n",
      "finished computing correlation image\n",
      "True\n",
      "True\n",
      "True\n",
      "True\n",
      "True\n"
     ]
    },
    {
     "name": "stderr",
     "output_type": "stream",
     "text": [
      "/Users/minelarinel/caImageAnalysis/caImageAnalysis/bruker_2P/bruker.py:202: GuessedAtParserWarning: No parser was explicitly specified, so I'm using the best available HTML parser for this system (\"html.parser\"). This usually isn't a problem, but if you run this code on another system, or in a different virtual environment, it may use a different parser and behave differently.\n",
      "\n",
      "The code that caused this warning is on line 202 of the file /Users/minelarinel/caImageAnalysis/caImageAnalysis/bruker_2P/bruker.py. To get rid of this warning, pass the additional argument 'features=\"html.parser\"' to the BeautifulSoup constructor.\n",
      "\n",
      "  Bs_data = BeautifulSoup(log)\n",
      "/Users/minelarinel/mambaforge/envs/mescore/lib/python3.10/site-packages/bs4/builder/__init__.py:545: XMLParsedAsHTMLWarning: It looks like you're parsing an XML document using an HTML parser. If this really is an HTML document (maybe it's XHTML?), you can ignore or filter this warning. If it's XML, you should know that using an XML parser will be more reliable. To parse this document as XML, make sure you have the lxml package installed, and pass the keyword argument `features=\"xml\"` into the BeautifulSoup constructor.\n",
      "  warnings.warn(\n"
     ]
    },
    {
     "name": "stdout",
     "output_type": "stream",
     "text": [
      "Batch does not exist. Creating batch.pickle\n",
      "Batch exists. Loading batch.pickle\n",
      "Running dec06422-98b8-48a2-88b1-08d726e41d8c with local backend\n",
      "starting mc\n"
     ]
    },
    {
     "name": "stderr",
     "output_type": "stream",
     "text": [
      "python(30381) MallocStackLogging: can't turn off malloc stack logging because it was not enabled.\n"
     ]
    },
    {
     "name": "stdout",
     "output_type": "stream",
     "text": [
      "mc finished successfully!\n",
      "computing projections\n",
      "Decode mmap filename /Volumes/DOI/Bruker/elavl3H2BGCaMP8m_6dpf_DOI_50ugml_44_20240923/mesmerize-batch/dec06422-98b8-48a2-88b1-08d726e41d8c/dec06422-98b8-48a2-88b1-08d726e41d8c-image_els__d1_640_d2_1024_d3_1_order_F_frames_5142.mmap\n",
      "finished computing correlation image\n",
      "True\n",
      "Batch exists. Loading batch.pickle\n",
      "Batch exists. Loading batch.pickle\n",
      "Batch exists. Loading batch.pickle\n",
      "Running 8fb28f4f-9047-4f6c-b955-e453c9803a5a with local backend\n",
      "starting mc\n"
     ]
    },
    {
     "name": "stderr",
     "output_type": "stream",
     "text": [
      "python(49657) MallocStackLogging: can't turn off malloc stack logging because it was not enabled.\n"
     ]
    },
    {
     "name": "stdout",
     "output_type": "stream",
     "text": [
      "mc finished successfully!\n",
      "computing projections\n",
      "Decode mmap filename /Volumes/DOI/Bruker/elavl3H2BGCaMP8m_6dpf_DOI_50ugml_44_20240923/mesmerize-batch/8fb28f4f-9047-4f6c-b955-e453c9803a5a/8fb28f4f-9047-4f6c-b955-e453c9803a5a-image_els__d1_640_d2_1024_d3_1_order_F_frames_5142.mmap\n",
      "finished computing correlation image\n",
      "Running b918c03e-8433-460b-ae25-b60b8d0d006c with local backend\n",
      "starting mc\n"
     ]
    },
    {
     "name": "stderr",
     "output_type": "stream",
     "text": [
      "python(61928) MallocStackLogging: can't turn off malloc stack logging because it was not enabled.\n"
     ]
    },
    {
     "name": "stdout",
     "output_type": "stream",
     "text": [
      "mc finished successfully!\n",
      "computing projections\n",
      "Decode mmap filename /Volumes/DOI/Bruker/elavl3H2BGCaMP8m_6dpf_DOI_50ugml_44_20240923/mesmerize-batch/b918c03e-8433-460b-ae25-b60b8d0d006c/b918c03e-8433-460b-ae25-b60b8d0d006c-image_els__d1_640_d2_1024_d3_1_order_F_frames_5142.mmap\n",
      "finished computing correlation image\n",
      "Running e4834ebe-5604-43a6-a58e-f39f25a6e43f with local backend\n",
      "starting mc\n"
     ]
    },
    {
     "name": "stderr",
     "output_type": "stream",
     "text": [
      "python(87032) MallocStackLogging: can't turn off malloc stack logging because it was not enabled.\n"
     ]
    },
    {
     "name": "stdout",
     "output_type": "stream",
     "text": [
      "mc finished successfully!\n",
      "computing projections\n",
      "Decode mmap filename /Volumes/DOI/Bruker/elavl3H2BGCaMP8m_6dpf_DOI_50ugml_44_20240923/mesmerize-batch/e4834ebe-5604-43a6-a58e-f39f25a6e43f/e4834ebe-5604-43a6-a58e-f39f25a6e43f-image_els__d1_640_d2_1024_d3_1_order_F_frames_5142.mmap\n",
      "finished computing correlation image\n",
      "Running ab809992-dedf-45f9-a698-a28c6fb84e7d with local backend\n",
      "starting mc\n"
     ]
    },
    {
     "name": "stderr",
     "output_type": "stream",
     "text": [
      "python(19390) MallocStackLogging: can't turn off malloc stack logging because it was not enabled.\n"
     ]
    },
    {
     "name": "stdout",
     "output_type": "stream",
     "text": [
      "mc finished successfully!\n",
      "computing projections\n",
      "Decode mmap filename /Volumes/DOI/Bruker/elavl3H2BGCaMP8m_6dpf_DOI_50ugml_44_20240923/mesmerize-batch/ab809992-dedf-45f9-a698-a28c6fb84e7d/ab809992-dedf-45f9-a698-a28c6fb84e7d-image_els__d1_640_d2_1024_d3_1_order_F_frames_5142.mmap\n",
      "finished computing correlation image\n",
      "True\n",
      "True\n",
      "True\n",
      "True\n",
      "True\n"
     ]
    },
    {
     "name": "stderr",
     "output_type": "stream",
     "text": [
      "/Users/minelarinel/caImageAnalysis/caImageAnalysis/bruker_2P/bruker.py:202: GuessedAtParserWarning: No parser was explicitly specified, so I'm using the best available HTML parser for this system (\"html.parser\"). This usually isn't a problem, but if you run this code on another system, or in a different virtual environment, it may use a different parser and behave differently.\n",
      "\n",
      "The code that caused this warning is on line 202 of the file /Users/minelarinel/caImageAnalysis/caImageAnalysis/bruker_2P/bruker.py. To get rid of this warning, pass the additional argument 'features=\"html.parser\"' to the BeautifulSoup constructor.\n",
      "\n",
      "  Bs_data = BeautifulSoup(log)\n",
      "/Users/minelarinel/mambaforge/envs/mescore/lib/python3.10/site-packages/bs4/builder/__init__.py:545: XMLParsedAsHTMLWarning: It looks like you're parsing an XML document using an HTML parser. If this really is an HTML document (maybe it's XHTML?), you can ignore or filter this warning. If it's XML, you should know that using an XML parser will be more reliable. To parse this document as XML, make sure you have the lxml package installed, and pass the keyword argument `features=\"xml\"` into the BeautifulSoup constructor.\n",
      "  warnings.warn(\n"
     ]
    },
    {
     "name": "stdout",
     "output_type": "stream",
     "text": [
      "Batch does not exist. Creating batch.pickle\n",
      "Batch exists. Loading batch.pickle\n",
      "Running f4d7d4d7-b107-4a98-9213-cd703ead7341 with local backend\n",
      "starting mc\n"
     ]
    },
    {
     "name": "stderr",
     "output_type": "stream",
     "text": [
      "python(37686) MallocStackLogging: can't turn off malloc stack logging because it was not enabled.\n"
     ]
    },
    {
     "name": "stdout",
     "output_type": "stream",
     "text": [
      "mc finished successfully!\n",
      "computing projections\n",
      "Decode mmap filename /Volumes/DOI/Bruker/elavl3H2BGCaMP8m_9dpf_DOI_50ugml_45_20240926/mesmerize-batch/f4d7d4d7-b107-4a98-9213-cd703ead7341/f4d7d4d7-b107-4a98-9213-cd703ead7341-image_els__d1_640_d2_1024_d3_1_order_F_frames_5142.mmap\n",
      "finished computing correlation image\n",
      "True\n",
      "Batch exists. Loading batch.pickle\n",
      "Batch exists. Loading batch.pickle\n",
      "Batch exists. Loading batch.pickle\n",
      "Running 774352c3-b68f-428c-833a-12b6611afa4a with local backend\n",
      "starting mc\n"
     ]
    },
    {
     "name": "stderr",
     "output_type": "stream",
     "text": [
      "python(65636) MallocStackLogging: can't turn off malloc stack logging because it was not enabled.\n"
     ]
    },
    {
     "name": "stdout",
     "output_type": "stream",
     "text": [
      "mc finished successfully!\n",
      "computing projections\n",
      "Decode mmap filename /Volumes/DOI/Bruker/elavl3H2BGCaMP8m_9dpf_DOI_50ugml_45_20240926/mesmerize-batch/774352c3-b68f-428c-833a-12b6611afa4a/774352c3-b68f-428c-833a-12b6611afa4a-image_els__d1_640_d2_1024_d3_1_order_F_frames_5142.mmap\n",
      "finished computing correlation image\n",
      "Running 5d23d4e4-7426-4fb3-887e-6c3acfdfc100 with local backend\n",
      "starting mc\n"
     ]
    },
    {
     "name": "stderr",
     "output_type": "stream",
     "text": [
      "python(92859) MallocStackLogging: can't turn off malloc stack logging because it was not enabled.\n"
     ]
    },
    {
     "name": "stdout",
     "output_type": "stream",
     "text": [
      "mc finished successfully!\n",
      "computing projections\n",
      "Decode mmap filename /Volumes/DOI/Bruker/elavl3H2BGCaMP8m_9dpf_DOI_50ugml_45_20240926/mesmerize-batch/5d23d4e4-7426-4fb3-887e-6c3acfdfc100/5d23d4e4-7426-4fb3-887e-6c3acfdfc100-image_els__d1_640_d2_1024_d3_1_order_F_frames_5142.mmap\n",
      "finished computing correlation image\n",
      "Running fb1abf76-a804-4ef2-8cfb-b43fdae4c9ab with local backend\n",
      "starting mc\n"
     ]
    },
    {
     "name": "stderr",
     "output_type": "stream",
     "text": [
      "python(18842) MallocStackLogging: can't turn off malloc stack logging because it was not enabled.\n"
     ]
    },
    {
     "name": "stdout",
     "output_type": "stream",
     "text": [
      "mc finished successfully!\n",
      "computing projections\n",
      "Decode mmap filename /Volumes/DOI/Bruker/elavl3H2BGCaMP8m_9dpf_DOI_50ugml_45_20240926/mesmerize-batch/fb1abf76-a804-4ef2-8cfb-b43fdae4c9ab/fb1abf76-a804-4ef2-8cfb-b43fdae4c9ab-image_els__d1_640_d2_1024_d3_1_order_F_frames_5142.mmap\n",
      "finished computing correlation image\n",
      "Running 9f4140fb-22ae-4888-9517-87f3201021ca with local backend\n",
      "starting mc\n"
     ]
    },
    {
     "name": "stderr",
     "output_type": "stream",
     "text": [
      "python(40429) MallocStackLogging: can't turn off malloc stack logging because it was not enabled.\n"
     ]
    },
    {
     "name": "stdout",
     "output_type": "stream",
     "text": [
      "mc finished successfully!\n",
      "computing projections\n",
      "Decode mmap filename /Volumes/DOI/Bruker/elavl3H2BGCaMP8m_9dpf_DOI_50ugml_45_20240926/mesmerize-batch/9f4140fb-22ae-4888-9517-87f3201021ca/9f4140fb-22ae-4888-9517-87f3201021ca-image_els__d1_640_d2_1024_d3_1_order_F_frames_5142.mmap\n",
      "finished computing correlation image\n",
      "True\n",
      "True\n",
      "True\n",
      "True\n",
      "True\n"
     ]
    },
    {
     "name": "stderr",
     "output_type": "stream",
     "text": [
      "/Users/minelarinel/caImageAnalysis/caImageAnalysis/bruker_2P/bruker.py:202: GuessedAtParserWarning: No parser was explicitly specified, so I'm using the best available HTML parser for this system (\"html.parser\"). This usually isn't a problem, but if you run this code on another system, or in a different virtual environment, it may use a different parser and behave differently.\n",
      "\n",
      "The code that caused this warning is on line 202 of the file /Users/minelarinel/caImageAnalysis/caImageAnalysis/bruker_2P/bruker.py. To get rid of this warning, pass the additional argument 'features=\"html.parser\"' to the BeautifulSoup constructor.\n",
      "\n",
      "  Bs_data = BeautifulSoup(log)\n",
      "/Users/minelarinel/mambaforge/envs/mescore/lib/python3.10/site-packages/bs4/builder/__init__.py:545: XMLParsedAsHTMLWarning: It looks like you're parsing an XML document using an HTML parser. If this really is an HTML document (maybe it's XHTML?), you can ignore or filter this warning. If it's XML, you should know that using an XML parser will be more reliable. To parse this document as XML, make sure you have the lxml package installed, and pass the keyword argument `features=\"xml\"` into the BeautifulSoup constructor.\n",
      "  warnings.warn(\n"
     ]
    },
    {
     "name": "stdout",
     "output_type": "stream",
     "text": [
      "Batch does not exist. Creating batch.pickle\n",
      "Batch exists. Loading batch.pickle\n",
      "Running fcc64b2d-ec76-4194-9c21-0055223f93dd with local backend\n",
      "starting mc\n"
     ]
    },
    {
     "name": "stderr",
     "output_type": "stream",
     "text": [
      "python(65640) MallocStackLogging: can't turn off malloc stack logging because it was not enabled.\n"
     ]
    },
    {
     "name": "stdout",
     "output_type": "stream",
     "text": [
      "mc finished successfully!\n",
      "computing projections\n",
      "Decode mmap filename /Volumes/DOI/Bruker/elavl3H2BGCaMP8m_9dpf_DOI_50ugml_46_20240926/mesmerize-batch/fcc64b2d-ec76-4194-9c21-0055223f93dd/fcc64b2d-ec76-4194-9c21-0055223f93dd-image_els__d1_640_d2_1024_d3_1_order_F_frames_5142.mmap\n",
      "finished computing correlation image\n",
      "True\n",
      "Batch exists. Loading batch.pickle\n",
      "Batch exists. Loading batch.pickle\n",
      "Batch exists. Loading batch.pickle\n",
      "Running cfbc3a96-b8fb-4242-82fd-4f2c98e4f3b6 with local backend\n",
      "starting mc\n"
     ]
    },
    {
     "name": "stderr",
     "output_type": "stream",
     "text": [
      "python(79826) MallocStackLogging: can't turn off malloc stack logging because it was not enabled.\n"
     ]
    },
    {
     "name": "stdout",
     "output_type": "stream",
     "text": [
      "mc finished successfully!\n",
      "computing projections\n",
      "Decode mmap filename /Volumes/DOI/Bruker/elavl3H2BGCaMP8m_9dpf_DOI_50ugml_46_20240926/mesmerize-batch/cfbc3a96-b8fb-4242-82fd-4f2c98e4f3b6/cfbc3a96-b8fb-4242-82fd-4f2c98e4f3b6-image_els__d1_640_d2_1024_d3_1_order_F_frames_5142.mmap\n",
      "finished computing correlation image\n",
      "Running d662a650-88c7-4b3b-a43c-dcde990a45a2 with local backend\n",
      "starting mc\n"
     ]
    },
    {
     "name": "stderr",
     "output_type": "stream",
     "text": [
      "python(5599) MallocStackLogging: can't turn off malloc stack logging because it was not enabled.\n"
     ]
    },
    {
     "name": "stdout",
     "output_type": "stream",
     "text": [
      "mc finished successfully!\n",
      "computing projections\n",
      "Decode mmap filename /Volumes/DOI/Bruker/elavl3H2BGCaMP8m_9dpf_DOI_50ugml_46_20240926/mesmerize-batch/d662a650-88c7-4b3b-a43c-dcde990a45a2/d662a650-88c7-4b3b-a43c-dcde990a45a2-image_els__d1_640_d2_1024_d3_1_order_F_frames_5142.mmap\n",
      "finished computing correlation image\n",
      "Running e8fa0085-a224-4d7f-a225-47ba6dcfcfea with local backend\n",
      "starting mc\n"
     ]
    },
    {
     "name": "stderr",
     "output_type": "stream",
     "text": [
      "python(29158) MallocStackLogging: can't turn off malloc stack logging because it was not enabled.\n"
     ]
    },
    {
     "name": "stdout",
     "output_type": "stream",
     "text": [
      "mc finished successfully!\n",
      "computing projections\n",
      "Decode mmap filename /Volumes/DOI/Bruker/elavl3H2BGCaMP8m_9dpf_DOI_50ugml_46_20240926/mesmerize-batch/e8fa0085-a224-4d7f-a225-47ba6dcfcfea/e8fa0085-a224-4d7f-a225-47ba6dcfcfea-image_els__d1_640_d2_1024_d3_1_order_F_frames_5142.mmap\n",
      "finished computing correlation image\n",
      "Running 78db67bb-e859-4c41-8e68-213c413086bb with local backend\n",
      "starting mc\n"
     ]
    },
    {
     "name": "stderr",
     "output_type": "stream",
     "text": [
      "python(42984) MallocStackLogging: can't turn off malloc stack logging because it was not enabled.\n"
     ]
    },
    {
     "name": "stdout",
     "output_type": "stream",
     "text": [
      "mc finished successfully!\n",
      "computing projections\n",
      "Decode mmap filename /Volumes/DOI/Bruker/elavl3H2BGCaMP8m_9dpf_DOI_50ugml_46_20240926/mesmerize-batch/78db67bb-e859-4c41-8e68-213c413086bb/78db67bb-e859-4c41-8e68-213c413086bb-image_els__d1_640_d2_1024_d3_1_order_F_frames_5142.mmap\n",
      "finished computing correlation image\n",
      "True\n",
      "True\n",
      "True\n",
      "True\n",
      "True\n"
     ]
    }
   ],
   "source": [
    "# Change this path to the experiment folder\n",
    "# exp_folders = ['elavl3H2BGCaMP8m_6dpf_DOI_50ugml_31_20240617', 'elavl3H2BGCaMP8m_9dpf_DOI_50ugml_32_20240620', 'elavl3H2BGCaMP8m_10dpf_DOI_50ugml_33_20240621', 'elavl3H2BGCaMP8m_7dpf_DOI_50ugml_34_20240723',\n",
    "# \t\t\t   'elavl3H2BGCaMP8m_7dpf_DOI_50ugml_35_20240723', 'elavl3H2BGCaMP8m_7dpf_DOI_50ugml_36_20240723', 'elavl3H2BGCaMP8m_8dpf_DOI_50ugml_37_20240724',\n",
    "# \t\t\t   'elavl3H2BGCaMP8m_6dpf_DOI_50ugml_38_20240729', 'elavl3H2BGCaMP8m_6dpf_DOI_50ugml_39_20240729', 'elavl3H2BGCaMP8m_8dpf_DOI_50ugml_40_20240807',\n",
    "# \t\t\t   'elavl3H2BGCaMP8m_8dpf_DOI_50ugml_41_20240807']\n",
    "\n",
    "exp_folders = ['elavl3H2BGCaMP8m_6dpf_DOI_50ugml_42_20240916', 'elavl3H2BGCaMP8m_6dpf_DOI_50ugml_43_20240923', 'elavl3H2BGCaMP8m_6dpf_DOI_50ugml_44_20240923',\n",
    "\t\t\t   'elavl3H2BGCaMP8m_9dpf_DOI_50ugml_45_20240926', 'elavl3H2BGCaMP8m_9dpf_DOI_50ugml_46_20240926']\n",
    "\n",
    "\n",
    "for exp_f in exp_folders:\n",
    "\texp_folder = rf'/Volumes/DOI/Bruker/{exp_f}'\n",
    "\tregion = 'planes'\n",
    "\tgavage = False\n",
    "\tanatomy = 'anatomystack'\n",
    "\n",
    "\t# Initialize BrukerFish\n",
    "\tfish = BrukerFish(exp_folder, region=region, gavage=gavage, anatomy=anatomy)\n",
    "\n",
    "\tplane = 0\n",
    "\n",
    "\t# Set combination of values to try\n",
    "\tif 'vagal' in fish.data_paths['raw'].name:\n",
    "\t\tstrides = [100]  # start a new patch for pw-rigid motion correction every x pixels\n",
    "\t\toverlaps = [50]  # overlap between patches (size of patch strides+overlaps)\n",
    "\t\tmax_shifts = [30]  # maximum allowed rigid shifts (in pixels)\n",
    "\t\tmax_deviation_rigid = [10]  # maximum shifts deviation allowed for patch with respect to rigid shifts\n",
    "\n",
    "\telif 'DOI' in str(fish.data_paths['raw']):  # for zoomed out 1024x1024 DOI recordings\n",
    "\t\tstrides = [160]\n",
    "\t\toverlaps = [60]\n",
    "\t\tmax_shifts = [40]\n",
    "\t\tmax_deviation_rigid = [40]\n",
    "\n",
    "\telse:  # for hindbrain and other brain regions\n",
    "\t\tstrides = [80]\n",
    "\t\toverlaps = [30]\n",
    "\t\tmax_shifts = [20]\n",
    "\t\tmax_deviation_rigid = [20]\n",
    "\n",
    "\t# Add the combination of parameters to a mes_df dataframe\n",
    "\timg_path = fish.data_paths['volumes'][str(plane)]['image']\n",
    "\tmes_df = add_mcorr(fish, [img_path], grid=True, \n",
    "\t\t\t\t\t\t\tstrides=strides, \n",
    "\t\t\t\t\t\t\toverlaps=overlaps,\n",
    "\t\t\t\t\t\t\tmax_shifts=max_shifts,\n",
    "\t\t\t\t\t\t\tmax_deviation_rigid=max_deviation_rigid)\n",
    "\n",
    "\tmes_df = load_mesmerize(fish)\n",
    "\trun_mesmerize(mes_df)\n",
    "\tmes_df = mes_df.caiman.reload_from_disk()\n",
    "\n",
    "\t# See the rows that were successfully run\n",
    "\tfor output in mes_df.loc[:, 'outputs']:\n",
    "\t\tprint(output['success'])\n",
    "\n",
    "\t# Adds every other plane in the volume with the same parameters as the leftover, chosen index\n",
    "\tfish.process_mesmerize_filestructure()\n",
    "\tmes_df = add_volume(fish, algo='mcorr')  \n",
    "\n",
    "\t# Run mesmerize on the entire volume\n",
    "\trun_mesmerize(mes_df)\n",
    "\tmes_df = mes_df.caiman.reload_from_disk()\n",
    "\n",
    "\t# See the rows that were successfully run\n",
    "\tfor output in mes_df.loc[:, 'outputs']:\n",
    "\t\tprint(output['success'])"
   ]
  },
  {
   "cell_type": "markdown",
   "id": "4bbc00ce",
   "metadata": {},
   "source": [
    "### Change the exp_folder to the path of the experiment"
   ]
  },
  {
   "cell_type": "code",
   "execution_count": 53,
   "id": "cd0d8c26",
   "metadata": {},
   "outputs": [],
   "source": [
    "# Change this path to the experiment folder\n",
    "exp_folder = r'/Volumes/Rapid/bruker2P_data/elavl3H2BGCaMP8m_7dpf_fed_AITC_25mM_52_20240528'\n",
    "region = 'hindbrain'\n",
    "gavage = True\n",
    "anatomy = ''"
   ]
  },
  {
   "cell_type": "code",
   "execution_count": 54,
   "id": "0c539866",
   "metadata": {
    "scrolled": true
   },
   "outputs": [
    {
     "name": "stderr",
     "output_type": "stream",
     "text": [
      "/Users/minelarinel/caImageAnalysis/caImageAnalysis/bruker_2P/bruker.py:202: GuessedAtParserWarning: No parser was explicitly specified, so I'm using the best available HTML parser for this system (\"html.parser\"). This usually isn't a problem, but if you run this code on another system, or in a different virtual environment, it may use a different parser and behave differently.\n",
      "\n",
      "The code that caused this warning is on line 202 of the file /Users/minelarinel/caImageAnalysis/caImageAnalysis/bruker_2P/bruker.py. To get rid of this warning, pass the additional argument 'features=\"html.parser\"' to the BeautifulSoup constructor.\n",
      "\n",
      "  Bs_data = BeautifulSoup(log)\n",
      "/Users/minelarinel/mambaforge/envs/mescore/lib/python3.10/site-packages/bs4/builder/__init__.py:545: XMLParsedAsHTMLWarning: It looks like you're parsing an XML document using an HTML parser. If this really is an HTML document (maybe it's XHTML?), you can ignore or filter this warning. If it's XML, you should know that using an XML parser will be more reliable. To parse this document as XML, make sure you have the lxml package installed, and pass the keyword argument `features=\"xml\"` into the BeautifulSoup constructor.\n",
      "  warnings.warn(\n"
     ]
    },
    {
     "data": {
      "text/plain": [
       "{'raw': PosixPath('/Volumes/Rapid/bruker2P_data/elavl3H2BGCaMP8m_7dpf_fed_AITC_25mM_52_20240528/hindbrain-000'),\n",
       " 'frametimes': PosixPath('/Volumes/Rapid/bruker2P_data/elavl3H2BGCaMP8m_7dpf_fed_AITC_25mM_52_20240528/hindbrain_frametimes.txt'),\n",
       " 'raw_image': PosixPath('/Volumes/Rapid/bruker2P_data/elavl3H2BGCaMP8m_7dpf_fed_AITC_25mM_52_20240528/hindbrain_ch2.tif'),\n",
       " 'rotated': PosixPath('/Volumes/Rapid/bruker2P_data/elavl3H2BGCaMP8m_7dpf_fed_AITC_25mM_52_20240528/raw_rotated.tif'),\n",
       " 'anatomy': PosixPath('/Volumes/Rapid/bruker2P_data/elavl3H2BGCaMP8m_7dpf_fed_AITC_25mM_52_20240528/anatomy.tif'),\n",
       " 'log': PosixPath('/Volumes/Rapid/bruker2P_data/elavl3H2BGCaMP8m_7dpf_fed_AITC_25mM_52_20240528/hindbrain-000/hindbrain-000.xml'),\n",
       " 'voltage_output': PosixPath('/Volumes/Rapid/bruker2P_data/elavl3H2BGCaMP8m_7dpf_fed_AITC_25mM_52_20240528/hindbrain-000/hindbrain-000_Cycle00001_VoltageOutput_001.xml'),\n",
       " 'references': PosixPath('/Volumes/Rapid/bruker2P_data/elavl3H2BGCaMP8m_7dpf_fed_AITC_25mM_52_20240528/hindbrain-000/References'),\n",
       " 'volumes': {'0': {'image': PosixPath('/Volumes/Rapid/bruker2P_data/elavl3H2BGCaMP8m_7dpf_fed_AITC_25mM_52_20240528/img_stack_0/image.tif'),\n",
       "   'frametimes': PosixPath('/Volumes/Rapid/bruker2P_data/elavl3H2BGCaMP8m_7dpf_fed_AITC_25mM_52_20240528/img_stack_0/frametimes.h5')},\n",
       "  '1': {'image': PosixPath('/Volumes/Rapid/bruker2P_data/elavl3H2BGCaMP8m_7dpf_fed_AITC_25mM_52_20240528/img_stack_1/image.tif'),\n",
       "   'frametimes': PosixPath('/Volumes/Rapid/bruker2P_data/elavl3H2BGCaMP8m_7dpf_fed_AITC_25mM_52_20240528/img_stack_1/frametimes.h5')},\n",
       "  '2': {'image': PosixPath('/Volumes/Rapid/bruker2P_data/elavl3H2BGCaMP8m_7dpf_fed_AITC_25mM_52_20240528/img_stack_2/image.tif'),\n",
       "   'frametimes': PosixPath('/Volumes/Rapid/bruker2P_data/elavl3H2BGCaMP8m_7dpf_fed_AITC_25mM_52_20240528/img_stack_2/frametimes.h5')},\n",
       "  '3': {'image': PosixPath('/Volumes/Rapid/bruker2P_data/elavl3H2BGCaMP8m_7dpf_fed_AITC_25mM_52_20240528/img_stack_3/image.tif'),\n",
       "   'frametimes': PosixPath('/Volumes/Rapid/bruker2P_data/elavl3H2BGCaMP8m_7dpf_fed_AITC_25mM_52_20240528/img_stack_3/frametimes.h5')},\n",
       "  '4': {'image': PosixPath('/Volumes/Rapid/bruker2P_data/elavl3H2BGCaMP8m_7dpf_fed_AITC_25mM_52_20240528/img_stack_4/image.tif'),\n",
       "   'frametimes': PosixPath('/Volumes/Rapid/bruker2P_data/elavl3H2BGCaMP8m_7dpf_fed_AITC_25mM_52_20240528/img_stack_4/frametimes.h5')}}}"
      ]
     },
     "execution_count": 54,
     "metadata": {},
     "output_type": "execute_result"
    }
   ],
   "source": [
    "# Initialize BrukerFish\n",
    "fish = BrukerFish(exp_folder, region=region, gavage=gavage, anatomy=anatomy)\n",
    "fish.data_paths"
   ]
  },
  {
   "cell_type": "markdown",
   "id": "5b23a421",
   "metadata": {},
   "source": [
    "## IF VOLUMETRIC: Pick a plane to apply movement correction"
   ]
  },
  {
   "cell_type": "code",
   "execution_count": 22,
   "id": "4e4a0a28",
   "metadata": {
    "scrolled": false
   },
   "outputs": [
    {
     "data": {
      "application/vnd.jupyter.widget-view+json": {
       "model_id": "4d40918a7d1a411fa1fcd96c6cb7686e",
       "version_major": 2,
       "version_minor": 0
      },
      "text/plain": [
       "RFBOutputContext()"
      ]
     },
     "metadata": {},
     "output_type": "display_data"
    },
    {
     "data": {
      "application/vnd.jupyter.widget-view+json": {
       "model_id": "a2845040f5564ff889c2b8c2212ebd62",
       "version_major": 2,
       "version_minor": 0
      },
      "text/plain": [
       "VBox(children=(JupyterWgpuCanvas(), IntSlider(value=0, description='dimension: t', max=5352), FloatRangeSlider…"
      ]
     },
     "metadata": {},
     "output_type": "display_data"
    },
    {
     "name": "stderr",
     "output_type": "stream",
     "text": [
      "WARNING:Comm:No such comm: 840de8afdef74852ada12112f56c1160\n",
      "WARNING:Comm:No such comm: 840de8afdef74852ada12112f56c1160\n"
     ]
    }
   ],
   "source": [
    "iw = visualize_volumes(fish)\n",
    "iw.show()"
   ]
  },
  {
   "cell_type": "code",
   "execution_count": 23,
   "id": "474f0d65",
   "metadata": {},
   "outputs": [],
   "source": [
    "iw.plot.canvas.close()"
   ]
  },
  {
   "cell_type": "code",
   "execution_count": 6,
   "id": "d8f1a6cd",
   "metadata": {},
   "outputs": [],
   "source": [
    "# Change this to the plane you want to test motion correction parameters on\n",
    "plane = 0"
   ]
  },
  {
   "cell_type": "markdown",
   "id": "2ccf19be",
   "metadata": {},
   "source": [
    "## Set parameters"
   ]
  },
  {
   "cell_type": "code",
   "execution_count": 5,
   "id": "76ac0392",
   "metadata": {},
   "outputs": [],
   "source": [
    "# motion correction parameters\n",
    "strides = (80, 80)          # start a new patch for pw-rigid motion correction every x pixels\n",
    "overlaps = (30, 30)         # overlap between pathes (size of patch strides+overlaps)\n",
    "max_shifts = (20, 20)          # maximum allowed rigid shifts (in pixels)\n",
    "max_deviation_rigid = 20     # maximum shifts deviation allowed for patch with respect to rigid shifts\n",
    "pw_rigid = True             # flag for performing non-rigid motion correction"
   ]
  },
  {
   "cell_type": "code",
   "execution_count": 6,
   "id": "c345b21d",
   "metadata": {},
   "outputs": [],
   "source": [
    "opts_dict = {'strides': strides,\n",
    "            'overlaps': overlaps,\n",
    "            'max_shifts': max_shifts,\n",
    "            'max_deviation_rigid': max_deviation_rigid,\n",
    "            'pw_rigid': pw_rigid}"
   ]
  },
  {
   "cell_type": "markdown",
   "id": "23f04571",
   "metadata": {},
   "source": [
    "## Motion correct"
   ]
  },
  {
   "cell_type": "code",
   "execution_count": 7,
   "id": "1dc4abfe",
   "metadata": {
    "scrolled": true
   },
   "outputs": [
    {
     "name": "stderr",
     "output_type": "stream",
     "text": [
      "100%|██████████| 1/1 [00:17<00:00, 17.24s/it]\n",
      "  0%|          | 0/1 [00:00<?, ?it/s]"
     ]
    },
    {
     "name": "stdout",
     "output_type": "stream",
     "text": [
      "Decode mmap filename /Users/minelarinel/Documents/Duke University/Naumann Lab/DOI/Brain imaging/elavl3H2BGCaMP6s_11dpf_DOI_50ugml_5_20231104/motor_pretectum-000_ch2_els__d1_1024_d2_1024_d3_1_order_F_frames_2046.mmap\n"
     ]
    },
    {
     "name": "stderr",
     "output_type": "stream",
     "text": [
      "100%|██████████| 1/1 [01:00<00:00, 60.75s/it]\n"
     ]
    },
    {
     "name": "stdout",
     "output_type": "stream",
     "text": [
      "Decode mmap filename /Users/minelarinel/Documents/Duke University/Naumann Lab/DOI/Brain imaging/elavl3H2BGCaMP6s_11dpf_DOI_50ugml_5_20231104/motor_pretectum-000_ch2_els__d1_1024_d2_1024_d3_1_order_F_frames_2046.mmap\n",
      "/Users/minelarinel/Documents/Duke University/Naumann Lab/DOI/Brain imaging/elavl3H2BGCaMP6s_11dpf_DOI_50ugml_5_20231104/memmap_d1_1024_d2_1024_d3_1_order_C_frames_2046.mmap\n",
      "Decode mmap filename /Users/minelarinel/Documents/Duke University/Naumann Lab/DOI/Brain imaging/elavl3H2BGCaMP6s_11dpf_DOI_50ugml_5_20231104/memmap_d1_1024_d2_1024_d3_1_order_C_frames_2046.mmap\n"
     ]
    }
   ],
   "source": [
    "if fish.volumetric:\n",
    "    mcorr_img = caiman_mcorr(fish, plane=plane, **opts_dict)\n",
    "else:\n",
    "    mcorr_img = caiman_mcorr(fish, **opts_dict)"
   ]
  },
  {
   "cell_type": "code",
   "execution_count": null,
   "id": "11ea1936",
   "metadata": {},
   "outputs": [
    {
     "data": {
      "application/vnd.jupyter.widget-view+json": {
       "model_id": "2ad3618c392d40e8ab93e72b8ef994c6",
       "version_major": 2,
       "version_minor": 0
      },
      "text/plain": [
       "RFBOutputContext()"
      ]
     },
     "metadata": {},
     "output_type": "display_data"
    },
    {
     "data": {
      "application/vnd.jupyter.widget-view+json": {
       "model_id": "f6c4588e5947489897bd89b81470ffb7",
       "version_major": 2,
       "version_minor": 0
      },
      "text/plain": [
       "VBox(children=(JupyterWgpuCanvas(), IntSlider(value=0, description='dimension: t', max=2045), FloatRangeSlider…"
      ]
     },
     "metadata": {},
     "output_type": "display_data"
    },
    {
     "name": "stderr",
     "output_type": "stream",
     "text": [
      "     4159376 [base_comm.py:            get_comm():212] [14050] No such comm: fae746f620d04415b0cd37220fe929d9\n",
      "     4159378 [base_comm.py:            get_comm():212] [14050] No such comm: fae746f620d04415b0cd37220fe929d9\n",
      "     4159379 [base_comm.py:            get_comm():212] [14050] No such comm: fae746f620d04415b0cd37220fe929d9\n",
      "     4159381 [base_comm.py:            get_comm():212] [14050] No such comm: fae746f620d04415b0cd37220fe929d9\n",
      "     4159381 [base_comm.py:            get_comm():212] [14050] No such comm: fae746f620d04415b0cd37220fe929d9\n",
      "     4159382 [base_comm.py:            get_comm():212] [14050] No such comm: fae746f620d04415b0cd37220fe929d9\n",
      "     4159384 [base_comm.py:            get_comm():212] [14050] No such comm: fae746f620d04415b0cd37220fe929d9\n",
      "     4159386 [base_comm.py:            get_comm():212] [14050] No such comm: fae746f620d04415b0cd37220fe929d9\n",
      "     4159388 [base_comm.py:            get_comm():212] [14050] No such comm: fae746f620d04415b0cd37220fe929d9\n",
      "     4159390 [base_comm.py:            get_comm():212] [14050] No such comm: fae746f620d04415b0cd37220fe929d9\n",
      "     4159392 [base_comm.py:            get_comm():212] [14050] No such comm: fae746f620d04415b0cd37220fe929d9\n",
      "     4159394 [base_comm.py:            get_comm():212] [14050] No such comm: fae746f620d04415b0cd37220fe929d9\n",
      "     4159396 [base_comm.py:            get_comm():212] [14050] No such comm: fae746f620d04415b0cd37220fe929d9\n",
      "     4159397 [base_comm.py:            get_comm():212] [14050] No such comm: fae746f620d04415b0cd37220fe929d9\n",
      "     4159398 [base_comm.py:            get_comm():212] [14050] No such comm: fae746f620d04415b0cd37220fe929d9\n",
      "     4159399 [base_comm.py:            get_comm():212] [14050] No such comm: fae746f620d04415b0cd37220fe929d9\n",
      "     4181274 [base_comm.py:            get_comm():212] [14050] No such comm: fae746f620d04415b0cd37220fe929d9\n",
      "     4181281 [base_comm.py:            get_comm():212] [14050] No such comm: fae746f620d04415b0cd37220fe929d9\n"
     ]
    }
   ],
   "source": [
    "# Compare the results\n",
    "if fish.volumetric:\n",
    "    orig = memmap(fish.data_paths['volumes'][str(plane)]['image'])\n",
    "else:\n",
    "    orig = memmap(fish.data_paths['raw_image'])\n",
    "caiman_iw = visualize_images([orig, mcorr_img], names=['original', 'mcorr'])\n",
    "caiman_iw.show()"
   ]
  },
  {
   "cell_type": "code",
   "execution_count": 9,
   "id": "c5f6cfce",
   "metadata": {},
   "outputs": [],
   "source": [
    "caiman_iw.plot.canvas.close()"
   ]
  },
  {
   "cell_type": "markdown",
   "id": "6988dfe1",
   "metadata": {},
   "source": [
    "## Optimize parameters with Mesmerize"
   ]
  },
  {
   "cell_type": "markdown",
   "id": "9df6d492",
   "metadata": {},
   "source": [
    "### Motion correction parameters"
   ]
  },
  {
   "cell_type": "code",
   "execution_count": 55,
   "id": "70902458",
   "metadata": {},
   "outputs": [],
   "source": [
    "# Set combination of values to try\n",
    "if 'vagal' in fish.data_paths['raw'].name:\n",
    "\tstrides = [100]  # start a new patch for pw-rigid motion correction every x pixels\n",
    "\toverlaps = [50]  # overlap between patches (size of patch strides+overlaps)\n",
    "\tmax_shifts = [30]  # maximum allowed rigid shifts (in pixels)\n",
    "\tmax_deviation_rigid = [10]  # maximum shifts deviation allowed for patch with respect to rigid shifts\n",
    "\n",
    "elif 'DOI' in str(fish.data_paths['raw']):  # for zoomed out 1024x1024 DOI recordings\n",
    "\tstrides = [160]\n",
    "\toverlaps = [60]\n",
    "\tmax_shifts = [40]\n",
    "\tmax_deviation_rigid = [40]\n",
    "\n",
    "else:  # for hindbrain and other brain regions\n",
    "\tstrides = [80]\n",
    "\toverlaps = [30]\n",
    "\tmax_shifts = [20]\n",
    "\tmax_deviation_rigid = [20]"
   ]
  },
  {
   "cell_type": "code",
   "execution_count": 56,
   "id": "21b4c922",
   "metadata": {},
   "outputs": [
    {
     "name": "stdout",
     "output_type": "stream",
     "text": [
      "Batch does not exist. Creating batch.pickle\n"
     ]
    }
   ],
   "source": [
    "# Add the combination of parameters to a mes_df dataframe\n",
    "img_path = fish.data_paths['volumes'][str(plane)]['image']\n",
    "mes_df = add_mcorr(fish, [img_path], grid=True, \n",
    "                         strides=strides, \n",
    "                         overlaps=overlaps,\n",
    "                         max_shifts=max_shifts,\n",
    "                         max_deviation_rigid=max_deviation_rigid)"
   ]
  },
  {
   "cell_type": "code",
   "execution_count": 57,
   "id": "7e340584",
   "metadata": {},
   "outputs": [
    {
     "data": {
      "text/html": [
       "<div>\n",
       "<style scoped>\n",
       "    .dataframe tbody tr th:only-of-type {\n",
       "        vertical-align: middle;\n",
       "    }\n",
       "\n",
       "    .dataframe tbody tr th {\n",
       "        vertical-align: top;\n",
       "    }\n",
       "\n",
       "    .dataframe thead th {\n",
       "        text-align: right;\n",
       "    }\n",
       "</style>\n",
       "<table border=\"1\" class=\"dataframe\">\n",
       "  <thead>\n",
       "    <tr style=\"text-align: right;\">\n",
       "      <th></th>\n",
       "      <th>algo</th>\n",
       "      <th>item_name</th>\n",
       "      <th>input_movie_path</th>\n",
       "      <th>params</th>\n",
       "      <th>outputs</th>\n",
       "      <th>added_time</th>\n",
       "      <th>ran_time</th>\n",
       "      <th>algo_duration</th>\n",
       "      <th>comments</th>\n",
       "      <th>uuid</th>\n",
       "    </tr>\n",
       "  </thead>\n",
       "  <tbody>\n",
       "    <tr>\n",
       "      <th>0</th>\n",
       "      <td>mcorr</td>\n",
       "      <td>img_stack_0</td>\n",
       "      <td>img_stack_0/image.tif</td>\n",
       "      <td>{'main': {'strides': (80, 80), 'overlaps': (30, 30), 'max_shifts': (20, 20), 'max_deviation_rigid': 20, 'pw_rigid': ...</td>\n",
       "      <td>None</td>\n",
       "      <td>2024-08-16T17:16:43</td>\n",
       "      <td>None</td>\n",
       "      <td>None</td>\n",
       "      <td>None</td>\n",
       "      <td>c857fdda-a3a8-4912-89db-33ca1a7dbdda</td>\n",
       "    </tr>\n",
       "  </tbody>\n",
       "</table>\n",
       "</div>"
      ],
      "text/plain": [
       "    algo    item_name       input_movie_path  \\\n",
       "0  mcorr  img_stack_0  img_stack_0/image.tif   \n",
       "\n",
       "                                                                                                                    params  \\\n",
       "0  {'main': {'strides': (80, 80), 'overlaps': (30, 30), 'max_shifts': (20, 20), 'max_deviation_rigid': 20, 'pw_rigid': ...   \n",
       "\n",
       "  outputs           added_time ran_time algo_duration comments  \\\n",
       "0    None  2024-08-16T17:16:43     None          None     None   \n",
       "\n",
       "                                   uuid  \n",
       "0  c857fdda-a3a8-4912-89db-33ca1a7dbdda  "
      ]
     },
     "execution_count": 57,
     "metadata": {},
     "output_type": "execute_result"
    }
   ],
   "source": [
    "mes_df"
   ]
  },
  {
   "cell_type": "code",
   "execution_count": 58,
   "id": "3dec0008",
   "metadata": {},
   "outputs": [
    {
     "name": "stderr",
     "output_type": "stream",
     "text": [
      "/var/folders/48/8y2gqcvx5q5575kwkzngl6qw0000gn/T/ipykernel_14569/688498701.py:2: FutureWarning: You are trying to use the following experimental feature, this may change in the future without warning:\n",
      "CaimanDataFrameExtensions.get_params_diffs\n",
      "This feature is new and the might improve in the future\n",
      "\n",
      "  diffs = mes_df.caiman.get_params_diffs(algo=\"mcorr\", item_name=mes_df.iloc[0][\"item_name\"])\n"
     ]
    },
    {
     "data": {
      "text/plain": [
       "0    {}\n",
       "Name: params, dtype: object"
      ]
     },
     "execution_count": 58,
     "metadata": {},
     "output_type": "execute_result"
    }
   ],
   "source": [
    "# See the unique parameters between rows with the same item_name\n",
    "diffs = mes_df.caiman.get_params_diffs(algo=\"mcorr\", item_name=mes_df.iloc[0][\"item_name\"])\n",
    "diffs"
   ]
  },
  {
   "cell_type": "markdown",
   "id": "ec970f45",
   "metadata": {},
   "source": [
    "### Run motion correction with the given parameter space"
   ]
  },
  {
   "cell_type": "code",
   "execution_count": 59,
   "id": "1c7e166e",
   "metadata": {
    "scrolled": true
   },
   "outputs": [
    {
     "name": "stdout",
     "output_type": "stream",
     "text": [
      "Batch exists. Loading batch.pickle\n",
      "Running c857fdda-a3a8-4912-89db-33ca1a7dbdda with local backend\n",
      "starting mc\n",
      "mc finished successfully!\n",
      "computing projections\n",
      "Decode mmap filename /Volumes/Rapid/bruker2P_data/elavl3H2BGCaMP8m_7dpf_fed_AITC_25mM_52_20240528/mesmerize-batch/c857fdda-a3a8-4912-89db-33ca1a7dbdda/c857fdda-a3a8-4912-89db-33ca1a7dbdda-image_els__d1_512_d2_512_d3_1_order_F_frames_1174.mmap\n",
      "finished computing correlation image\n"
     ]
    }
   ],
   "source": [
    "mes_df = load_mesmerize(fish)\n",
    "run_mesmerize(mes_df)\n",
    "mes_df = mes_df.caiman.reload_from_disk()"
   ]
  },
  {
   "cell_type": "code",
   "execution_count": 48,
   "id": "f4539ccc",
   "metadata": {},
   "outputs": [
    {
     "name": "stdout",
     "output_type": "stream",
     "text": [
      "True\n"
     ]
    }
   ],
   "source": [
    "# See the rows that were successfully run\n",
    "for output in mes_df.loc[:, 'outputs']:\n",
    "    print(output['success'])"
   ]
  },
  {
   "cell_type": "markdown",
   "id": "7694ca58",
   "metadata": {},
   "source": [
    "### Visualize outputs"
   ]
  },
  {
   "cell_type": "code",
   "execution_count": 27,
   "id": "94446064",
   "metadata": {
    "scrolled": false
   },
   "outputs": [
    {
     "name": "stdout",
     "output_type": "stream",
     "text": [
      "Batch exists. Loading batch.pickle\n",
      "Decode mmap filename /Volumes/Rapid/bruker2P_data/elavl3H2BGCaMP8m_10dpf_fed_glucose_500mM_3_20230818/mesmerize-batch/6dbcf444-a022-49f2-9564-b1be818fd7a3/6dbcf444-a022-49f2-9564-b1be818fd7a3-image_els__d1_512_d2_512_d3_1_order_F_frames_1174.mmap\n"
     ]
    },
    {
     "data": {
      "application/vnd.jupyter.widget-view+json": {
       "model_id": "29736fec656a4f7e92a60da3795574ea",
       "version_major": 2,
       "version_minor": 0
      },
      "text/plain": [
       "RFBOutputContext()"
      ]
     },
     "metadata": {},
     "output_type": "display_data"
    },
    {
     "data": {
      "application/vnd.jupyter.widget-view+json": {
       "model_id": "f4566863a1d44f30985969a54ad7dc01",
       "version_major": 2,
       "version_minor": 0
      },
      "text/plain": [
       "VBox(children=(JupyterWgpuCanvas(), IntSlider(value=0, description='dimension: t', max=1173), FloatRangeSlider…"
      ]
     },
     "metadata": {},
     "output_type": "display_data"
    }
   ],
   "source": [
    "# Compare the raw image to motion corrected ones\n",
    "mes_df = load_mesmerize(fish)\n",
    "mcorr_iw = visualize_mesmerize(mes_df, 'mcorr')\n",
    "mcorr_iw.show()"
   ]
  },
  {
   "cell_type": "code",
   "execution_count": 28,
   "id": "61bd8954",
   "metadata": {},
   "outputs": [],
   "source": [
    "mcorr_iw.plot.canvas.close()"
   ]
  },
  {
   "cell_type": "code",
   "execution_count": 21,
   "id": "370a7765",
   "metadata": {},
   "outputs": [
    {
     "name": "stdout",
     "output_type": "stream",
     "text": [
      "Decode mmap filename /Volumes/DOI/Bruker/elavl3H2BGCaMP8m_10dpf_DOI_50ugml_22_20240426/mesmerize-batch/492b1576-89f8-495b-a8a5-89ba283d13e0/492b1576-89f8-495b-a8a5-89ba283d13e0-image_els__d1_730_d2_1024_d3_1_order_F_frames_4565.mmap\n"
     ]
    },
    {
     "data": {
      "application/vnd.jupyter.widget-view+json": {
       "model_id": "445ed60491b645c78ec751b2629e5527",
       "version_major": 2,
       "version_minor": 0
      },
      "text/plain": [
       "RFBOutputContext()"
      ]
     },
     "metadata": {},
     "output_type": "display_data"
    },
    {
     "data": {
      "application/vnd.jupyter.widget-view+json": {
       "model_id": "afbc97fd826e40b6a6f287cd12c8e0ab",
       "version_major": 2,
       "version_minor": 0
      },
      "text/plain": [
       "VBox(children=(JupyterWgpuCanvas(), IntSlider(value=0, description='dimension: t', max=4564), FloatRangeSlider…"
      ]
     },
     "metadata": {},
     "output_type": "display_data"
    }
   ],
   "source": [
    "# Visualize the difference of each frame from the mean\n",
    "mcorr_diff_iw = visualize_diff(mes_df)\n",
    "mcorr_diff_iw.show()"
   ]
  },
  {
   "cell_type": "code",
   "execution_count": 22,
   "id": "c8e13427",
   "metadata": {},
   "outputs": [
    {
     "name": "stderr",
     "output_type": "stream",
     "text": [
      "WARNING:Comm:No such comm: 0ff75ee9247b4a41adcb5b7654f72bb1\n",
      "WARNING:Comm:No such comm: 0ff75ee9247b4a41adcb5b7654f72bb1\n"
     ]
    }
   ],
   "source": [
    "mcorr_diff_iw.plot.canvas.close()"
   ]
  },
  {
   "cell_type": "markdown",
   "id": "86cfed8f",
   "metadata": {},
   "source": [
    "### Choose an index with the best parameters"
   ]
  },
  {
   "cell_type": "code",
   "execution_count": 30,
   "id": "bda26abf",
   "metadata": {},
   "outputs": [],
   "source": [
    "# Change the row index here that you want to keep\n",
    "# If you want to delete all rows to start over, keep the list empty\n",
    "indices = [0]"
   ]
  },
  {
   "cell_type": "code",
   "execution_count": 31,
   "id": "43ec449c",
   "metadata": {
    "scrolled": true
   },
   "outputs": [
    {
     "name": "stdout",
     "output_type": "stream",
     "text": [
      "Batch exists. Loading batch.pickle\n"
     ]
    },
    {
     "data": {
      "text/html": [
       "<div>\n",
       "<style scoped>\n",
       "    .dataframe tbody tr th:only-of-type {\n",
       "        vertical-align: middle;\n",
       "    }\n",
       "\n",
       "    .dataframe tbody tr th {\n",
       "        vertical-align: top;\n",
       "    }\n",
       "\n",
       "    .dataframe thead th {\n",
       "        text-align: right;\n",
       "    }\n",
       "</style>\n",
       "<table border=\"1\" class=\"dataframe\">\n",
       "  <thead>\n",
       "    <tr style=\"text-align: right;\">\n",
       "      <th></th>\n",
       "      <th>algo</th>\n",
       "      <th>item_name</th>\n",
       "      <th>input_movie_path</th>\n",
       "      <th>params</th>\n",
       "      <th>outputs</th>\n",
       "      <th>added_time</th>\n",
       "      <th>ran_time</th>\n",
       "      <th>algo_duration</th>\n",
       "      <th>comments</th>\n",
       "      <th>uuid</th>\n",
       "    </tr>\n",
       "  </thead>\n",
       "  <tbody>\n",
       "    <tr>\n",
       "      <th>0</th>\n",
       "      <td>mcorr</td>\n",
       "      <td>img_stack_0</td>\n",
       "      <td>img_stack_0/image.tif</td>\n",
       "      <td>{'main': {'strides': (80, 80), 'overlaps': (30, 30), 'max_shifts': (20, 20), 'max_deviation_rigid': 20, 'pw_rigid': ...</td>\n",
       "      <td>{'mean-projection-path': 6dbcf444-a022-49f2-9564-b1be818fd7a3/6dbcf444-a022-49f2-9564-b1be818fd7a3_mean_projection.n...</td>\n",
       "      <td>2024-08-16T14:26:38</td>\n",
       "      <td>2024-08-16T14:27:34</td>\n",
       "      <td>54.31 sec</td>\n",
       "      <td>None</td>\n",
       "      <td>6dbcf444-a022-49f2-9564-b1be818fd7a3</td>\n",
       "    </tr>\n",
       "  </tbody>\n",
       "</table>\n",
       "</div>"
      ],
      "text/plain": [
       "    algo    item_name       input_movie_path  \\\n",
       "0  mcorr  img_stack_0  img_stack_0/image.tif   \n",
       "\n",
       "                                                                                                                    params  \\\n",
       "0  {'main': {'strides': (80, 80), 'overlaps': (30, 30), 'max_shifts': (20, 20), 'max_deviation_rigid': 20, 'pw_rigid': ...   \n",
       "\n",
       "                                                                                                                   outputs  \\\n",
       "0  {'mean-projection-path': 6dbcf444-a022-49f2-9564-b1be818fd7a3/6dbcf444-a022-49f2-9564-b1be818fd7a3_mean_projection.n...   \n",
       "\n",
       "            added_time             ran_time algo_duration comments  \\\n",
       "0  2024-08-16T14:26:38  2024-08-16T14:27:34     54.31 sec     None   \n",
       "\n",
       "                                   uuid  \n",
       "0  6dbcf444-a022-49f2-9564-b1be818fd7a3  "
      ]
     },
     "execution_count": 31,
     "metadata": {},
     "output_type": "execute_result"
    }
   ],
   "source": [
    "# Removes every row except for the chosen index in the indices list\n",
    "df = load_mesmerize(fish)\n",
    "mes_df = clean_mesmerize(df, indices)  \n",
    "mes_df"
   ]
  },
  {
   "cell_type": "markdown",
   "id": "eb96459c",
   "metadata": {},
   "source": [
    "## Run motion correction on all planes"
   ]
  },
  {
   "cell_type": "code",
   "execution_count": 60,
   "id": "cb5b83a4",
   "metadata": {},
   "outputs": [
    {
     "name": "stdout",
     "output_type": "stream",
     "text": [
      "Batch exists. Loading batch.pickle\n",
      "Batch exists. Loading batch.pickle\n",
      "Batch exists. Loading batch.pickle\n"
     ]
    },
    {
     "data": {
      "text/html": [
       "<div>\n",
       "<style scoped>\n",
       "    .dataframe tbody tr th:only-of-type {\n",
       "        vertical-align: middle;\n",
       "    }\n",
       "\n",
       "    .dataframe tbody tr th {\n",
       "        vertical-align: top;\n",
       "    }\n",
       "\n",
       "    .dataframe thead th {\n",
       "        text-align: right;\n",
       "    }\n",
       "</style>\n",
       "<table border=\"1\" class=\"dataframe\">\n",
       "  <thead>\n",
       "    <tr style=\"text-align: right;\">\n",
       "      <th></th>\n",
       "      <th>algo</th>\n",
       "      <th>item_name</th>\n",
       "      <th>input_movie_path</th>\n",
       "      <th>params</th>\n",
       "      <th>outputs</th>\n",
       "      <th>added_time</th>\n",
       "      <th>ran_time</th>\n",
       "      <th>algo_duration</th>\n",
       "      <th>comments</th>\n",
       "      <th>uuid</th>\n",
       "    </tr>\n",
       "  </thead>\n",
       "  <tbody>\n",
       "    <tr>\n",
       "      <th>0</th>\n",
       "      <td>mcorr</td>\n",
       "      <td>img_stack_0</td>\n",
       "      <td>img_stack_0/image.tif</td>\n",
       "      <td>{'main': {'strides': (80, 80), 'overlaps': (30, 30), 'max_shifts': (20, 20), 'max_deviation_rigid': 20, 'pw_rigid': ...</td>\n",
       "      <td>{'mean-projection-path': c857fdda-a3a8-4912-89db-33ca1a7dbdda/c857fdda-a3a8-4912-89db-33ca1a7dbdda_mean_projection.n...</td>\n",
       "      <td>2024-08-16T17:16:43</td>\n",
       "      <td>2024-08-16T17:17:38</td>\n",
       "      <td>52.36 sec</td>\n",
       "      <td>None</td>\n",
       "      <td>c857fdda-a3a8-4912-89db-33ca1a7dbdda</td>\n",
       "    </tr>\n",
       "    <tr>\n",
       "      <th>1</th>\n",
       "      <td>mcorr</td>\n",
       "      <td>img_stack_1</td>\n",
       "      <td>img_stack_1/image.tif</td>\n",
       "      <td>{'main': {'strides': (80, 80), 'overlaps': (30, 30), 'max_shifts': (20, 20), 'max_deviation_rigid': 20, 'pw_rigid': ...</td>\n",
       "      <td>None</td>\n",
       "      <td>2024-08-16T17:17:38</td>\n",
       "      <td>None</td>\n",
       "      <td>None</td>\n",
       "      <td>None</td>\n",
       "      <td>3c72f957-4645-4d93-8e99-3c2f916edfd4</td>\n",
       "    </tr>\n",
       "    <tr>\n",
       "      <th>2</th>\n",
       "      <td>mcorr</td>\n",
       "      <td>img_stack_2</td>\n",
       "      <td>img_stack_2/image.tif</td>\n",
       "      <td>{'main': {'strides': (80, 80), 'overlaps': (30, 30), 'max_shifts': (20, 20), 'max_deviation_rigid': 20, 'pw_rigid': ...</td>\n",
       "      <td>None</td>\n",
       "      <td>2024-08-16T17:17:38</td>\n",
       "      <td>None</td>\n",
       "      <td>None</td>\n",
       "      <td>None</td>\n",
       "      <td>03cec7d2-c86c-439e-885f-11effc1391c0</td>\n",
       "    </tr>\n",
       "    <tr>\n",
       "      <th>3</th>\n",
       "      <td>mcorr</td>\n",
       "      <td>img_stack_3</td>\n",
       "      <td>img_stack_3/image.tif</td>\n",
       "      <td>{'main': {'strides': (80, 80), 'overlaps': (30, 30), 'max_shifts': (20, 20), 'max_deviation_rigid': 20, 'pw_rigid': ...</td>\n",
       "      <td>None</td>\n",
       "      <td>2024-08-16T17:17:38</td>\n",
       "      <td>None</td>\n",
       "      <td>None</td>\n",
       "      <td>None</td>\n",
       "      <td>1cc5044e-7ea1-4a5b-9e80-2aa3b053517c</td>\n",
       "    </tr>\n",
       "    <tr>\n",
       "      <th>4</th>\n",
       "      <td>mcorr</td>\n",
       "      <td>img_stack_4</td>\n",
       "      <td>img_stack_4/image.tif</td>\n",
       "      <td>{'main': {'strides': (80, 80), 'overlaps': (30, 30), 'max_shifts': (20, 20), 'max_deviation_rigid': 20, 'pw_rigid': ...</td>\n",
       "      <td>None</td>\n",
       "      <td>2024-08-16T17:17:38</td>\n",
       "      <td>None</td>\n",
       "      <td>None</td>\n",
       "      <td>None</td>\n",
       "      <td>f4cb6895-6773-4ee2-a09c-648d1e4076c3</td>\n",
       "    </tr>\n",
       "  </tbody>\n",
       "</table>\n",
       "</div>"
      ],
      "text/plain": [
       "    algo    item_name       input_movie_path  \\\n",
       "0  mcorr  img_stack_0  img_stack_0/image.tif   \n",
       "1  mcorr  img_stack_1  img_stack_1/image.tif   \n",
       "2  mcorr  img_stack_2  img_stack_2/image.tif   \n",
       "3  mcorr  img_stack_3  img_stack_3/image.tif   \n",
       "4  mcorr  img_stack_4  img_stack_4/image.tif   \n",
       "\n",
       "                                                                                                                    params  \\\n",
       "0  {'main': {'strides': (80, 80), 'overlaps': (30, 30), 'max_shifts': (20, 20), 'max_deviation_rigid': 20, 'pw_rigid': ...   \n",
       "1  {'main': {'strides': (80, 80), 'overlaps': (30, 30), 'max_shifts': (20, 20), 'max_deviation_rigid': 20, 'pw_rigid': ...   \n",
       "2  {'main': {'strides': (80, 80), 'overlaps': (30, 30), 'max_shifts': (20, 20), 'max_deviation_rigid': 20, 'pw_rigid': ...   \n",
       "3  {'main': {'strides': (80, 80), 'overlaps': (30, 30), 'max_shifts': (20, 20), 'max_deviation_rigid': 20, 'pw_rigid': ...   \n",
       "4  {'main': {'strides': (80, 80), 'overlaps': (30, 30), 'max_shifts': (20, 20), 'max_deviation_rigid': 20, 'pw_rigid': ...   \n",
       "\n",
       "                                                                                                                   outputs  \\\n",
       "0  {'mean-projection-path': c857fdda-a3a8-4912-89db-33ca1a7dbdda/c857fdda-a3a8-4912-89db-33ca1a7dbdda_mean_projection.n...   \n",
       "1                                                                                                                     None   \n",
       "2                                                                                                                     None   \n",
       "3                                                                                                                     None   \n",
       "4                                                                                                                     None   \n",
       "\n",
       "            added_time             ran_time algo_duration comments  \\\n",
       "0  2024-08-16T17:16:43  2024-08-16T17:17:38     52.36 sec     None   \n",
       "1  2024-08-16T17:17:38                 None          None     None   \n",
       "2  2024-08-16T17:17:38                 None          None     None   \n",
       "3  2024-08-16T17:17:38                 None          None     None   \n",
       "4  2024-08-16T17:17:38                 None          None     None   \n",
       "\n",
       "                                   uuid  \n",
       "0  c857fdda-a3a8-4912-89db-33ca1a7dbdda  \n",
       "1  3c72f957-4645-4d93-8e99-3c2f916edfd4  \n",
       "2  03cec7d2-c86c-439e-885f-11effc1391c0  \n",
       "3  1cc5044e-7ea1-4a5b-9e80-2aa3b053517c  \n",
       "4  f4cb6895-6773-4ee2-a09c-648d1e4076c3  "
      ]
     },
     "execution_count": 60,
     "metadata": {},
     "output_type": "execute_result"
    }
   ],
   "source": [
    "# Adds every other plane in the volume with the same parameters as the leftover, chosen index\n",
    "fish.process_mesmerize_filestructure()\n",
    "mes_df = add_volume(fish, algo='mcorr')  \n",
    "mes_df"
   ]
  },
  {
   "cell_type": "code",
   "execution_count": 61,
   "id": "993d49ce",
   "metadata": {
    "scrolled": true
   },
   "outputs": [
    {
     "name": "stdout",
     "output_type": "stream",
     "text": [
      "Running 3c72f957-4645-4d93-8e99-3c2f916edfd4 with local backend\n",
      "starting mc\n",
      "mc finished successfully!\n",
      "computing projections\n",
      "Decode mmap filename /Volumes/Rapid/bruker2P_data/elavl3H2BGCaMP8m_7dpf_fed_AITC_25mM_52_20240528/mesmerize-batch/3c72f957-4645-4d93-8e99-3c2f916edfd4/3c72f957-4645-4d93-8e99-3c2f916edfd4-image_els__d1_512_d2_512_d3_1_order_F_frames_1174.mmap\n",
      "finished computing correlation image\n",
      "Running 03cec7d2-c86c-439e-885f-11effc1391c0 with local backend\n",
      "starting mc\n",
      "mc finished successfully!\n",
      "computing projections\n",
      "Decode mmap filename /Volumes/Rapid/bruker2P_data/elavl3H2BGCaMP8m_7dpf_fed_AITC_25mM_52_20240528/mesmerize-batch/03cec7d2-c86c-439e-885f-11effc1391c0/03cec7d2-c86c-439e-885f-11effc1391c0-image_els__d1_512_d2_512_d3_1_order_F_frames_1174.mmap\n",
      "finished computing correlation image\n",
      "Running 1cc5044e-7ea1-4a5b-9e80-2aa3b053517c with local backend\n",
      "starting mc\n",
      "mc finished successfully!\n",
      "computing projections\n",
      "Decode mmap filename /Volumes/Rapid/bruker2P_data/elavl3H2BGCaMP8m_7dpf_fed_AITC_25mM_52_20240528/mesmerize-batch/1cc5044e-7ea1-4a5b-9e80-2aa3b053517c/1cc5044e-7ea1-4a5b-9e80-2aa3b053517c-image_els__d1_512_d2_512_d3_1_order_F_frames_1174.mmap\n",
      "finished computing correlation image\n",
      "Running f4cb6895-6773-4ee2-a09c-648d1e4076c3 with local backend\n",
      "starting mc\n",
      "mc finished successfully!\n",
      "computing projections\n",
      "Decode mmap filename /Volumes/Rapid/bruker2P_data/elavl3H2BGCaMP8m_7dpf_fed_AITC_25mM_52_20240528/mesmerize-batch/f4cb6895-6773-4ee2-a09c-648d1e4076c3/f4cb6895-6773-4ee2-a09c-648d1e4076c3-image_els__d1_512_d2_512_d3_1_order_F_frames_1174.mmap\n",
      "finished computing correlation image\n",
      "True\n",
      "True\n",
      "True\n",
      "True\n",
      "True\n"
     ]
    }
   ],
   "source": [
    "# Run mesmerize on the entire volume\n",
    "run_mesmerize(mes_df)\n",
    "mes_df = mes_df.caiman.reload_from_disk()\n",
    "\n",
    "# See the rows that were successfully run\n",
    "for output in mes_df.loc[:, 'outputs']:\n",
    "    print(output['success'])"
   ]
  },
  {
   "cell_type": "markdown",
   "id": "8bf2f9a3",
   "metadata": {},
   "source": [
    "### Visualize outputs"
   ]
  },
  {
   "cell_type": "code",
   "execution_count": 62,
   "id": "837d4ce1",
   "metadata": {
    "scrolled": false
   },
   "outputs": [
    {
     "name": "stdout",
     "output_type": "stream",
     "text": [
      "Batch exists. Loading batch.pickle\n",
      "Decode mmap filename /Volumes/Rapid/bruker2P_data/elavl3H2BGCaMP8m_7dpf_fed_AITC_25mM_52_20240528/mesmerize-batch/c857fdda-a3a8-4912-89db-33ca1a7dbdda/c857fdda-a3a8-4912-89db-33ca1a7dbdda-image_els__d1_512_d2_512_d3_1_order_F_frames_1174.mmap\n",
      "Decode mmap filename /Volumes/Rapid/bruker2P_data/elavl3H2BGCaMP8m_7dpf_fed_AITC_25mM_52_20240528/mesmerize-batch/3c72f957-4645-4d93-8e99-3c2f916edfd4/3c72f957-4645-4d93-8e99-3c2f916edfd4-image_els__d1_512_d2_512_d3_1_order_F_frames_1174.mmap\n",
      "Decode mmap filename /Volumes/Rapid/bruker2P_data/elavl3H2BGCaMP8m_7dpf_fed_AITC_25mM_52_20240528/mesmerize-batch/03cec7d2-c86c-439e-885f-11effc1391c0/03cec7d2-c86c-439e-885f-11effc1391c0-image_els__d1_512_d2_512_d3_1_order_F_frames_1174.mmap\n",
      "Decode mmap filename /Volumes/Rapid/bruker2P_data/elavl3H2BGCaMP8m_7dpf_fed_AITC_25mM_52_20240528/mesmerize-batch/1cc5044e-7ea1-4a5b-9e80-2aa3b053517c/1cc5044e-7ea1-4a5b-9e80-2aa3b053517c-image_els__d1_512_d2_512_d3_1_order_F_frames_1174.mmap\n",
      "Decode mmap filename /Volumes/Rapid/bruker2P_data/elavl3H2BGCaMP8m_7dpf_fed_AITC_25mM_52_20240528/mesmerize-batch/f4cb6895-6773-4ee2-a09c-648d1e4076c3/f4cb6895-6773-4ee2-a09c-648d1e4076c3-image_els__d1_512_d2_512_d3_1_order_F_frames_1174.mmap\n"
     ]
    },
    {
     "data": {
      "application/vnd.jupyter.widget-view+json": {
       "model_id": "705b477324ed4902957bad4e3cd29e40",
       "version_major": 2,
       "version_minor": 0
      },
      "text/plain": [
       "RFBOutputContext()"
      ]
     },
     "metadata": {},
     "output_type": "display_data"
    },
    {
     "data": {
      "application/vnd.jupyter.widget-view+json": {
       "model_id": "a7a5005cc1c7491385a9e2d1b1302c61",
       "version_major": 2,
       "version_minor": 0
      },
      "text/plain": [
       "VBox(children=(JupyterWgpuCanvas(), IntSlider(value=0, description='dimension: t', max=1173), FloatRangeSlider…"
      ]
     },
     "metadata": {},
     "output_type": "display_data"
    },
    {
     "name": "stderr",
     "output_type": "stream",
     "text": [
      "WARNING:Comm:No such comm: de0b3837f03c4247b2df8d58210f4a6b\n",
      "WARNING:Comm:No such comm: de0b3837f03c4247b2df8d58210f4a6b\n"
     ]
    }
   ],
   "source": [
    "# Visualize the motion corrected output of all planes\n",
    "mes_df = load_mesmerize(fish)\n",
    "mcorr_iw = visualize_mesmerize(mes_df, 'mcorr')\n",
    "mcorr_iw.show()"
   ]
  },
  {
   "cell_type": "code",
   "execution_count": 63,
   "id": "bf188b3b",
   "metadata": {},
   "outputs": [],
   "source": [
    "mcorr_iw.plot.canvas.close()"
   ]
  },
  {
   "cell_type": "code",
   "execution_count": null,
   "metadata": {},
   "outputs": [],
   "source": []
  }
 ],
 "metadata": {
  "kernelspec": {
   "display_name": "mescore",
   "language": "python",
   "name": "python3"
  },
  "language_info": {
   "codemirror_mode": {
    "name": "ipython",
    "version": 3
   },
   "file_extension": ".py",
   "mimetype": "text/x-python",
   "name": "python",
   "nbconvert_exporter": "python",
   "pygments_lexer": "ipython3",
   "version": "3.10.12"
  }
 },
 "nbformat": 4,
 "nbformat_minor": 5
}
