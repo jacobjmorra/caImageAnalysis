{
 "cells": [
  {
   "cell_type": "code",
   "execution_count": 1,
   "id": "cc49f315",
   "metadata": {},
   "outputs": [],
   "source": [
    "%load_ext autoreload\n",
    "%autoreload 2\n",
    "\n",
    "import pandas as pd\n",
    "from tifffile import memmap\n",
    "\n",
    "from caImageAnalysis import BrukerFish\n",
    "from caImageAnalysis.caiman_process import caiman_mcorr\n",
    "from caImageAnalysis.mesm import *\n",
    "from caImageAnalysis.visualize import visualize_images, visualize_volumes\n",
    "\n",
    "pd.options.display.max_colwidth = 120"
   ]
  },
  {
   "cell_type": "markdown",
   "id": "4bbc00ce",
   "metadata": {},
   "source": [
    "### Change the exp_folder to the path of the experiment"
   ]
  },
  {
   "cell_type": "code",
   "execution_count": 2,
   "id": "cd0d8c26",
   "metadata": {},
   "outputs": [],
   "source": [
    "# Change this path to the experiment folder\n",
    "exp_folder = r'/Volumes/Rapid/bruker2P_data/elavl3H2BGCaMP8m_8dpf_fed_glucose_500mM_1_20230809'"
   ]
  },
  {
   "cell_type": "code",
   "execution_count": 3,
   "id": "0c539866",
   "metadata": {
    "scrolled": true
   },
   "outputs": [
    {
     "data": {
      "text/plain": [
       "{'raw': PosixPath('/Volumes/Rapid/bruker2P_data/elavl3H2BGCaMP8m_8dpf_fed_glucose_500mM_1_20230809/vagal_L-001'),\n",
       " 'frametimes': PosixPath('/Volumes/Rapid/bruker2P_data/elavl3H2BGCaMP8m_8dpf_fed_glucose_500mM_1_20230809/frametimes.txt'),\n",
       " 'raw_image': PosixPath('/Volumes/Rapid/bruker2P_data/elavl3H2BGCaMP8m_8dpf_fed_glucose_500mM_1_20230809/._ch2.tif'),\n",
       " 'rotated': PosixPath('/Volumes/Rapid/bruker2P_data/elavl3H2BGCaMP8m_8dpf_fed_glucose_500mM_1_20230809/raw_rotated.tif'),\n",
       " 'opts': PosixPath('/Volumes/Rapid/bruker2P_data/elavl3H2BGCaMP8m_8dpf_fed_glucose_500mM_1_20230809/opts.pkl'),\n",
       " 'mesmerize': PosixPath('/Volumes/Rapid/bruker2P_data/elavl3H2BGCaMP8m_8dpf_fed_glucose_500mM_1_20230809/mesmerize-batch'),\n",
       " 'log': PosixPath('/Volumes/Rapid/bruker2P_data/elavl3H2BGCaMP8m_8dpf_fed_glucose_500mM_1_20230809/vagal_L-001/vagal_L-001.xml'),\n",
       " 'voltage_output': PosixPath('/Volumes/Rapid/bruker2P_data/elavl3H2BGCaMP8m_8dpf_fed_glucose_500mM_1_20230809/vagal_L-001/vagal_L-001_Cycle00001_VoltageOutput_001.xml'),\n",
       " 'references': PosixPath('/Volumes/Rapid/bruker2P_data/elavl3H2BGCaMP8m_8dpf_fed_glucose_500mM_1_20230809/vagal_L-001/References'),\n",
       " 'volumes': {'0': {'image': PosixPath('/Volumes/Rapid/bruker2P_data/elavl3H2BGCaMP8m_8dpf_fed_glucose_500mM_1_20230809/img_stack_0/image.tif'),\n",
       "   'frametimes': PosixPath('/Volumes/Rapid/bruker2P_data/elavl3H2BGCaMP8m_8dpf_fed_glucose_500mM_1_20230809/img_stack_0/frametimes.h5')},\n",
       "  '1': {'image': PosixPath('/Volumes/Rapid/bruker2P_data/elavl3H2BGCaMP8m_8dpf_fed_glucose_500mM_1_20230809/img_stack_1/image.tif'),\n",
       "   'frametimes': PosixPath('/Volumes/Rapid/bruker2P_data/elavl3H2BGCaMP8m_8dpf_fed_glucose_500mM_1_20230809/img_stack_1/frametimes.h5')},\n",
       "  '2': {'image': PosixPath('/Volumes/Rapid/bruker2P_data/elavl3H2BGCaMP8m_8dpf_fed_glucose_500mM_1_20230809/img_stack_2/image.tif'),\n",
       "   'frametimes': PosixPath('/Volumes/Rapid/bruker2P_data/elavl3H2BGCaMP8m_8dpf_fed_glucose_500mM_1_20230809/img_stack_2/frametimes.h5')},\n",
       "  '3': {'image': PosixPath('/Volumes/Rapid/bruker2P_data/elavl3H2BGCaMP8m_8dpf_fed_glucose_500mM_1_20230809/img_stack_3/image.tif'),\n",
       "   'frametimes': PosixPath('/Volumes/Rapid/bruker2P_data/elavl3H2BGCaMP8m_8dpf_fed_glucose_500mM_1_20230809/img_stack_3/frametimes.h5')},\n",
       "  '4': {'image': PosixPath('/Volumes/Rapid/bruker2P_data/elavl3H2BGCaMP8m_8dpf_fed_glucose_500mM_1_20230809/img_stack_4/image.tif'),\n",
       "   'frametimes': PosixPath('/Volumes/Rapid/bruker2P_data/elavl3H2BGCaMP8m_8dpf_fed_glucose_500mM_1_20230809/img_stack_4/frametimes.h5')}}}"
      ]
     },
     "execution_count": 3,
     "metadata": {},
     "output_type": "execute_result"
    }
   ],
   "source": [
    "# Initialize the fish. \n",
    "# If custom 2P, use VolumeFish. If Bruker 2P, use BrukerFish.\n",
    "\n",
    "# fish = VolumeFish(exp_folder)\n",
    "fish = BrukerFish(exp_folder)\n",
    "fish.data_paths"
   ]
  },
  {
   "cell_type": "markdown",
   "id": "5b23a421",
   "metadata": {},
   "source": [
    "## Pick a plane to apply movement correction"
   ]
  },
  {
   "cell_type": "code",
   "execution_count": 4,
   "id": "4e4a0a28",
   "metadata": {
    "scrolled": false
   },
   "outputs": [
    {
     "data": {
      "application/vnd.jupyter.widget-view+json": {
       "model_id": "782dc8816b0941b591e85421e6092541",
       "version_major": 2,
       "version_minor": 0
      },
      "text/plain": [
       "RFBOutputContext()"
      ]
     },
     "metadata": {},
     "output_type": "display_data"
    },
    {
     "name": "stderr",
     "output_type": "stream",
     "text": [
      "/Users/minelarinel/mambaforge/envs/mescore/lib/python3.10/site-packages/fastplotlib/graphics/_features/_base.py:34: UserWarning: converting float64 array to float32\n",
      "  warn(f\"converting {array.dtype} array to float32\")\n"
     ]
    },
    {
     "data": {
      "application/vnd.jupyter.widget-view+json": {
       "model_id": "d6eec3f876664755a0fba1ed553b5eea",
       "version_major": 2,
       "version_minor": 0
      },
      "text/plain": [
       "VBox(children=(VBox(children=(JupyterWgpuCanvas(), HBox(children=(Button(icon='expand-arrows-alt', layout=Layo…"
      ]
     },
     "execution_count": 4,
     "metadata": {},
     "output_type": "execute_result"
    }
   ],
   "source": [
    "iw = visualize_volumes(fish)\n",
    "iw.show()"
   ]
  },
  {
   "cell_type": "code",
   "execution_count": 4,
   "id": "d8f1a6cd",
   "metadata": {},
   "outputs": [],
   "source": [
    "plane = 1"
   ]
  },
  {
   "cell_type": "markdown",
   "id": "2ccf19be",
   "metadata": {},
   "source": [
    "## Set parameters"
   ]
  },
  {
   "cell_type": "code",
   "execution_count": 5,
   "id": "76ac0392",
   "metadata": {},
   "outputs": [],
   "source": [
    "# motion correction parameters\n",
    "strides = (80, 80)          # start a new patch for pw-rigid motion correction every x pixels\n",
    "overlaps = (30, 30)         # overlap between pathes (size of patch strides+overlaps)\n",
    "max_shifts = (20, 20)          # maximum allowed rigid shifts (in pixels)\n",
    "max_deviation_rigid = 20     # maximum shifts deviation allowed for patch with respect to rigid shifts\n",
    "pw_rigid = True             # flag for performing non-rigid motion correction"
   ]
  },
  {
   "cell_type": "code",
   "execution_count": 6,
   "id": "c345b21d",
   "metadata": {},
   "outputs": [],
   "source": [
    "opts_dict = {'strides': strides,\n",
    "            'overlaps': overlaps,\n",
    "            'max_shifts': max_shifts,\n",
    "            'max_deviation_rigid': max_deviation_rigid,\n",
    "            'pw_rigid': pw_rigid}"
   ]
  },
  {
   "cell_type": "markdown",
   "id": "23f04571",
   "metadata": {},
   "source": [
    "## Motion correct"
   ]
  },
  {
   "cell_type": "code",
   "execution_count": 7,
   "id": "1dc4abfe",
   "metadata": {
    "scrolled": true
   },
   "outputs": [
    {
     "name": "stderr",
     "output_type": "stream",
     "text": [
      "100%|██████████| 1/1 [00:00<00:00,  4.57it/s]\n",
      "  0%|          | 0/1 [00:00<?, ?it/s]"
     ]
    },
    {
     "name": "stdout",
     "output_type": "stream",
     "text": [
      "Decode mmap filename /Volumes/Rapid/bruker2P_data/elavl3H2BGCaMP8m_8dpf_fed_glucose_500mM_1_20230809/img_stack_1/image_els__d1_512_d2_512_d3_1_order_F_frames_237.mmap\n"
     ]
    },
    {
     "name": "stderr",
     "output_type": "stream",
     "text": [
      "100%|██████████| 1/1 [00:00<00:00,  7.22it/s]\n"
     ]
    },
    {
     "name": "stdout",
     "output_type": "stream",
     "text": [
      "Decode mmap filename /Volumes/Rapid/bruker2P_data/elavl3H2BGCaMP8m_8dpf_fed_glucose_500mM_1_20230809/img_stack_1/image_els__d1_512_d2_512_d3_1_order_F_frames_237.mmap\n",
      "/Volumes/Rapid/bruker2P_data/elavl3H2BGCaMP8m_8dpf_fed_glucose_500mM_1_20230809/img_stack_1/memmap_d1_512_d2_512_d3_1_order_C_frames_237.mmap\n",
      "Decode mmap filename /Volumes/Rapid/bruker2P_data/elavl3H2BGCaMP8m_8dpf_fed_glucose_500mM_1_20230809/img_stack_1/memmap_d1_512_d2_512_d3_1_order_C_frames_237.mmap\n"
     ]
    }
   ],
   "source": [
    "mcorr_img = caiman_mcorr(fish, plane=plane, **opts_dict)"
   ]
  },
  {
   "cell_type": "code",
   "execution_count": 8,
   "id": "11ea1936",
   "metadata": {},
   "outputs": [
    {
     "data": {
      "application/vnd.jupyter.widget-view+json": {
       "model_id": "7b4a8a38e3e8447abe1398359723a912",
       "version_major": 2,
       "version_minor": 0
      },
      "text/plain": [
       "RFBOutputContext()"
      ]
     },
     "metadata": {},
     "output_type": "display_data"
    },
    {
     "name": "stderr",
     "output_type": "stream",
     "text": [
      "/Users/minelarinel/mambaforge/envs/mescore/lib/python3.10/site-packages/fastplotlib/graphics/_features/_base.py:34: UserWarning: converting float64 array to float32\n",
      "  warn(f\"converting {array.dtype} array to float32\")\n"
     ]
    },
    {
     "data": {
      "application/vnd.jupyter.widget-view+json": {
       "model_id": "4369079fbcfc41b3a8789a721a6ecde4",
       "version_major": 2,
       "version_minor": 0
      },
      "text/plain": [
       "VBox(children=(VBox(children=(JupyterWgpuCanvas(), HBox(children=(Button(icon='expand-arrows-alt', layout=Layo…"
      ]
     },
     "execution_count": 8,
     "metadata": {},
     "output_type": "execute_result"
    }
   ],
   "source": [
    "# Compare the results\n",
    "orig = memmap(fish.data_paths['volumes'][str(plane)]['image'])\n",
    "iw = visualize_images([orig, mcorr_img], names=['original', 'mcorr'])\n",
    "iw.show()"
   ]
  },
  {
   "cell_type": "markdown",
   "id": "6988dfe1",
   "metadata": {},
   "source": [
    "## Optimize parameters with Mesmerize"
   ]
  },
  {
   "cell_type": "code",
   "execution_count": null,
   "id": "6370f240",
   "metadata": {},
   "outputs": [],
   "source": [
    "# Pick a plane to optimize motion correction\n",
    "plane = 1"
   ]
  },
  {
   "cell_type": "markdown",
   "id": "9df6d492",
   "metadata": {},
   "source": [
    "### Motion correction parameters"
   ]
  },
  {
   "cell_type": "code",
   "execution_count": 9,
   "id": "70902458",
   "metadata": {},
   "outputs": [],
   "source": [
    "# Set combination of values to try\n",
    "strides = [80, 60]  # start a new patch for pw-rigid motion correction every x pixels\n",
    "overlaps = [30, 15]  # overlap between patches (size of patch strides+overlaps)\n",
    "max_shifts = [20, 30]  # maximum allowed rigid shifts (in pixels)\n",
    "max_deviation_rigid = [20]  # maximum shifts deviation allowed for patch with respect to rigid shifts"
   ]
  },
  {
   "cell_type": "code",
   "execution_count": 10,
   "id": "21b4c922",
   "metadata": {},
   "outputs": [
    {
     "name": "stdout",
     "output_type": "stream",
     "text": [
      "Batch does not exist. Creating batch.pickle\n"
     ]
    }
   ],
   "source": [
    "img_path = fish.data_paths['volumes'][str(plane)]['image']\n",
    "mes_df = add_mcorr(fish, [img_path], grid=True, \n",
    "                         strides=strides, \n",
    "                         overlaps=overlaps,\n",
    "                         max_shifts=max_shifts,\n",
    "                         max_deviation_rigid=max_deviation_rigid)"
   ]
  },
  {
   "cell_type": "code",
   "execution_count": 11,
   "id": "7e340584",
   "metadata": {},
   "outputs": [
    {
     "data": {
      "text/html": [
       "<div>\n",
       "<style scoped>\n",
       "    .dataframe tbody tr th:only-of-type {\n",
       "        vertical-align: middle;\n",
       "    }\n",
       "\n",
       "    .dataframe tbody tr th {\n",
       "        vertical-align: top;\n",
       "    }\n",
       "\n",
       "    .dataframe thead th {\n",
       "        text-align: right;\n",
       "    }\n",
       "</style>\n",
       "<table border=\"1\" class=\"dataframe\">\n",
       "  <thead>\n",
       "    <tr style=\"text-align: right;\">\n",
       "      <th></th>\n",
       "      <th>algo</th>\n",
       "      <th>item_name</th>\n",
       "      <th>input_movie_path</th>\n",
       "      <th>params</th>\n",
       "      <th>outputs</th>\n",
       "      <th>added_time</th>\n",
       "      <th>ran_time</th>\n",
       "      <th>algo_duration</th>\n",
       "      <th>comments</th>\n",
       "      <th>uuid</th>\n",
       "    </tr>\n",
       "  </thead>\n",
       "  <tbody>\n",
       "    <tr>\n",
       "      <th>0</th>\n",
       "      <td>mcorr</td>\n",
       "      <td>img_stack_1</td>\n",
       "      <td>img_stack_1/image.tif</td>\n",
       "      <td>{'main': {'strides': (80, 80), 'overlaps': (30, 30), 'max_shifts': (20, 20), 'max_deviation_rigid': 20, 'pw_rigid': ...</td>\n",
       "      <td>None</td>\n",
       "      <td>2023-08-13T19:29:30</td>\n",
       "      <td>None</td>\n",
       "      <td>None</td>\n",
       "      <td>None</td>\n",
       "      <td>21a33383-efb4-4772-8c60-71d1ce32e4e4</td>\n",
       "    </tr>\n",
       "    <tr>\n",
       "      <th>1</th>\n",
       "      <td>mcorr</td>\n",
       "      <td>img_stack_1</td>\n",
       "      <td>img_stack_1/image.tif</td>\n",
       "      <td>{'main': {'strides': (80, 80), 'overlaps': (30, 30), 'max_shifts': (30, 30), 'max_deviation_rigid': 20, 'pw_rigid': ...</td>\n",
       "      <td>None</td>\n",
       "      <td>2023-08-13T19:29:30</td>\n",
       "      <td>None</td>\n",
       "      <td>None</td>\n",
       "      <td>None</td>\n",
       "      <td>65ce280d-78f2-425f-bdaa-8f473f589747</td>\n",
       "    </tr>\n",
       "    <tr>\n",
       "      <th>2</th>\n",
       "      <td>mcorr</td>\n",
       "      <td>img_stack_1</td>\n",
       "      <td>img_stack_1/image.tif</td>\n",
       "      <td>{'main': {'strides': (80, 80), 'overlaps': (15, 15), 'max_shifts': (20, 20), 'max_deviation_rigid': 20, 'pw_rigid': ...</td>\n",
       "      <td>None</td>\n",
       "      <td>2023-08-13T19:29:30</td>\n",
       "      <td>None</td>\n",
       "      <td>None</td>\n",
       "      <td>None</td>\n",
       "      <td>27d6206b-bafa-48a9-aaf8-d2f874b02f6d</td>\n",
       "    </tr>\n",
       "    <tr>\n",
       "      <th>3</th>\n",
       "      <td>mcorr</td>\n",
       "      <td>img_stack_1</td>\n",
       "      <td>img_stack_1/image.tif</td>\n",
       "      <td>{'main': {'strides': (80, 80), 'overlaps': (15, 15), 'max_shifts': (30, 30), 'max_deviation_rigid': 20, 'pw_rigid': ...</td>\n",
       "      <td>None</td>\n",
       "      <td>2023-08-13T19:29:30</td>\n",
       "      <td>None</td>\n",
       "      <td>None</td>\n",
       "      <td>None</td>\n",
       "      <td>f4b4b52a-b592-4b31-8d76-5f8db74181de</td>\n",
       "    </tr>\n",
       "    <tr>\n",
       "      <th>4</th>\n",
       "      <td>mcorr</td>\n",
       "      <td>img_stack_1</td>\n",
       "      <td>img_stack_1/image.tif</td>\n",
       "      <td>{'main': {'strides': (60, 60), 'overlaps': (30, 30), 'max_shifts': (20, 20), 'max_deviation_rigid': 20, 'pw_rigid': ...</td>\n",
       "      <td>None</td>\n",
       "      <td>2023-08-13T19:29:30</td>\n",
       "      <td>None</td>\n",
       "      <td>None</td>\n",
       "      <td>None</td>\n",
       "      <td>af3a45a8-fd37-46a1-9c70-5ad213d8a717</td>\n",
       "    </tr>\n",
       "    <tr>\n",
       "      <th>5</th>\n",
       "      <td>mcorr</td>\n",
       "      <td>img_stack_1</td>\n",
       "      <td>img_stack_1/image.tif</td>\n",
       "      <td>{'main': {'strides': (60, 60), 'overlaps': (30, 30), 'max_shifts': (30, 30), 'max_deviation_rigid': 20, 'pw_rigid': ...</td>\n",
       "      <td>None</td>\n",
       "      <td>2023-08-13T19:29:30</td>\n",
       "      <td>None</td>\n",
       "      <td>None</td>\n",
       "      <td>None</td>\n",
       "      <td>149f822d-d228-4a29-9e77-abb67a79f008</td>\n",
       "    </tr>\n",
       "    <tr>\n",
       "      <th>6</th>\n",
       "      <td>mcorr</td>\n",
       "      <td>img_stack_1</td>\n",
       "      <td>img_stack_1/image.tif</td>\n",
       "      <td>{'main': {'strides': (60, 60), 'overlaps': (15, 15), 'max_shifts': (20, 20), 'max_deviation_rigid': 20, 'pw_rigid': ...</td>\n",
       "      <td>None</td>\n",
       "      <td>2023-08-13T19:29:30</td>\n",
       "      <td>None</td>\n",
       "      <td>None</td>\n",
       "      <td>None</td>\n",
       "      <td>6a9a6fee-c58f-4979-93b4-66de64d23a95</td>\n",
       "    </tr>\n",
       "    <tr>\n",
       "      <th>7</th>\n",
       "      <td>mcorr</td>\n",
       "      <td>img_stack_1</td>\n",
       "      <td>img_stack_1/image.tif</td>\n",
       "      <td>{'main': {'strides': (60, 60), 'overlaps': (15, 15), 'max_shifts': (30, 30), 'max_deviation_rigid': 20, 'pw_rigid': ...</td>\n",
       "      <td>None</td>\n",
       "      <td>2023-08-13T19:29:30</td>\n",
       "      <td>None</td>\n",
       "      <td>None</td>\n",
       "      <td>None</td>\n",
       "      <td>dbcd497f-0877-4c88-af04-2dc20c6f17a8</td>\n",
       "    </tr>\n",
       "  </tbody>\n",
       "</table>\n",
       "</div>"
      ],
      "text/plain": [
       "    algo    item_name       input_movie_path  \\\n",
       "0  mcorr  img_stack_1  img_stack_1/image.tif   \n",
       "1  mcorr  img_stack_1  img_stack_1/image.tif   \n",
       "2  mcorr  img_stack_1  img_stack_1/image.tif   \n",
       "3  mcorr  img_stack_1  img_stack_1/image.tif   \n",
       "4  mcorr  img_stack_1  img_stack_1/image.tif   \n",
       "5  mcorr  img_stack_1  img_stack_1/image.tif   \n",
       "6  mcorr  img_stack_1  img_stack_1/image.tif   \n",
       "7  mcorr  img_stack_1  img_stack_1/image.tif   \n",
       "\n",
       "                                                                                                                    params  \\\n",
       "0  {'main': {'strides': (80, 80), 'overlaps': (30, 30), 'max_shifts': (20, 20), 'max_deviation_rigid': 20, 'pw_rigid': ...   \n",
       "1  {'main': {'strides': (80, 80), 'overlaps': (30, 30), 'max_shifts': (30, 30), 'max_deviation_rigid': 20, 'pw_rigid': ...   \n",
       "2  {'main': {'strides': (80, 80), 'overlaps': (15, 15), 'max_shifts': (20, 20), 'max_deviation_rigid': 20, 'pw_rigid': ...   \n",
       "3  {'main': {'strides': (80, 80), 'overlaps': (15, 15), 'max_shifts': (30, 30), 'max_deviation_rigid': 20, 'pw_rigid': ...   \n",
       "4  {'main': {'strides': (60, 60), 'overlaps': (30, 30), 'max_shifts': (20, 20), 'max_deviation_rigid': 20, 'pw_rigid': ...   \n",
       "5  {'main': {'strides': (60, 60), 'overlaps': (30, 30), 'max_shifts': (30, 30), 'max_deviation_rigid': 20, 'pw_rigid': ...   \n",
       "6  {'main': {'strides': (60, 60), 'overlaps': (15, 15), 'max_shifts': (20, 20), 'max_deviation_rigid': 20, 'pw_rigid': ...   \n",
       "7  {'main': {'strides': (60, 60), 'overlaps': (15, 15), 'max_shifts': (30, 30), 'max_deviation_rigid': 20, 'pw_rigid': ...   \n",
       "\n",
       "  outputs           added_time ran_time algo_duration comments  \\\n",
       "0    None  2023-08-13T19:29:30     None          None     None   \n",
       "1    None  2023-08-13T19:29:30     None          None     None   \n",
       "2    None  2023-08-13T19:29:30     None          None     None   \n",
       "3    None  2023-08-13T19:29:30     None          None     None   \n",
       "4    None  2023-08-13T19:29:30     None          None     None   \n",
       "5    None  2023-08-13T19:29:30     None          None     None   \n",
       "6    None  2023-08-13T19:29:30     None          None     None   \n",
       "7    None  2023-08-13T19:29:30     None          None     None   \n",
       "\n",
       "                                   uuid  \n",
       "0  21a33383-efb4-4772-8c60-71d1ce32e4e4  \n",
       "1  65ce280d-78f2-425f-bdaa-8f473f589747  \n",
       "2  27d6206b-bafa-48a9-aaf8-d2f874b02f6d  \n",
       "3  f4b4b52a-b592-4b31-8d76-5f8db74181de  \n",
       "4  af3a45a8-fd37-46a1-9c70-5ad213d8a717  \n",
       "5  149f822d-d228-4a29-9e77-abb67a79f008  \n",
       "6  6a9a6fee-c58f-4979-93b4-66de64d23a95  \n",
       "7  dbcd497f-0877-4c88-af04-2dc20c6f17a8  "
      ]
     },
     "execution_count": 11,
     "metadata": {},
     "output_type": "execute_result"
    }
   ],
   "source": [
    "mes_df"
   ]
  },
  {
   "cell_type": "code",
   "execution_count": 12,
   "id": "3dec0008",
   "metadata": {},
   "outputs": [
    {
     "name": "stderr",
     "output_type": "stream",
     "text": [
      "/var/folders/48/8y2gqcvx5q5575kwkzngl6qw0000gn/T/ipykernel_45080/688498701.py:2: FutureWarning: You are trying to use the following experimental feature, this may change in the future without warning:\n",
      "CaimanDataFrameExtensions.get_params_diffs\n",
      "This feature is new and the might improve in the future\n",
      "\n",
      "  diffs = mes_df.caiman.get_params_diffs(algo=\"mcorr\", item_name=mes_df.iloc[0][\"item_name\"])\n"
     ]
    },
    {
     "data": {
      "text/plain": [
       "0    {'overlaps': (30, 30), 'strides': (80, 80), 'max_shifts': (20, 20)}\n",
       "1    {'overlaps': (30, 30), 'strides': (80, 80), 'max_shifts': (30, 30)}\n",
       "2    {'overlaps': (15, 15), 'strides': (80, 80), 'max_shifts': (20, 20)}\n",
       "3    {'overlaps': (15, 15), 'strides': (80, 80), 'max_shifts': (30, 30)}\n",
       "4    {'overlaps': (30, 30), 'strides': (60, 60), 'max_shifts': (20, 20)}\n",
       "5    {'overlaps': (30, 30), 'strides': (60, 60), 'max_shifts': (30, 30)}\n",
       "6    {'overlaps': (15, 15), 'strides': (60, 60), 'max_shifts': (20, 20)}\n",
       "7    {'overlaps': (15, 15), 'strides': (60, 60), 'max_shifts': (30, 30)}\n",
       "Name: params, dtype: object"
      ]
     },
     "execution_count": 12,
     "metadata": {},
     "output_type": "execute_result"
    }
   ],
   "source": [
    "# See the unique parameters between rows with the same item_name\n",
    "diffs = mes_df.caiman.get_params_diffs(algo=\"mcorr\", item_name=mes_df.iloc[0][\"item_name\"])\n",
    "diffs"
   ]
  },
  {
   "cell_type": "markdown",
   "id": "ec970f45",
   "metadata": {},
   "source": [
    "### Run motion correction with the given parameter space"
   ]
  },
  {
   "cell_type": "code",
   "execution_count": 13,
   "id": "1c7e166e",
   "metadata": {
    "scrolled": true
   },
   "outputs": [
    {
     "name": "stdout",
     "output_type": "stream",
     "text": [
      "Batch exists. Loading batch.pickle\n",
      "Running 21a33383-efb4-4772-8c60-71d1ce32e4e4 with local backend\n",
      "starting mc\n",
      "mc finished successfully!\n",
      "computing projections\n",
      "Decode mmap filename /Volumes/Rapid/bruker2P_data/elavl3H2BGCaMP8m_8dpf_fed_glucose_500mM_1_20230809/mesmerize-batch/21a33383-efb4-4772-8c60-71d1ce32e4e4/21a33383-efb4-4772-8c60-71d1ce32e4e4-image_els__d1_512_d2_512_d3_1_order_F_frames_237.mmap\n",
      "finished computing correlation image\n",
      "Running 65ce280d-78f2-425f-bdaa-8f473f589747 with local backend\n",
      "starting mc\n",
      "mc finished successfully!\n",
      "computing projections\n",
      "Decode mmap filename /Volumes/Rapid/bruker2P_data/elavl3H2BGCaMP8m_8dpf_fed_glucose_500mM_1_20230809/mesmerize-batch/65ce280d-78f2-425f-bdaa-8f473f589747/65ce280d-78f2-425f-bdaa-8f473f589747-image_els__d1_512_d2_512_d3_1_order_F_frames_237.mmap\n",
      "finished computing correlation image\n",
      "Running 27d6206b-bafa-48a9-aaf8-d2f874b02f6d with local backend\n",
      "starting mc\n",
      "mc finished successfully!\n",
      "computing projections\n",
      "Decode mmap filename /Volumes/Rapid/bruker2P_data/elavl3H2BGCaMP8m_8dpf_fed_glucose_500mM_1_20230809/mesmerize-batch/27d6206b-bafa-48a9-aaf8-d2f874b02f6d/27d6206b-bafa-48a9-aaf8-d2f874b02f6d-image_els__d1_512_d2_512_d3_1_order_F_frames_237.mmap\n",
      "finished computing correlation image\n",
      "Running f4b4b52a-b592-4b31-8d76-5f8db74181de with local backend\n",
      "starting mc\n",
      "mc finished successfully!\n",
      "computing projections\n",
      "Decode mmap filename /Volumes/Rapid/bruker2P_data/elavl3H2BGCaMP8m_8dpf_fed_glucose_500mM_1_20230809/mesmerize-batch/f4b4b52a-b592-4b31-8d76-5f8db74181de/f4b4b52a-b592-4b31-8d76-5f8db74181de-image_els__d1_512_d2_512_d3_1_order_F_frames_237.mmap\n",
      "finished computing correlation image\n",
      "Running af3a45a8-fd37-46a1-9c70-5ad213d8a717 with local backend\n",
      "starting mc\n",
      "mc finished successfully!\n",
      "computing projections\n",
      "Decode mmap filename /Volumes/Rapid/bruker2P_data/elavl3H2BGCaMP8m_8dpf_fed_glucose_500mM_1_20230809/mesmerize-batch/af3a45a8-fd37-46a1-9c70-5ad213d8a717/af3a45a8-fd37-46a1-9c70-5ad213d8a717-image_els__d1_512_d2_512_d3_1_order_F_frames_237.mmap\n",
      "finished computing correlation image\n",
      "Running 149f822d-d228-4a29-9e77-abb67a79f008 with local backend\n",
      "starting mc\n",
      "mc finished successfully!\n",
      "computing projections\n",
      "Decode mmap filename /Volumes/Rapid/bruker2P_data/elavl3H2BGCaMP8m_8dpf_fed_glucose_500mM_1_20230809/mesmerize-batch/149f822d-d228-4a29-9e77-abb67a79f008/149f822d-d228-4a29-9e77-abb67a79f008-image_els__d1_512_d2_512_d3_1_order_F_frames_237.mmap\n",
      "finished computing correlation image\n",
      "Running 6a9a6fee-c58f-4979-93b4-66de64d23a95 with local backend\n",
      "starting mc\n",
      "mc finished successfully!\n",
      "computing projections\n",
      "Decode mmap filename /Volumes/Rapid/bruker2P_data/elavl3H2BGCaMP8m_8dpf_fed_glucose_500mM_1_20230809/mesmerize-batch/6a9a6fee-c58f-4979-93b4-66de64d23a95/6a9a6fee-c58f-4979-93b4-66de64d23a95-image_els__d1_512_d2_512_d3_1_order_F_frames_237.mmap\n",
      "finished computing correlation image\n",
      "Running dbcd497f-0877-4c88-af04-2dc20c6f17a8 with local backend\n",
      "starting mc\n",
      "mc finished successfully!\n",
      "computing projections\n",
      "Decode mmap filename /Volumes/Rapid/bruker2P_data/elavl3H2BGCaMP8m_8dpf_fed_glucose_500mM_1_20230809/mesmerize-batch/dbcd497f-0877-4c88-af04-2dc20c6f17a8/dbcd497f-0877-4c88-af04-2dc20c6f17a8-image_els__d1_512_d2_512_d3_1_order_F_frames_237.mmap\n",
      "finished computing correlation image\n"
     ]
    }
   ],
   "source": [
    "mes_df = load_mesmerize(fish)\n",
    "run_mesmerize(mes_df)\n",
    "mes_df = mes_df.caiman.reload_from_disk()"
   ]
  },
  {
   "cell_type": "code",
   "execution_count": 14,
   "id": "f4539ccc",
   "metadata": {},
   "outputs": [
    {
     "name": "stdout",
     "output_type": "stream",
     "text": [
      "True\n",
      "True\n",
      "True\n",
      "True\n",
      "True\n",
      "True\n",
      "True\n",
      "True\n"
     ]
    }
   ],
   "source": [
    "# See the rows that were successfully run\n",
    "for output in mes_df.loc[:, 'outputs']:\n",
    "    print(output['success'])"
   ]
  },
  {
   "cell_type": "markdown",
   "id": "7694ca58",
   "metadata": {},
   "source": [
    "### Visualize outputs"
   ]
  },
  {
   "cell_type": "code",
   "execution_count": 4,
   "id": "94446064",
   "metadata": {
    "scrolled": false
   },
   "outputs": [
    {
     "name": "stdout",
     "output_type": "stream",
     "text": [
      "Batch exists. Loading batch.pickle\n",
      "Decode mmap filename /Volumes/Rapid/bruker2P_data/elavl3H2BGCaMP8m_8dpf_fed_glucose_500mM_1_20230809/mesmerize-batch/21a33383-efb4-4772-8c60-71d1ce32e4e4/21a33383-efb4-4772-8c60-71d1ce32e4e4-image_els__d1_512_d2_512_d3_1_order_F_frames_237.mmap\n",
      "Decode mmap filename /Volumes/Rapid/bruker2P_data/elavl3H2BGCaMP8m_8dpf_fed_glucose_500mM_1_20230809/mesmerize-batch/65ce280d-78f2-425f-bdaa-8f473f589747/65ce280d-78f2-425f-bdaa-8f473f589747-image_els__d1_512_d2_512_d3_1_order_F_frames_237.mmap\n",
      "Decode mmap filename /Volumes/Rapid/bruker2P_data/elavl3H2BGCaMP8m_8dpf_fed_glucose_500mM_1_20230809/mesmerize-batch/27d6206b-bafa-48a9-aaf8-d2f874b02f6d/27d6206b-bafa-48a9-aaf8-d2f874b02f6d-image_els__d1_512_d2_512_d3_1_order_F_frames_237.mmap\n",
      "Decode mmap filename /Volumes/Rapid/bruker2P_data/elavl3H2BGCaMP8m_8dpf_fed_glucose_500mM_1_20230809/mesmerize-batch/f4b4b52a-b592-4b31-8d76-5f8db74181de/f4b4b52a-b592-4b31-8d76-5f8db74181de-image_els__d1_512_d2_512_d3_1_order_F_frames_237.mmap\n",
      "Decode mmap filename /Volumes/Rapid/bruker2P_data/elavl3H2BGCaMP8m_8dpf_fed_glucose_500mM_1_20230809/mesmerize-batch/af3a45a8-fd37-46a1-9c70-5ad213d8a717/af3a45a8-fd37-46a1-9c70-5ad213d8a717-image_els__d1_512_d2_512_d3_1_order_F_frames_237.mmap\n",
      "Decode mmap filename /Volumes/Rapid/bruker2P_data/elavl3H2BGCaMP8m_8dpf_fed_glucose_500mM_1_20230809/mesmerize-batch/149f822d-d228-4a29-9e77-abb67a79f008/149f822d-d228-4a29-9e77-abb67a79f008-image_els__d1_512_d2_512_d3_1_order_F_frames_237.mmap\n",
      "Decode mmap filename /Volumes/Rapid/bruker2P_data/elavl3H2BGCaMP8m_8dpf_fed_glucose_500mM_1_20230809/mesmerize-batch/6a9a6fee-c58f-4979-93b4-66de64d23a95/6a9a6fee-c58f-4979-93b4-66de64d23a95-image_els__d1_512_d2_512_d3_1_order_F_frames_237.mmap\n",
      "Decode mmap filename /Volumes/Rapid/bruker2P_data/elavl3H2BGCaMP8m_8dpf_fed_glucose_500mM_1_20230809/mesmerize-batch/dbcd497f-0877-4c88-af04-2dc20c6f17a8/dbcd497f-0877-4c88-af04-2dc20c6f17a8-image_els__d1_512_d2_512_d3_1_order_F_frames_237.mmap\n"
     ]
    },
    {
     "data": {
      "application/vnd.jupyter.widget-view+json": {
       "model_id": "afef5441231142278a4f244c8f4c2b33",
       "version_major": 2,
       "version_minor": 0
      },
      "text/plain": [
       "RFBOutputContext()"
      ]
     },
     "metadata": {},
     "output_type": "display_data"
    },
    {
     "name": "stderr",
     "output_type": "stream",
     "text": [
      "/Users/minelarinel/mambaforge/envs/mescore/lib/python3.10/site-packages/fastplotlib/graphics/_features/_base.py:34: UserWarning: converting float64 array to float32\n",
      "  warn(f\"converting {array.dtype} array to float32\")\n"
     ]
    },
    {
     "data": {
      "application/vnd.jupyter.widget-view+json": {
       "model_id": "3bfb9def8eac4324a2092d3aab5de688",
       "version_major": 2,
       "version_minor": 0
      },
      "text/plain": [
       "VBox(children=(VBox(children=(JupyterWgpuCanvas(), HBox(children=(Button(icon='expand-arrows-alt', layout=Layo…"
      ]
     },
     "execution_count": 4,
     "metadata": {},
     "output_type": "execute_result"
    }
   ],
   "source": [
    "mes_df = load_mesmerize(fish)\n",
    "mcorr_iw = visualize_mesmerize(mes_df, 'mcorr')\n",
    "mcorr_iw.show()"
   ]
  },
  {
   "cell_type": "code",
   "execution_count": null,
   "id": "e75d6d4b",
   "metadata": {},
   "outputs": [],
   "source": [
    "mcorr_iw.plot.canvas.close()"
   ]
  },
  {
   "cell_type": "code",
   "execution_count": 19,
   "id": "8fbeb093",
   "metadata": {
    "scrolled": false
   },
   "outputs": [
    {
     "name": "stdout",
     "output_type": "stream",
     "text": [
      "Decode mmap filename C:\\Users\\minel\\Documents\\data\\elavl3H2BGCaMP8m_7dpf_fed_glucose_500mM_25_20221227\\postgavage_vagal_L\\mesmerize-batch\\c9f646b6-e1e0-4d2c-bae1-19cca7c77e23\\c9f646b6-e1e0-4d2c-bae1-19cca7c77e23-image_els__d1_166_d2_250_d3_1_order_F_frames_833.mmap\n",
      "Decode mmap filename C:\\Users\\minel\\Documents\\data\\elavl3H2BGCaMP8m_7dpf_fed_glucose_500mM_25_20221227\\postgavage_vagal_L\\mesmerize-batch\\d6f64a99-45e4-4b60-be73-37d7375de6ac\\d6f64a99-45e4-4b60-be73-37d7375de6ac-image_els__d1_166_d2_250_d3_1_order_F_frames_833.mmap\n",
      "Decode mmap filename C:\\Users\\minel\\Documents\\data\\elavl3H2BGCaMP8m_7dpf_fed_glucose_500mM_25_20221227\\postgavage_vagal_L\\mesmerize-batch\\e92c5fbe-6669-466a-900e-d9b83e1cf8f6\\e92c5fbe-6669-466a-900e-d9b83e1cf8f6-image_els__d1_166_d2_250_d3_1_order_F_frames_833.mmap\n",
      "Decode mmap filename C:\\Users\\minel\\Documents\\data\\elavl3H2BGCaMP8m_7dpf_fed_glucose_500mM_25_20221227\\postgavage_vagal_L\\mesmerize-batch\\7809fe1b-0f60-4cb9-ab8c-cc3084c0e9a3\\7809fe1b-0f60-4cb9-ab8c-cc3084c0e9a3-image_els__d1_166_d2_250_d3_1_order_F_frames_833.mmap\n",
      "Decode mmap filename C:\\Users\\minel\\Documents\\data\\elavl3H2BGCaMP8m_7dpf_fed_glucose_500mM_25_20221227\\postgavage_vagal_L\\mesmerize-batch\\7b4a1f79-9c99-4d53-88a6-b2669eb656c6\\7b4a1f79-9c99-4d53-88a6-b2669eb656c6-image_els__d1_166_d2_250_d3_1_order_F_frames_833.mmap\n"
     ]
    },
    {
     "data": {
      "application/vnd.jupyter.widget-view+json": {
       "model_id": "84626ed782d444838f979ba2dd9962dd",
       "version_major": 2,
       "version_minor": 0
      },
      "text/plain": [
       "RFBOutputContext()"
      ]
     },
     "metadata": {},
     "output_type": "display_data"
    },
    {
     "data": {
      "application/vnd.jupyter.widget-view+json": {
       "model_id": "3fb7ca064d2548e9a46d6b336f28fd96",
       "version_major": 2,
       "version_minor": 0
      },
      "text/plain": [
       "VBox(children=(JupyterWgpuCanvas(), IntSlider(value=0, description='dimension: t', max=832), FloatRangeSlider(…"
      ]
     },
     "metadata": {},
     "output_type": "display_data"
    }
   ],
   "source": [
    "# Visualize the difference from the mean\n",
    "mcorr_iw = visualize_diff(mes_df)\n",
    "mcorr_iw.show()"
   ]
  },
  {
   "cell_type": "code",
   "execution_count": 20,
   "id": "3b415448",
   "metadata": {},
   "outputs": [],
   "source": [
    "mcorr_iw.plot.canvas.close()"
   ]
  },
  {
   "cell_type": "markdown",
   "id": "86cfed8f",
   "metadata": {},
   "source": [
    "### Choose an index with the best parameters"
   ]
  },
  {
   "cell_type": "code",
   "execution_count": 13,
   "id": "bda26abf",
   "metadata": {},
   "outputs": [],
   "source": [
    "indices = []"
   ]
  },
  {
   "cell_type": "code",
   "execution_count": 14,
   "id": "43ec449c",
   "metadata": {
    "scrolled": true
   },
   "outputs": [
    {
     "name": "stdout",
     "output_type": "stream",
     "text": [
      "Batch exists. Loading batch.pickle\n"
     ]
    },
    {
     "data": {
      "text/html": [
       "<div>\n",
       "<style scoped>\n",
       "    .dataframe tbody tr th:only-of-type {\n",
       "        vertical-align: middle;\n",
       "    }\n",
       "\n",
       "    .dataframe tbody tr th {\n",
       "        vertical-align: top;\n",
       "    }\n",
       "\n",
       "    .dataframe thead th {\n",
       "        text-align: right;\n",
       "    }\n",
       "</style>\n",
       "<table border=\"1\" class=\"dataframe\">\n",
       "  <thead>\n",
       "    <tr style=\"text-align: right;\">\n",
       "      <th></th>\n",
       "      <th>algo</th>\n",
       "      <th>item_name</th>\n",
       "      <th>input_movie_path</th>\n",
       "      <th>params</th>\n",
       "      <th>outputs</th>\n",
       "      <th>added_time</th>\n",
       "      <th>ran_time</th>\n",
       "      <th>algo_duration</th>\n",
       "      <th>comments</th>\n",
       "      <th>uuid</th>\n",
       "    </tr>\n",
       "  </thead>\n",
       "  <tbody>\n",
       "  </tbody>\n",
       "</table>\n",
       "</div>"
      ],
      "text/plain": [
       "Empty DataFrame\n",
       "Columns: [algo, item_name, input_movie_path, params, outputs, added_time, ran_time, algo_duration, comments, uuid]\n",
       "Index: []"
      ]
     },
     "execution_count": 14,
     "metadata": {},
     "output_type": "execute_result"
    }
   ],
   "source": [
    "df = load_mesmerize(fish)\n",
    "mes_df = clean_mesmerize(df, indices)\n",
    "mes_df"
   ]
  },
  {
   "cell_type": "markdown",
   "id": "eb96459c",
   "metadata": {},
   "source": [
    "## Run motion correction on all planes"
   ]
  },
  {
   "cell_type": "code",
   "execution_count": 6,
   "id": "cb5b83a4",
   "metadata": {},
   "outputs": [
    {
     "name": "stdout",
     "output_type": "stream",
     "text": [
      "Batch exists. Loading batch.pickle\n",
      "Batch exists. Loading batch.pickle\n",
      "Batch exists. Loading batch.pickle\n"
     ]
    },
    {
     "data": {
      "text/html": [
       "<div>\n",
       "<style scoped>\n",
       "    .dataframe tbody tr th:only-of-type {\n",
       "        vertical-align: middle;\n",
       "    }\n",
       "\n",
       "    .dataframe tbody tr th {\n",
       "        vertical-align: top;\n",
       "    }\n",
       "\n",
       "    .dataframe thead th {\n",
       "        text-align: right;\n",
       "    }\n",
       "</style>\n",
       "<table border=\"1\" class=\"dataframe\">\n",
       "  <thead>\n",
       "    <tr style=\"text-align: right;\">\n",
       "      <th></th>\n",
       "      <th>algo</th>\n",
       "      <th>item_name</th>\n",
       "      <th>input_movie_path</th>\n",
       "      <th>params</th>\n",
       "      <th>outputs</th>\n",
       "      <th>added_time</th>\n",
       "      <th>ran_time</th>\n",
       "      <th>algo_duration</th>\n",
       "      <th>comments</th>\n",
       "      <th>uuid</th>\n",
       "    </tr>\n",
       "  </thead>\n",
       "  <tbody>\n",
       "    <tr>\n",
       "      <th>0</th>\n",
       "      <td>mcorr</td>\n",
       "      <td>img_stack_3</td>\n",
       "      <td>img_stack_3\\image.tif</td>\n",
       "      <td>{'main': {'strides': (40, 40), 'overlaps': (15, 15), 'max_shifts': (30, 30), 'max_deviation_rigid': 30, 'pw_rigid': ...</td>\n",
       "      <td>{'mean-projection-path': 81e9b407-0f06-419d-bde6-a34491054277\\81e9b407-0f06-419d-bde6-a34491054277_mean_projection.n...</td>\n",
       "      <td>2023-05-19T13:25:30</td>\n",
       "      <td>2023-05-19T13:27:10</td>\n",
       "      <td>47.31 sec</td>\n",
       "      <td>None</td>\n",
       "      <td>81e9b407-0f06-419d-bde6-a34491054277</td>\n",
       "    </tr>\n",
       "    <tr>\n",
       "      <th>1</th>\n",
       "      <td>mcorr</td>\n",
       "      <td>img_stack_0</td>\n",
       "      <td>img_stack_0\\image.tif</td>\n",
       "      <td>{'main': {'strides': (40, 40), 'overlaps': (15, 15), 'max_shifts': (30, 30), 'max_deviation_rigid': 30, 'pw_rigid': ...</td>\n",
       "      <td>None</td>\n",
       "      <td>2023-05-19T13:35:13</td>\n",
       "      <td>None</td>\n",
       "      <td>None</td>\n",
       "      <td>None</td>\n",
       "      <td>4368db23-af24-4635-b1e5-5ed9917c3b12</td>\n",
       "    </tr>\n",
       "    <tr>\n",
       "      <th>2</th>\n",
       "      <td>mcorr</td>\n",
       "      <td>img_stack_1</td>\n",
       "      <td>img_stack_1\\image.tif</td>\n",
       "      <td>{'main': {'strides': (40, 40), 'overlaps': (15, 15), 'max_shifts': (30, 30), 'max_deviation_rigid': 30, 'pw_rigid': ...</td>\n",
       "      <td>None</td>\n",
       "      <td>2023-05-19T13:35:13</td>\n",
       "      <td>None</td>\n",
       "      <td>None</td>\n",
       "      <td>None</td>\n",
       "      <td>709f79b0-3e1c-4c70-b33e-67aaa2161c83</td>\n",
       "    </tr>\n",
       "    <tr>\n",
       "      <th>3</th>\n",
       "      <td>mcorr</td>\n",
       "      <td>img_stack_2</td>\n",
       "      <td>img_stack_2\\image.tif</td>\n",
       "      <td>{'main': {'strides': (40, 40), 'overlaps': (15, 15), 'max_shifts': (30, 30), 'max_deviation_rigid': 30, 'pw_rigid': ...</td>\n",
       "      <td>None</td>\n",
       "      <td>2023-05-19T13:35:13</td>\n",
       "      <td>None</td>\n",
       "      <td>None</td>\n",
       "      <td>None</td>\n",
       "      <td>d75ab8d1-c458-4f99-bf43-6d5aee0e2e92</td>\n",
       "    </tr>\n",
       "    <tr>\n",
       "      <th>4</th>\n",
       "      <td>mcorr</td>\n",
       "      <td>img_stack_4</td>\n",
       "      <td>img_stack_4\\image.tif</td>\n",
       "      <td>{'main': {'strides': (40, 40), 'overlaps': (15, 15), 'max_shifts': (30, 30), 'max_deviation_rigid': 30, 'pw_rigid': ...</td>\n",
       "      <td>None</td>\n",
       "      <td>2023-05-19T13:35:13</td>\n",
       "      <td>None</td>\n",
       "      <td>None</td>\n",
       "      <td>None</td>\n",
       "      <td>b9273412-6809-414a-8b3e-669f9533dc9c</td>\n",
       "    </tr>\n",
       "  </tbody>\n",
       "</table>\n",
       "</div>"
      ],
      "text/plain": [
       "    algo    item_name       input_movie_path  \\\n",
       "0  mcorr  img_stack_3  img_stack_3\\image.tif   \n",
       "1  mcorr  img_stack_0  img_stack_0\\image.tif   \n",
       "2  mcorr  img_stack_1  img_stack_1\\image.tif   \n",
       "3  mcorr  img_stack_2  img_stack_2\\image.tif   \n",
       "4  mcorr  img_stack_4  img_stack_4\\image.tif   \n",
       "\n",
       "                                                                                                                    params  \\\n",
       "0  {'main': {'strides': (40, 40), 'overlaps': (15, 15), 'max_shifts': (30, 30), 'max_deviation_rigid': 30, 'pw_rigid': ...   \n",
       "1  {'main': {'strides': (40, 40), 'overlaps': (15, 15), 'max_shifts': (30, 30), 'max_deviation_rigid': 30, 'pw_rigid': ...   \n",
       "2  {'main': {'strides': (40, 40), 'overlaps': (15, 15), 'max_shifts': (30, 30), 'max_deviation_rigid': 30, 'pw_rigid': ...   \n",
       "3  {'main': {'strides': (40, 40), 'overlaps': (15, 15), 'max_shifts': (30, 30), 'max_deviation_rigid': 30, 'pw_rigid': ...   \n",
       "4  {'main': {'strides': (40, 40), 'overlaps': (15, 15), 'max_shifts': (30, 30), 'max_deviation_rigid': 30, 'pw_rigid': ...   \n",
       "\n",
       "                                                                                                                   outputs  \\\n",
       "0  {'mean-projection-path': 81e9b407-0f06-419d-bde6-a34491054277\\81e9b407-0f06-419d-bde6-a34491054277_mean_projection.n...   \n",
       "1                                                                                                                     None   \n",
       "2                                                                                                                     None   \n",
       "3                                                                                                                     None   \n",
       "4                                                                                                                     None   \n",
       "\n",
       "            added_time             ran_time algo_duration comments  \\\n",
       "0  2023-05-19T13:25:30  2023-05-19T13:27:10     47.31 sec     None   \n",
       "1  2023-05-19T13:35:13                 None          None     None   \n",
       "2  2023-05-19T13:35:13                 None          None     None   \n",
       "3  2023-05-19T13:35:13                 None          None     None   \n",
       "4  2023-05-19T13:35:13                 None          None     None   \n",
       "\n",
       "                                   uuid  \n",
       "0  81e9b407-0f06-419d-bde6-a34491054277  \n",
       "1  4368db23-af24-4635-b1e5-5ed9917c3b12  \n",
       "2  709f79b0-3e1c-4c70-b33e-67aaa2161c83  \n",
       "3  d75ab8d1-c458-4f99-bf43-6d5aee0e2e92  \n",
       "4  b9273412-6809-414a-8b3e-669f9533dc9c  "
      ]
     },
     "execution_count": 6,
     "metadata": {},
     "output_type": "execute_result"
    }
   ],
   "source": [
    "fish.process_mesmerize_filestructure()\n",
    "mes_df = add_volume(fish, algo='mcorr')\n",
    "mes_df"
   ]
  },
  {
   "cell_type": "code",
   "execution_count": 7,
   "id": "993d49ce",
   "metadata": {
    "scrolled": true
   },
   "outputs": [
    {
     "name": "stdout",
     "output_type": "stream",
     "text": [
      "Running 4368db23-af24-4635-b1e5-5ed9917c3b12 with local backend\n",
      "starting mc\n",
      "mc finished successfully!\n",
      "computing projections\n",
      "Decode mmap filename C:\\Users\\minel\\Documents\\data\\vglut2dsRed_elavl3H2BGCaMP8m_6dpf_unfed_glucose_500mM_9_20221024\\postgavage_vagal_R\\mesmerize-batch\\4368db23-af24-4635-b1e5-5ed9917c3b12\\4368db23-af24-4635-b1e5-5ed9917c3b12-image_els__d1_400_d2_400_d3_1_order_F_frames_480.mmap\n",
      "finished computing correlation image\n",
      "Running 709f79b0-3e1c-4c70-b33e-67aaa2161c83 with local backend\n",
      "starting mc\n",
      "mc finished successfully!\n",
      "computing projections\n",
      "Decode mmap filename C:\\Users\\minel\\Documents\\data\\vglut2dsRed_elavl3H2BGCaMP8m_6dpf_unfed_glucose_500mM_9_20221024\\postgavage_vagal_R\\mesmerize-batch\\709f79b0-3e1c-4c70-b33e-67aaa2161c83\\709f79b0-3e1c-4c70-b33e-67aaa2161c83-image_els__d1_400_d2_400_d3_1_order_F_frames_480.mmap\n",
      "finished computing correlation image\n",
      "Running d75ab8d1-c458-4f99-bf43-6d5aee0e2e92 with local backend\n",
      "starting mc\n",
      "mc finished successfully!\n",
      "computing projections\n",
      "Decode mmap filename C:\\Users\\minel\\Documents\\data\\vglut2dsRed_elavl3H2BGCaMP8m_6dpf_unfed_glucose_500mM_9_20221024\\postgavage_vagal_R\\mesmerize-batch\\d75ab8d1-c458-4f99-bf43-6d5aee0e2e92\\d75ab8d1-c458-4f99-bf43-6d5aee0e2e92-image_els__d1_400_d2_400_d3_1_order_F_frames_480.mmap\n",
      "finished computing correlation image\n",
      "Running b9273412-6809-414a-8b3e-669f9533dc9c with local backend\n",
      "starting mc\n",
      "mc finished successfully!\n",
      "computing projections\n",
      "Decode mmap filename C:\\Users\\minel\\Documents\\data\\vglut2dsRed_elavl3H2BGCaMP8m_6dpf_unfed_glucose_500mM_9_20221024\\postgavage_vagal_R\\mesmerize-batch\\b9273412-6809-414a-8b3e-669f9533dc9c\\b9273412-6809-414a-8b3e-669f9533dc9c-image_els__d1_400_d2_400_d3_1_order_F_frames_479.mmap\n",
      "finished computing correlation image\n",
      "True\n",
      "True\n",
      "True\n",
      "True\n",
      "True\n"
     ]
    }
   ],
   "source": [
    "run_mesmerize(mes_df)\n",
    "mes_df = mes_df.caiman.reload_from_disk()\n",
    "\n",
    "# See the rows that were successfully run\n",
    "for output in mes_df.loc[:, 'outputs']:\n",
    "    print(output['success'])"
   ]
  },
  {
   "cell_type": "markdown",
   "id": "8bf2f9a3",
   "metadata": {},
   "source": [
    "### Visualize outputs"
   ]
  },
  {
   "cell_type": "code",
   "execution_count": 8,
   "id": "837d4ce1",
   "metadata": {
    "scrolled": false
   },
   "outputs": [
    {
     "name": "stdout",
     "output_type": "stream",
     "text": [
      "Batch exists. Loading batch.pickle\n",
      "Decode mmap filename C:\\Users\\minel\\Documents\\data\\vglut2dsRed_elavl3H2BGCaMP8m_6dpf_unfed_glucose_500mM_9_20221024\\postgavage_vagal_R\\mesmerize-batch\\81e9b407-0f06-419d-bde6-a34491054277\\81e9b407-0f06-419d-bde6-a34491054277-image_els__d1_400_d2_400_d3_1_order_F_frames_480.mmap\n",
      "Decode mmap filename C:\\Users\\minel\\Documents\\data\\vglut2dsRed_elavl3H2BGCaMP8m_6dpf_unfed_glucose_500mM_9_20221024\\postgavage_vagal_R\\mesmerize-batch\\4368db23-af24-4635-b1e5-5ed9917c3b12\\4368db23-af24-4635-b1e5-5ed9917c3b12-image_els__d1_400_d2_400_d3_1_order_F_frames_480.mmap\n",
      "Decode mmap filename C:\\Users\\minel\\Documents\\data\\vglut2dsRed_elavl3H2BGCaMP8m_6dpf_unfed_glucose_500mM_9_20221024\\postgavage_vagal_R\\mesmerize-batch\\709f79b0-3e1c-4c70-b33e-67aaa2161c83\\709f79b0-3e1c-4c70-b33e-67aaa2161c83-image_els__d1_400_d2_400_d3_1_order_F_frames_480.mmap\n",
      "Decode mmap filename C:\\Users\\minel\\Documents\\data\\vglut2dsRed_elavl3H2BGCaMP8m_6dpf_unfed_glucose_500mM_9_20221024\\postgavage_vagal_R\\mesmerize-batch\\d75ab8d1-c458-4f99-bf43-6d5aee0e2e92\\d75ab8d1-c458-4f99-bf43-6d5aee0e2e92-image_els__d1_400_d2_400_d3_1_order_F_frames_480.mmap\n",
      "Decode mmap filename C:\\Users\\minel\\Documents\\data\\vglut2dsRed_elavl3H2BGCaMP8m_6dpf_unfed_glucose_500mM_9_20221024\\postgavage_vagal_R\\mesmerize-batch\\b9273412-6809-414a-8b3e-669f9533dc9c\\b9273412-6809-414a-8b3e-669f9533dc9c-image_els__d1_400_d2_400_d3_1_order_F_frames_479.mmap\n"
     ]
    },
    {
     "data": {
      "application/vnd.jupyter.widget-view+json": {
       "model_id": "ef8caa43e0f6464fb22167926baa0371",
       "version_major": 2,
       "version_minor": 0
      },
      "text/plain": [
       "RFBOutputContext()"
      ]
     },
     "metadata": {},
     "output_type": "display_data"
    },
    {
     "data": {
      "application/vnd.jupyter.widget-view+json": {
       "model_id": "808e7ffffd7f4f759f4469a3d6e8be8f",
       "version_major": 2,
       "version_minor": 0
      },
      "text/plain": [
       "VBox(children=(JupyterWgpuCanvas(), IntSlider(value=0, description='dimension: t', max=478), FloatRangeSlider(…"
      ]
     },
     "metadata": {},
     "output_type": "display_data"
    }
   ],
   "source": [
    "mes_df = load_mesmerize(fish)\n",
    "mcorr_iw = visualize_mesmerize(mes_df, 'mcorr')\n",
    "mcorr_iw.show()"
   ]
  },
  {
   "cell_type": "code",
   "execution_count": 9,
   "id": "bf188b3b",
   "metadata": {},
   "outputs": [],
   "source": [
    "mcorr_iw.plot.canvas.close()"
   ]
  },
  {
   "cell_type": "code",
   "execution_count": null,
   "id": "e65ec3ca",
   "metadata": {},
   "outputs": [],
   "source": []
  }
 ],
 "metadata": {
  "kernelspec": {
   "display_name": "Python 3 (ipykernel)",
   "language": "python",
   "name": "python3"
  },
  "language_info": {
   "codemirror_mode": {
    "name": "ipython",
    "version": 3
   },
   "file_extension": ".py",
   "mimetype": "text/x-python",
   "name": "python",
   "nbconvert_exporter": "python",
   "pygments_lexer": "ipython3",
   "version": "3.10.12"
  }
 },
 "nbformat": 4,
 "nbformat_minor": 5
}
