{
 "cells": [
  {
   "cell_type": "code",
   "execution_count": 3,
   "id": "9f893710",
   "metadata": {},
   "outputs": [
    {
     "name": "stdout",
     "output_type": "stream",
     "text": [
      "The autoreload extension is already loaded. To reload it, use:\n",
      "  %reload_ext autoreload\n"
     ]
    }
   ],
   "source": [
    "%load_ext autoreload\n",
    "%autoreload 2\n",
    "\n",
    "from caImageAnalysis import BrukerFish\n",
    "from caImageAnalysis.visualize import visualize_volumes"
   ]
  },
  {
   "cell_type": "markdown",
   "id": "5a9e6915",
   "metadata": {},
   "source": [
    "### Change the exp_folder to the path of the experiment"
   ]
  },
  {
   "cell_type": "code",
   "execution_count": 12,
   "id": "d4e48c87",
   "metadata": {},
   "outputs": [],
   "source": [
    "# Change this path to the experiment folder\n",
    "exp_folder = r'/Volumes/Rapid/bruker2P_data/elavl3H2BGCaMP8m_8dpf_fed_glucose_500mM_1_20230809'"
   ]
  },
  {
   "cell_type": "code",
   "execution_count": 5,
   "id": "2ea44674",
   "metadata": {},
   "outputs": [
    {
     "data": {
      "text/plain": [
       "{'raw': PosixPath('/Volumes/Rapid/bruker2P_data/elavl3H2BGCaMP8m_8dpf_fed_glucose_500mM_1_20230809/vagal_L-001'),\n",
       " 'log': PosixPath('/Volumes/Rapid/bruker2P_data/elavl3H2BGCaMP8m_8dpf_fed_glucose_500mM_1_20230809/vagal_L-001/vagal_L-001.xml'),\n",
       " 'voltage_output': PosixPath('/Volumes/Rapid/bruker2P_data/elavl3H2BGCaMP8m_8dpf_fed_glucose_500mM_1_20230809/vagal_L-001/vagal_L-001_Cycle00001_VoltageOutput_001.xml'),\n",
       " 'references': PosixPath('/Volumes/Rapid/bruker2P_data/elavl3H2BGCaMP8m_8dpf_fed_glucose_500mM_1_20230809/vagal_L-001/References')}"
      ]
     },
     "execution_count": 5,
     "metadata": {},
     "output_type": "execute_result"
    }
   ],
   "source": [
    "# Initialize BrukerFish\n",
    "fish = BrukerFish(exp_folder)\n",
    "fish.data_paths"
   ]
  },
  {
   "cell_type": "code",
   "execution_count": 11,
   "id": "7097bba5",
   "metadata": {},
   "outputs": [
    {
     "name": "stderr",
     "output_type": "stream",
     "text": [
      "/Users/minelarinel/caImageAnalysis/caImageAnalysis/bruker_2P/bruker.py:77: GuessedAtParserWarning: No parser was explicitly specified, so I'm using the best available HTML parser for this system (\"html.parser\"). This usually isn't a problem, but if you run this code on another system, or in a different virtual environment, it may use a different parser and behave differently.\n",
      "\n",
      "The code that caused this warning is on line 77 of the file /Users/minelarinel/caImageAnalysis/caImageAnalysis/bruker_2P/bruker.py. To get rid of this warning, pass the additional argument 'features=\"html.parser\"' to the BeautifulSoup constructor.\n",
      "\n",
      "  Bs_data = BeautifulSoup(log)\n",
      "/Users/minelarinel/mambaforge/envs/mescore/lib/python3.10/site-packages/bs4/builder/__init__.py:545: XMLParsedAsHTMLWarning: It looks like you're parsing an XML document using an HTML parser. If this really is an HTML document (maybe it's XHTML?), you can ignore or filter this warning. If it's XML, you should know that using an XML parser will be more reliable. To parse this document as XML, make sure you have the lxml package installed, and pass the keyword argument `features=\"xml\"` into the BeautifulSoup constructor.\n",
      "  warnings.warn(\n"
     ]
    }
   ],
   "source": [
    "# If running for the first time, create a combined frametimes.txt and combined tif files\n",
    "fish.create_frametimes_txt()\n",
    "fish.combine_channel_images('Ch2')"
   ]
  },
  {
   "cell_type": "code",
   "execution_count": 13,
   "id": "c9370c72",
   "metadata": {},
   "outputs": [],
   "source": [
    "# Check the combined image. If needed, rotate the raw image by angle.\n",
    "angle = 180\n",
    "\n",
    "fish.rotate_image(fish.data_paths['raw_image'], angle=angle)"
   ]
  },
  {
   "cell_type": "code",
   "execution_count": 14,
   "id": "4102f174",
   "metadata": {},
   "outputs": [
    {
     "name": "stderr",
     "output_type": "stream",
     "text": [
      "/Users/minelarinel/caImageAnalysis/caImageAnalysis/bruker_2P/bruker.py:147: PerformanceWarning: \n",
      "your performance may suffer as PyTables will pickle object types that it cannot\n",
      "map directly to c-types [inferred_type->time,key->block0_values] [items->Index(['time'], dtype='object')]\n",
      "\n",
      "  if not os.path.exists(plane_folder_path):\n"
     ]
    }
   ],
   "source": [
    "# Split the raw volumetric image to individual planes\n",
    "fish.split_bruker_volumes('Ch2')"
   ]
  },
  {
   "cell_type": "markdown",
   "id": "8e372b36",
   "metadata": {},
   "source": [
    "## Visualize planes"
   ]
  },
  {
   "cell_type": "code",
   "execution_count": 15,
   "id": "2d67091b",
   "metadata": {},
   "outputs": [
    {
     "data": {
      "application/vnd.jupyter.widget-view+json": {
       "model_id": "b93bb2b109814f0b916df78c50ef5959",
       "version_major": 2,
       "version_minor": 0
      },
      "text/plain": [
       "RFBOutputContext()"
      ]
     },
     "metadata": {},
     "output_type": "display_data"
    },
    {
     "name": "stderr",
     "output_type": "stream",
     "text": [
      "/Users/minelarinel/mambaforge/envs/mescore/lib/python3.10/site-packages/fastplotlib/graphics/_features/_base.py:34: UserWarning: converting float64 array to float32\n",
      "  warn(f\"converting {array.dtype} array to float32\")\n"
     ]
    },
    {
     "data": {
      "application/vnd.jupyter.widget-view+json": {
       "model_id": "f2fe268a200b48bfa68114f23c0d280f",
       "version_major": 2,
       "version_minor": 0
      },
      "text/plain": [
       "VBox(children=(VBox(children=(JupyterWgpuCanvas(), HBox(children=(Button(icon='expand-arrows-alt', layout=Layo…"
      ]
     },
     "execution_count": 15,
     "metadata": {},
     "output_type": "execute_result"
    }
   ],
   "source": [
    "iw = visualize_volumes(fish)\n",
    "iw.show()"
   ]
  },
  {
   "cell_type": "code",
   "execution_count": null,
   "id": "6b079d05",
   "metadata": {},
   "outputs": [],
   "source": []
  }
 ],
 "metadata": {
  "kernelspec": {
   "display_name": "Python 3 (ipykernel)",
   "language": "python",
   "name": "python3"
  },
  "language_info": {
   "codemirror_mode": {
    "name": "ipython",
    "version": 3
   },
   "file_extension": ".py",
   "mimetype": "text/x-python",
   "name": "python",
   "nbconvert_exporter": "python",
   "pygments_lexer": "ipython3",
   "version": "3.10.12"
  }
 },
 "nbformat": 4,
 "nbformat_minor": 5
}
