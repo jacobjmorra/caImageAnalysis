{
 "cells": [
  {
   "cell_type": "code",
   "execution_count": 1,
   "id": "9f893710",
   "metadata": {},
   "outputs": [],
   "source": [
    "%load_ext autoreload\n",
    "%autoreload 2\n",
    "\n",
    "import matplotlib.pyplot as plt\n",
    "import os\n",
    "import pandas as pd\n",
    "from tifffile import imread, memmap\n",
    "\n",
    "from caImageAnalysis import BrukerFish\n",
    "from caImageAnalysis.utils import rotate_image\n",
    "from caImageAnalysis.visualize import visualize_images, visualize_volumes"
   ]
  },
  {
   "cell_type": "markdown",
   "id": "5a9e6915",
   "metadata": {},
   "source": [
    "### Change the exp_folder to the path of the experiment"
   ]
  },
  {
   "cell_type": "code",
   "execution_count": 108,
   "id": "d4e48c87",
   "metadata": {},
   "outputs": [],
   "source": [
    "# Change this path to the experiment folder\n",
    "exp_folder = r'/Volumes/Rapid/bruker2P_data/elavl3H2BGCaMP8m_7dpf_fed_glucose_25mM_21_20240109'\n",
    "region = ''\n",
    "remove_pulses = None\n",
    "gavage = True"
   ]
  },
  {
   "cell_type": "code",
   "execution_count": 109,
   "id": "2ea44674",
   "metadata": {},
   "outputs": [
    {
     "name": "stdout",
     "output_type": "stream",
     "text": [
      "Batch exists. Loading batch.pickle\n"
     ]
    },
    {
     "name": "stderr",
     "output_type": "stream",
     "text": [
      "/Users/minelarinel/caImageAnalysis/caImageAnalysis/bruker_2P/bruker.py:178: GuessedAtParserWarning: No parser was explicitly specified, so I'm using the best available HTML parser for this system (\"html.parser\"). This usually isn't a problem, but if you run this code on another system, or in a different virtual environment, it may use a different parser and behave differently.\n",
      "\n",
      "The code that caused this warning is on line 178 of the file /Users/minelarinel/caImageAnalysis/caImageAnalysis/bruker_2P/bruker.py. To get rid of this warning, pass the additional argument 'features=\"html.parser\"' to the BeautifulSoup constructor.\n",
      "\n",
      "  log = file.read()\n",
      "/Users/minelarinel/mambaforge/envs/mescore/lib/python3.10/site-packages/bs4/builder/__init__.py:545: XMLParsedAsHTMLWarning: It looks like you're parsing an XML document using an HTML parser. If this really is an HTML document (maybe it's XHTML?), you can ignore or filter this warning. If it's XML, you should know that using an XML parser will be more reliable. To parse this document as XML, make sure you have the lxml package installed, and pass the keyword argument `features=\"xml\"` into the BeautifulSoup constructor.\n",
      "  warnings.warn(\n"
     ]
    },
    {
     "data": {
      "text/plain": [
       "{'raw': PosixPath('/Volumes/Rapid/bruker2P_data/elavl3H2BGCaMP8m_7dpf_fed_glucose_25mM_21_20240109/vagal_R-000'),\n",
       " 'frametimes': PosixPath('/Volumes/Rapid/bruker2P_data/elavl3H2BGCaMP8m_7dpf_fed_glucose_25mM_21_20240109/vagal_R-000_frametimes.txt'),\n",
       " 'raw_image': PosixPath('/Volumes/Rapid/bruker2P_data/elavl3H2BGCaMP8m_7dpf_fed_glucose_25mM_21_20240109/vagal_R-000_ch2.tif'),\n",
       " 'mesmerize': PosixPath('/Volumes/Rapid/bruker2P_data/elavl3H2BGCaMP8m_7dpf_fed_glucose_25mM_21_20240109/mesmerize-batch'),\n",
       " 'temporal': PosixPath('/Volumes/Rapid/bruker2P_data/elavl3H2BGCaMP8m_7dpf_fed_glucose_25mM_21_20240109/temporal.h5'),\n",
       " 'vol_temporal': PosixPath('/Volumes/Rapid/bruker2P_data/elavl3H2BGCaMP8m_7dpf_fed_glucose_25mM_21_20240109/vol_temporal.pkl'),\n",
       " 'clusters': PosixPath('/Volumes/Rapid/bruker2P_data/elavl3H2BGCaMP8m_7dpf_fed_glucose_25mM_21_20240109/clusters.pkl'),\n",
       " 'unrolled_temporal': PosixPath('/Volumes/Rapid/bruker2P_data/elavl3H2BGCaMP8m_7dpf_fed_glucose_25mM_21_20240109/unrolled_temporal.h5'),\n",
       " 'anatomy': PosixPath('/Volumes/Rapid/bruker2P_data/elavl3H2BGCaMP8m_7dpf_fed_glucose_25mM_21_20240109/vagal_R-000/vagal_R-000_Cycle01175_Ch2_000001.ome.tif'),\n",
       " 'log': PosixPath('/Volumes/Rapid/bruker2P_data/elavl3H2BGCaMP8m_7dpf_fed_glucose_25mM_21_20240109/vagal_R-000/vagal_R-000.xml'),\n",
       " 'voltage_output': PosixPath('/Volumes/Rapid/bruker2P_data/elavl3H2BGCaMP8m_7dpf_fed_glucose_25mM_21_20240109/vagal_R-000/vagal_R-000_Cycle00001_VoltageOutput_001.xml'),\n",
       " 'references': PosixPath('/Volumes/Rapid/bruker2P_data/elavl3H2BGCaMP8m_7dpf_fed_glucose_25mM_21_20240109/vagal_R-000/References')}"
      ]
     },
     "execution_count": 109,
     "metadata": {},
     "output_type": "execute_result"
    }
   ],
   "source": [
    "# Initialize BrukerFish\n",
    "fish = BrukerFish(exp_folder, region=region, remove_pulses=remove_pulses, gavage=gavage)\n",
    "fish.data_paths"
   ]
  },
  {
   "cell_type": "code",
   "execution_count": 110,
   "id": "7097bba5",
   "metadata": {},
   "outputs": [
    {
     "name": "stderr",
     "output_type": "stream",
     "text": [
      "/Users/minelarinel/caImageAnalysis/caImageAnalysis/bruker_2P/bruker.py:208: GuessedAtParserWarning: No parser was explicitly specified, so I'm using the best available HTML parser for this system (\"html.parser\"). This usually isn't a problem, but if you run this code on another system, or in a different virtual environment, it may use a different parser and behave differently.\n",
      "\n",
      "The code that caused this warning is on line 208 of the file /Users/minelarinel/caImageAnalysis/caImageAnalysis/bruker_2P/bruker.py. To get rid of this warning, pass the additional argument 'features=\"html.parser\"' to the BeautifulSoup constructor.\n",
      "\n",
      "  log = file.read()\n"
     ]
    }
   ],
   "source": [
    "# If running for the first time, create a combined frametimes.txt and combined tif files\n",
    "fish.create_frametimes_txt()\n",
    "# fish.combine_channel_images('Ch2')"
   ]
  },
  {
   "cell_type": "markdown",
   "id": "1f9b5126",
   "metadata": {},
   "source": [
    "### If you have any phase offset problems, stop here and run the 0.5_fix_phase.ipynb"
   ]
  },
  {
   "cell_type": "code",
   "execution_count": 6,
   "id": "c9370c72",
   "metadata": {},
   "outputs": [],
   "source": [
    "# Check the combined image. If needed, rotate the raw image by angle.\n",
    "if 'markpoints' in fish.data_paths.keys() or 'vagal_R' in fish.data_paths['raw'].name:\n",
    "    # coordinate conversion is a pain, rotate the image later\n",
    "    # and vagal_R is collected in the correct orientation\n",
    "    pass\n",
    "else:\n",
    "    if 'vagal_L' in fish.data_paths['raw'].name:\n",
    "        angle = 180\n",
    "    else:\n",
    "        angle = 90\n",
    "\n",
    "    fish.rotate_image(fish.data_paths['raw_image'], angle=angle)"
   ]
  },
  {
   "cell_type": "code",
   "execution_count": 7,
   "id": "56120de4",
   "metadata": {},
   "outputs": [],
   "source": [
    "# When the rotation angle is accurate, also rotate and create the anatomy.tif stack\n",
    "if 'markpoints' in fish.data_paths.keys() or 'vagal_R' in fish.data_paths['raw'].name:\n",
    "    # coordinate conversion is a pain, rotate the image later\n",
    "    # and vagal_R is collected in the correct orientation\n",
    "    pass\n",
    "else:\n",
    "    anatomy_img = imread(fish.data_paths['anatomy'])\n",
    "    anatomy_img_rotated = rotate_image(anatomy_img, path=fish.exp_path.joinpath('anatomy.tif'), angle=angle)\n",
    "    fish.process_filestructure()\n",
    "\n",
    "    plt.imshow(anatomy_img_rotated[0])"
   ]
  },
  {
   "cell_type": "code",
   "execution_count": 111,
   "id": "4102f174",
   "metadata": {},
   "outputs": [
    {
     "name": "stderr",
     "output_type": "stream",
     "text": [
      "/Users/minelarinel/caImageAnalysis/caImageAnalysis/bruker_2P/bruker.py:325: PerformanceWarning: \n",
      "your performance may suffer as PyTables will pickle object types that it cannot\n",
      "map directly to c-types [inferred_type->time,key->block0_values] [items->Index(['time'], dtype='object')]\n",
      "\n",
      "  \n"
     ]
    },
    {
     "name": "stdout",
     "output_type": "stream",
     "text": [
      "Batch exists. Loading batch.pickle\n"
     ]
    }
   ],
   "source": [
    "# Split the raw volumetric image to individual planes\n",
    "# If it's not volumetric, creates a frametimes.h5 file in the exp_path\n",
    "if fish.volumetric:\n",
    "    fish.split_bruker_volumes('Ch2')\n",
    "else:\n",
    "    frametimes = fish.frametimes_df.copy()\n",
    "    frametimes.reset_index(drop=True)\n",
    "    if len(fish.region) > 0:\n",
    "        frametimes.to_hdf(os.path.join(fish.exp_path, f'{region}_frametimes.h5'), 'frametimes')\n",
    "    else:\n",
    "        frametimes.to_hdf(os.path.join(fish.exp_path, f'frametimes.h5'), 'frametimes')\n",
    "    fish.process_filestructure()"
   ]
  },
  {
   "cell_type": "code",
   "execution_count": 112,
   "metadata": {},
   "outputs": [
    {
     "data": {
      "text/html": [
       "<div>\n",
       "<style scoped>\n",
       "    .dataframe tbody tr th:only-of-type {\n",
       "        vertical-align: middle;\n",
       "    }\n",
       "\n",
       "    .dataframe tbody tr th {\n",
       "        vertical-align: top;\n",
       "    }\n",
       "\n",
       "    .dataframe thead th {\n",
       "        text-align: right;\n",
       "    }\n",
       "</style>\n",
       "<table border=\"1\" class=\"dataframe\">\n",
       "  <thead>\n",
       "    <tr style=\"text-align: right;\">\n",
       "      <th></th>\n",
       "      <th>time</th>\n",
       "      <th>pulse</th>\n",
       "    </tr>\n",
       "  </thead>\n",
       "  <tbody>\n",
       "    <tr>\n",
       "      <th>0</th>\n",
       "      <td>14:43:15</td>\n",
       "      <td>0</td>\n",
       "    </tr>\n",
       "    <tr>\n",
       "      <th>1</th>\n",
       "      <td>14:43:15.153384</td>\n",
       "      <td>0</td>\n",
       "    </tr>\n",
       "    <tr>\n",
       "      <th>2</th>\n",
       "      <td>14:43:15.306768</td>\n",
       "      <td>0</td>\n",
       "    </tr>\n",
       "    <tr>\n",
       "      <th>3</th>\n",
       "      <td>14:43:15.460152</td>\n",
       "      <td>0</td>\n",
       "    </tr>\n",
       "    <tr>\n",
       "      <th>4</th>\n",
       "      <td>14:43:15.613535</td>\n",
       "      <td>0</td>\n",
       "    </tr>\n",
       "    <tr>\n",
       "      <th>...</th>\n",
       "      <td>...</td>\n",
       "      <td>...</td>\n",
       "    </tr>\n",
       "    <tr>\n",
       "      <th>5865</th>\n",
       "      <td>14:58:14.596386</td>\n",
       "      <td>4</td>\n",
       "    </tr>\n",
       "    <tr>\n",
       "      <th>5866</th>\n",
       "      <td>14:58:14.074977</td>\n",
       "      <td>4</td>\n",
       "    </tr>\n",
       "    <tr>\n",
       "      <th>5867</th>\n",
       "      <td>14:58:14.903154</td>\n",
       "      <td>4</td>\n",
       "    </tr>\n",
       "    <tr>\n",
       "      <th>5868</th>\n",
       "      <td>14:58:15.056537</td>\n",
       "      <td>4</td>\n",
       "    </tr>\n",
       "    <tr>\n",
       "      <th>5869</th>\n",
       "      <td>14:58:15.209921</td>\n",
       "      <td>4</td>\n",
       "    </tr>\n",
       "  </tbody>\n",
       "</table>\n",
       "<p>5870 rows × 2 columns</p>\n",
       "</div>"
      ],
      "text/plain": [
       "                 time  pulse\n",
       "0            14:43:15      0\n",
       "1     14:43:15.153384      0\n",
       "2     14:43:15.306768      0\n",
       "3     14:43:15.460152      0\n",
       "4     14:43:15.613535      0\n",
       "...               ...    ...\n",
       "5865  14:58:14.596386      4\n",
       "5866  14:58:14.074977      4\n",
       "5867  14:58:14.903154      4\n",
       "5868  14:58:15.056537      4\n",
       "5869  14:58:15.209921      4\n",
       "\n",
       "[5870 rows x 2 columns]"
      ]
     },
     "execution_count": 112,
     "metadata": {},
     "output_type": "execute_result"
    }
   ],
   "source": [
    "fish.frametimes_df"
   ]
  },
  {
   "cell_type": "markdown",
   "id": "8e372b36",
   "metadata": {},
   "source": [
    "## Visualize plane(s)"
   ]
  },
  {
   "cell_type": "code",
   "execution_count": 10,
   "id": "2d67091b",
   "metadata": {},
   "outputs": [
    {
     "data": {
      "application/vnd.jupyter.widget-view+json": {
       "model_id": "9ad33832948b4bd2be14ef115e78f88b",
       "version_major": 2,
       "version_minor": 0
      },
      "text/plain": [
       "RFBOutputContext()"
      ]
     },
     "metadata": {},
     "output_type": "display_data"
    },
    {
     "data": {
      "application/vnd.jupyter.widget-view+json": {
       "model_id": "66408b94cd2d4593946295fdee0440b9",
       "version_major": 2,
       "version_minor": 0
      },
      "text/plain": [
       "VBox(children=(JupyterWgpuCanvas(), IntSlider(value=0, description='dimension: t', max=1173), FloatRangeSlider…"
      ]
     },
     "metadata": {},
     "output_type": "display_data"
    },
    {
     "name": "stderr",
     "output_type": "stream",
     "text": [
      "No such comm: 18378026f82c4ff2a530f226587b0a1e\n",
      "No such comm: 18378026f82c4ff2a530f226587b0a1e\n"
     ]
    }
   ],
   "source": [
    "if fish.volumetric:\n",
    "    iw = visualize_volumes(fish)\n",
    "else:\n",
    "    img = memmap(fish.data_paths['raw_image'])\n",
    "    iw = visualize_images(imgs=img)\n",
    "\n",
    "iw.show()"
   ]
  },
  {
   "cell_type": "code",
   "execution_count": 11,
   "id": "6b079d05",
   "metadata": {},
   "outputs": [],
   "source": [
    "iw.plot.canvas.close()"
   ]
  },
  {
   "cell_type": "code",
   "execution_count": null,
   "metadata": {},
   "outputs": [],
   "source": []
  }
 ],
 "metadata": {
  "kernelspec": {
   "display_name": "Python 3 (ipykernel)",
   "language": "python",
   "name": "python3"
  },
  "language_info": {
   "codemirror_mode": {
    "name": "ipython",
    "version": 3
   },
   "file_extension": ".py",
   "mimetype": "text/x-python",
   "name": "python",
   "nbconvert_exporter": "python",
   "pygments_lexer": "ipython3",
   "version": "3.10.12"
  }
 },
 "nbformat": 4,
 "nbformat_minor": 5
}
