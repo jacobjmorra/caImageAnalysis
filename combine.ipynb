{
 "cells": [
  {
   "cell_type": "code",
   "execution_count": 1,
   "id": "4c7b8e6c",
   "metadata": {},
   "outputs": [],
   "source": [
    "%load_ext autoreload\n",
    "%autoreload 2\n",
    "\n",
    "from volume_fish import VolumeFish\n",
    "from utils import *\n",
    "from mesm import *"
   ]
  },
  {
   "cell_type": "code",
   "execution_count": 2,
   "id": "e6385881",
   "metadata": {},
   "outputs": [],
   "source": [
    "vagalR_ids = [50, 51, 54, 9]\n",
    "vagalL_ids = [25, 53]"
   ]
  },
  {
   "cell_type": "code",
   "execution_count": 3,
   "id": "d9ef11cd",
   "metadata": {},
   "outputs": [],
   "source": [
    "# Path where the experiment folders are located\n",
    "data_folder = r'C:\\Users\\minel\\Documents\\data'"
   ]
  },
  {
   "cell_type": "code",
   "execution_count": 19,
   "id": "a20c95b6",
   "metadata": {
    "scrolled": true
   },
   "outputs": [],
   "source": [
    "vagalR_paths = []\n",
    "vagalL_paths = []\n",
    "\n",
    "with os.scandir(data_folder) as entries:\n",
    "    for entry in entries:\n",
    "        if os.path.isdir(entry.path):\n",
    "            parsed = entry.name.split('_')\n",
    "            try:\n",
    "                if int(parsed[-2]) in vagalR_ids:\n",
    "                    vagalR_paths.append(Path(entry.path))\n",
    "                elif int(parsed[-2]) in vagalL_ids:\n",
    "                    vagalL_paths.append(Path(entry.path))\n",
    "            except:\n",
    "                pass"
   ]
  },
  {
   "cell_type": "code",
   "execution_count": 25,
   "id": "4dd5fc96",
   "metadata": {},
   "outputs": [
    {
     "name": "stdout",
     "output_type": "stream",
     "text": [
      "Batch exists. Loading batch.pickle\n",
      "Batch exists. Loading batch.pickle\n",
      "Batch exists. Loading batch.pickle\n",
      "Batch exists. Loading batch.pickle\n"
     ]
    },
    {
     "ename": "ValueError",
     "evalue": "all the input array dimensions except for the concatenation axis must match exactly, but along dimension 1, the array at index 0 has size 973 and the array at index 2 has size 779",
     "output_type": "error",
     "traceback": [
      "\u001B[1;31m---------------------------------------------------------------------------\u001B[0m",
      "\u001B[1;31mValueError\u001B[0m                                Traceback (most recent call last)",
      "Cell \u001B[1;32mIn[25], line 8\u001B[0m\n\u001B[0;32m      5\u001B[0m     norm_vol_df \u001B[38;5;241m=\u001B[39m plot_temporal_volume(fish, key\u001B[38;5;241m=\u001B[39m\u001B[38;5;124m'\u001B[39m\u001B[38;5;124mnorm_dff\u001B[39m\u001B[38;5;124m'\u001B[39m)\n\u001B[0;32m      6\u001B[0m     norm_vol_dfs\u001B[38;5;241m.\u001B[39mappend(norm_vol_df)\n\u001B[1;32m----> 8\u001B[0m norm_vol_dfs \u001B[38;5;241m=\u001B[39m \u001B[43mnp\u001B[49m\u001B[38;5;241;43m.\u001B[39;49m\u001B[43mvstack\u001B[49m\u001B[43m(\u001B[49m\u001B[43mnorm_vol_dfs\u001B[49m\u001B[43m)\u001B[49m\n",
      "File \u001B[1;32m<__array_function__ internals>:200\u001B[0m, in \u001B[0;36mvstack\u001B[1;34m(*args, **kwargs)\u001B[0m\n",
      "File \u001B[1;32m~\\mambaforge\\envs\\mescore\\lib\\site-packages\\numpy\\core\\shape_base.py:296\u001B[0m, in \u001B[0;36mvstack\u001B[1;34m(tup, dtype, casting)\u001B[0m\n\u001B[0;32m    294\u001B[0m \u001B[38;5;28;01mif\u001B[39;00m \u001B[38;5;129;01mnot\u001B[39;00m \u001B[38;5;28misinstance\u001B[39m(arrs, \u001B[38;5;28mlist\u001B[39m):\n\u001B[0;32m    295\u001B[0m     arrs \u001B[38;5;241m=\u001B[39m [arrs]\n\u001B[1;32m--> 296\u001B[0m \u001B[38;5;28;01mreturn\u001B[39;00m \u001B[43m_nx\u001B[49m\u001B[38;5;241;43m.\u001B[39;49m\u001B[43mconcatenate\u001B[49m\u001B[43m(\u001B[49m\u001B[43marrs\u001B[49m\u001B[43m,\u001B[49m\u001B[43m \u001B[49m\u001B[38;5;241;43m0\u001B[39;49m\u001B[43m,\u001B[49m\u001B[43m \u001B[49m\u001B[43mdtype\u001B[49m\u001B[38;5;241;43m=\u001B[39;49m\u001B[43mdtype\u001B[49m\u001B[43m,\u001B[49m\u001B[43m \u001B[49m\u001B[43mcasting\u001B[49m\u001B[38;5;241;43m=\u001B[39;49m\u001B[43mcasting\u001B[49m\u001B[43m)\u001B[49m\n",
      "File \u001B[1;32m<__array_function__ internals>:200\u001B[0m, in \u001B[0;36mconcatenate\u001B[1;34m(*args, **kwargs)\u001B[0m\n",
      "\u001B[1;31mValueError\u001B[0m: all the input array dimensions except for the concatenation axis must match exactly, but along dimension 1, the array at index 0 has size 973 and the array at index 2 has size 779"
     ]
    }
   ],
   "source": [
    "norm_vol_dfs = []\n",
    "\n",
    "for exp_folder in vagalR_paths:\n",
    "    fish = VolumeFish(exp_folder)\n",
    "    norm_vol_df = plot_temporal_volume(fish, key='norm_dff')\n",
    "    norm_vol_dfs.append(norm_vol_df)\n",
    "    \n",
    "norm_vol_dfs = np.vstack(norm_vol_dfs)"
   ]
  },
  {
   "cell_type": "code",
   "execution_count": 30,
   "id": "86b8d4a4",
   "metadata": {},
   "outputs": [
    {
     "data": {
      "text/plain": [
       "(11, 479)"
      ]
     },
     "execution_count": 30,
     "metadata": {},
     "output_type": "execute_result"
    }
   ],
   "source": [
    "norm_vol_dfs[3].shape"
   ]
  },
  {
   "cell_type": "code",
   "execution_count": null,
   "id": "7d377b1d",
   "metadata": {},
   "outputs": [],
   "source": []
  }
 ],
 "metadata": {
  "kernelspec": {
   "display_name": "Python 3 (ipykernel)",
   "language": "python",
   "name": "python3"
  },
  "language_info": {
   "codemirror_mode": {
    "name": "ipython",
    "version": 3
   },
   "file_extension": ".py",
   "mimetype": "text/x-python",
   "name": "python",
   "nbconvert_exporter": "python",
   "pygments_lexer": "ipython3",
   "version": "3.10.8"
  }
 },
 "nbformat": 4,
 "nbformat_minor": 5
}
