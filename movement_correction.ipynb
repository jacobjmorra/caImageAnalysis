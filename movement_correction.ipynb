{
 "cells": [
  {
   "cell_type": "code",
   "execution_count": 1,
   "id": "cc49f315",
   "metadata": {},
   "outputs": [],
   "source": [
    "%load_ext autoreload\n",
    "%autoreload 2\n",
    "\n",
    "from volume_fish import VolumeFish\n",
    "from caiman_process import caiman_mcorr\n",
    "from mesm import *\n",
    "from utils import visualize_images, visualize_volumes\n",
    "from tifffile import memmap\n",
    "import pandas as pd\n",
    "\n",
    "pd.options.display.max_colwidth = 120"
   ]
  },
  {
   "cell_type": "markdown",
   "id": "4bbc00ce",
   "metadata": {},
   "source": [
    "### Change the exp_folder to the path of the experiment"
   ]
  },
  {
   "cell_type": "code",
   "execution_count": 2,
   "id": "cd0d8c26",
   "metadata": {},
   "outputs": [],
   "source": [
    "exp_folder = r'C:\\Users\\minel\\Documents\\data\\vglut2dsRed_elavl3H2BGCaMP8m_6dpf_unfed_glucose_500mM_9_20221024'"
   ]
  },
  {
   "cell_type": "code",
   "execution_count": 3,
   "id": "0c539866",
   "metadata": {
    "scrolled": true
   },
   "outputs": [
    {
     "name": "stdout",
     "output_type": "stream",
     "text": [
      "Batch exists. Loading batch.pickle\n"
     ]
    },
    {
     "data": {
      "text/plain": [
       "{'injection': WindowsPath('C:/Users/minel/Documents/data/vglut2dsRed_elavl3H2BGCaMP8m_6dpf_unfed_glucose_500mM_9_20221024/injection.txt'),\n",
       " 'log': WindowsPath('C:/Users/minel/Documents/data/vglut2dsRed_elavl3H2BGCaMP8m_6dpf_unfed_glucose_500mM_9_20221024/log.123.txt'),\n",
       " 'postgavage_path': WindowsPath('C:/Users/minel/Documents/data/vglut2dsRed_elavl3H2BGCaMP8m_6dpf_unfed_glucose_500mM_9_20221024/postgavage_vagal_R'),\n",
       " 'cropped': WindowsPath('C:/Users/minel/Documents/data/vglut2dsRed_elavl3H2BGCaMP8m_6dpf_unfed_glucose_500mM_9_20221024/postgavage_vagal_R/img_cropped.tif'),\n",
       " 'mesmerize': WindowsPath('C:/Users/minel/Documents/data/vglut2dsRed_elavl3H2BGCaMP8m_6dpf_unfed_glucose_500mM_9_20221024/postgavage_vagal_R/mesmerize-batch'),\n",
       " 'opts': WindowsPath('C:/Users/minel/Documents/data/vglut2dsRed_elavl3H2BGCaMP8m_6dpf_unfed_glucose_500mM_9_20221024/postgavage_vagal_R/opts.pkl'),\n",
       " 'raw_image': WindowsPath('C:/Users/minel/Documents/data/vglut2dsRed_elavl3H2BGCaMP8m_6dpf_unfed_glucose_500mM_9_20221024/postgavage_vagal_R/postgavage_vagal_R.ch1.tif'),\n",
       " 'frametimes': WindowsPath('C:/Users/minel/Documents/data/vglut2dsRed_elavl3H2BGCaMP8m_6dpf_unfed_glucose_500mM_9_20221024/postgavage_vagal_R/postgavage_vagal_R.ch1.txt'),\n",
       " 'anatomy': WindowsPath('C:/Users/minel/Documents/data/vglut2dsRed_elavl3H2BGCaMP8m_6dpf_unfed_glucose_500mM_9_20221024/postgavage_vagal_R/postgavage_vagal_R_anatomy'),\n",
       " 'flipped': WindowsPath('C:/Users/minel/Documents/data/vglut2dsRed_elavl3H2BGCaMP8m_6dpf_unfed_glucose_500mM_9_20221024/postgavage_vagal_R/raw_flipped.tif'),\n",
       " 'volumes': {'0': {'frametimes': WindowsPath('C:/Users/minel/Documents/data/vglut2dsRed_elavl3H2BGCaMP8m_6dpf_unfed_glucose_500mM_9_20221024/postgavage_vagal_R/img_stack_0/frametimes.h5'),\n",
       "   'inj_frame': 145,\n",
       "   'image': WindowsPath('C:/Users/minel/Documents/data/vglut2dsRed_elavl3H2BGCaMP8m_6dpf_unfed_glucose_500mM_9_20221024/postgavage_vagal_R/img_stack_0/image.tif')},\n",
       "  '1': {'frametimes': WindowsPath('C:/Users/minel/Documents/data/vglut2dsRed_elavl3H2BGCaMP8m_6dpf_unfed_glucose_500mM_9_20221024/postgavage_vagal_R/img_stack_1/frametimes.h5'),\n",
       "   'inj_frame': 144,\n",
       "   'image': WindowsPath('C:/Users/minel/Documents/data/vglut2dsRed_elavl3H2BGCaMP8m_6dpf_unfed_glucose_500mM_9_20221024/postgavage_vagal_R/img_stack_1/image.tif')},\n",
       "  '2': {'frametimes': WindowsPath('C:/Users/minel/Documents/data/vglut2dsRed_elavl3H2BGCaMP8m_6dpf_unfed_glucose_500mM_9_20221024/postgavage_vagal_R/img_stack_2/frametimes.h5'),\n",
       "   'inj_frame': 144,\n",
       "   'image': WindowsPath('C:/Users/minel/Documents/data/vglut2dsRed_elavl3H2BGCaMP8m_6dpf_unfed_glucose_500mM_9_20221024/postgavage_vagal_R/img_stack_2/image.tif')},\n",
       "  '3': {'frametimes': WindowsPath('C:/Users/minel/Documents/data/vglut2dsRed_elavl3H2BGCaMP8m_6dpf_unfed_glucose_500mM_9_20221024/postgavage_vagal_R/img_stack_3/frametimes.h5'),\n",
       "   'inj_frame': 144,\n",
       "   'image': WindowsPath('C:/Users/minel/Documents/data/vglut2dsRed_elavl3H2BGCaMP8m_6dpf_unfed_glucose_500mM_9_20221024/postgavage_vagal_R/img_stack_3/image.tif'),\n",
       "   'mcorr': WindowsPath('C:/Users/minel/Documents/data/vglut2dsRed_elavl3H2BGCaMP8m_6dpf_unfed_glucose_500mM_9_20221024/postgavage_vagal_R/mesmerize-batch/5e3a37c4-861d-453d-8b9e-53c0a3352f8f/5e3a37c4-861d-453d-8b9e-53c0a3352f8f-image_els__d1_400_d2_400_d3_1_order_F_frames_480.mmap')},\n",
       "  '4': {'frametimes': WindowsPath('C:/Users/minel/Documents/data/vglut2dsRed_elavl3H2BGCaMP8m_6dpf_unfed_glucose_500mM_9_20221024/postgavage_vagal_R/img_stack_4/frametimes.h5'),\n",
       "   'inj_frame': 144,\n",
       "   'image': WindowsPath('C:/Users/minel/Documents/data/vglut2dsRed_elavl3H2BGCaMP8m_6dpf_unfed_glucose_500mM_9_20221024/postgavage_vagal_R/img_stack_4/image.tif')}}}"
      ]
     },
     "execution_count": 3,
     "metadata": {},
     "output_type": "execute_result"
    }
   ],
   "source": [
    "#Create fish\n",
    "\n",
    "fish = VolumeFish(exp_folder)\n",
    "fish.data_paths"
   ]
  },
  {
   "cell_type": "markdown",
   "id": "5b23a421",
   "metadata": {},
   "source": [
    "## Pick a plane to apply movement correction"
   ]
  },
  {
   "cell_type": "code",
   "execution_count": 6,
   "id": "4e4a0a28",
   "metadata": {
    "scrolled": false
   },
   "outputs": [
    {
     "data": {
      "application/vnd.jupyter.widget-view+json": {
       "model_id": "484c7435564344fb8ed38695338e8e02",
       "version_major": 2,
       "version_minor": 0
      },
      "text/plain": [
       "RFBOutputContext()"
      ]
     },
     "metadata": {},
     "output_type": "display_data"
    },
    {
     "data": {
      "application/vnd.jupyter.widget-view+json": {
       "model_id": "83fe143cd5994258b2934253dd08b9f0",
       "version_major": 2,
       "version_minor": 0
      },
      "text/plain": [
       "VBox(children=(JupyterWgpuCanvas(), IntSlider(value=0, description='dimension: t', max=972), FloatRangeSlider(…"
      ]
     },
     "metadata": {},
     "output_type": "display_data"
    }
   ],
   "source": [
    "iw = visualize_volumes(fish)\n",
    "iw.show()"
   ]
  },
  {
   "cell_type": "code",
   "execution_count": 7,
   "id": "a9140a7f",
   "metadata": {},
   "outputs": [],
   "source": [
    "iw.plot.canvas.close()"
   ]
  },
  {
   "cell_type": "code",
   "execution_count": 12,
   "id": "d8f1a6cd",
   "metadata": {},
   "outputs": [],
   "source": [
    "plane = 3"
   ]
  },
  {
   "cell_type": "markdown",
   "id": "2ccf19be",
   "metadata": {},
   "source": [
    "## Set parameters"
   ]
  },
  {
   "cell_type": "code",
   "execution_count": 13,
   "id": "76ac0392",
   "metadata": {},
   "outputs": [],
   "source": [
    "# motion correction parameters\n",
    "strides = (40, 40)          # start a new patch for pw-rigid motion correction every x pixels\n",
    "overlaps = (15, 15)         # overlap between pathes (size of patch strides+overlaps)\n",
    "max_shifts = (20, 20)          # maximum allowed rigid shifts (in pixels)\n",
    "max_deviation_rigid = 20     # maximum shifts deviation allowed for patch with respect to rigid shifts\n",
    "pw_rigid = True             # flag for performing non-rigid motion correction"
   ]
  },
  {
   "cell_type": "code",
   "execution_count": 14,
   "id": "c345b21d",
   "metadata": {},
   "outputs": [],
   "source": [
    "opts_dict = {'strides': strides,\n",
    "            'overlaps': overlaps,\n",
    "            'max_shifts': max_shifts,\n",
    "            'max_deviation_rigid': max_deviation_rigid,\n",
    "            'pw_rigid': pw_rigid}"
   ]
  },
  {
   "cell_type": "markdown",
   "id": "23f04571",
   "metadata": {},
   "source": [
    "## Motion correct"
   ]
  },
  {
   "cell_type": "code",
   "execution_count": 15,
   "id": "1dc4abfe",
   "metadata": {
    "scrolled": true
   },
   "outputs": [
    {
     "name": "stderr",
     "output_type": "stream",
     "text": [
      "100%|████████████████████████████████████████████████████████████████████████████████████| 1/1 [00:00<00:00,  5.32it/s]\n",
      "  0%|                                                                                            | 0/1 [00:00<?, ?it/s]"
     ]
    },
    {
     "name": "stdout",
     "output_type": "stream",
     "text": [
      "Decode mmap filename C:\\Users\\minel\\Documents\\data\\elavl3H2BGCaMP8m_8dpf_fed_glucose_625mM_54_20230405\\postgavage_vagal_R\\mesmerize-batch\\f99dc1da-ec92-4301-8465-873eb33f8f28\\image_els__d1_400_d2_400_d3_1_order_F_frames_480.mmap\n"
     ]
    },
    {
     "name": "stderr",
     "output_type": "stream",
     "text": [
      "100%|████████████████████████████████████████████████████████████████████████████████████| 1/1 [00:00<00:00,  3.26it/s]\n"
     ]
    },
    {
     "name": "stdout",
     "output_type": "stream",
     "text": [
      "Decode mmap filename C:\\Users\\minel\\Documents\\data\\elavl3H2BGCaMP8m_8dpf_fed_glucose_625mM_54_20230405\\postgavage_vagal_R\\mesmerize-batch\\f99dc1da-ec92-4301-8465-873eb33f8f28\\image_els__d1_400_d2_400_d3_1_order_F_frames_480.mmap\n",
      "C:\\Users\\minel\\Documents\\data\\elavl3H2BGCaMP8m_8dpf_fed_glucose_625mM_54_20230405\\postgavage_vagal_R\\mesmerize-batch\\f99dc1da-ec92-4301-8465-873eb33f8f28\\memmap_d1_400_d2_400_d3_1_order_C_frames_480.mmap\n",
      "Decode mmap filename C:\\Users\\minel\\Documents\\data\\elavl3H2BGCaMP8m_8dpf_fed_glucose_625mM_54_20230405\\postgavage_vagal_R\\mesmerize-batch\\f99dc1da-ec92-4301-8465-873eb33f8f28\\memmap_d1_400_d2_400_d3_1_order_C_frames_480.mmap\n"
     ]
    }
   ],
   "source": [
    "mcorr_img = caiman_mcorr(fish, plane=plane, **opts_dict)"
   ]
  },
  {
   "cell_type": "code",
   "execution_count": 16,
   "id": "11ea1936",
   "metadata": {},
   "outputs": [
    {
     "data": {
      "application/vnd.jupyter.widget-view+json": {
       "model_id": "0cb7ca0463f647279fc7715277620fc3",
       "version_major": 2,
       "version_minor": 0
      },
      "text/plain": [
       "RFBOutputContext()"
      ]
     },
     "metadata": {},
     "output_type": "display_data"
    },
    {
     "data": {
      "application/vnd.jupyter.widget-view+json": {
       "model_id": "0410850772584fa39a9a242243f2c389",
       "version_major": 2,
       "version_minor": 0
      },
      "text/plain": [
       "VBox(children=(JupyterWgpuCanvas(), IntSlider(value=0, description='dimension: t', max=479), FloatRangeSlider(…"
      ]
     },
     "metadata": {},
     "output_type": "display_data"
    }
   ],
   "source": [
    "orig = memmap(fish.data_paths['volumes'][str(plane)]['image'])\n",
    "iw = visualize_images([orig, mcorr_img], names=['original', 'mcorr'])\n",
    "iw.show()"
   ]
  },
  {
   "cell_type": "code",
   "execution_count": 17,
   "id": "d33f9ad6",
   "metadata": {},
   "outputs": [],
   "source": [
    "iw.plot.canvas.close()"
   ]
  },
  {
   "cell_type": "markdown",
   "id": "6988dfe1",
   "metadata": {},
   "source": [
    "## Optimize parameters with Mesmerize"
   ]
  },
  {
   "cell_type": "code",
   "execution_count": 14,
   "id": "6370f240",
   "metadata": {},
   "outputs": [],
   "source": [
    "plane = 1"
   ]
  },
  {
   "cell_type": "markdown",
   "id": "9df6d492",
   "metadata": {},
   "source": [
    "### Motion correction parameters"
   ]
  },
  {
   "cell_type": "code",
   "execution_count": 18,
   "id": "70902458",
   "metadata": {},
   "outputs": [],
   "source": [
    "strides = [40, 60]  # start a new patch for pw-rigid motion correction every x pixels\n",
    "overlaps = [15, 25]  # overlap between patches (size of patch strides+overlaps)\n",
    "max_shifts = [30]  # maximum allowed rigid shifts (in pixels)\n",
    "max_deviation_rigid = [20, 30]  # maximum shifts deviation allowed for patch with respect to rigid shifts"
   ]
  },
  {
   "cell_type": "code",
   "execution_count": 19,
   "id": "21b4c922",
   "metadata": {},
   "outputs": [
    {
     "name": "stdout",
     "output_type": "stream",
     "text": [
      "Batch does not exist. Creating batch.pickle\n"
     ]
    }
   ],
   "source": [
    "img_path = fish.data_paths['volumes'][str(plane)]['image']\n",
    "mes_df = add_mcorr(fish, [img_path], grid=True, \n",
    "                         strides=strides, \n",
    "                         overlaps=overlaps,\n",
    "                         max_shifts=max_shifts,\n",
    "                         max_deviation_rigid=max_deviation_rigid)"
   ]
  },
  {
   "cell_type": "code",
   "execution_count": 20,
   "id": "7e340584",
   "metadata": {},
   "outputs": [
    {
     "data": {
      "text/html": [
       "<div>\n",
       "<style scoped>\n",
       "    .dataframe tbody tr th:only-of-type {\n",
       "        vertical-align: middle;\n",
       "    }\n",
       "\n",
       "    .dataframe tbody tr th {\n",
       "        vertical-align: top;\n",
       "    }\n",
       "\n",
       "    .dataframe thead th {\n",
       "        text-align: right;\n",
       "    }\n",
       "</style>\n",
       "<table border=\"1\" class=\"dataframe\">\n",
       "  <thead>\n",
       "    <tr style=\"text-align: right;\">\n",
       "      <th></th>\n",
       "      <th>algo</th>\n",
       "      <th>item_name</th>\n",
       "      <th>input_movie_path</th>\n",
       "      <th>params</th>\n",
       "      <th>outputs</th>\n",
       "      <th>added_time</th>\n",
       "      <th>ran_time</th>\n",
       "      <th>algo_duration</th>\n",
       "      <th>comments</th>\n",
       "      <th>uuid</th>\n",
       "    </tr>\n",
       "  </thead>\n",
       "  <tbody>\n",
       "    <tr>\n",
       "      <th>0</th>\n",
       "      <td>mcorr</td>\n",
       "      <td>img_stack_3</td>\n",
       "      <td>img_stack_3\\image.tif</td>\n",
       "      <td>{'main': {'strides': (40, 40), 'overlaps': (15, 15), 'max_shifts': (30, 30), 'max_deviation_rigid': 20, 'pw_rigid': ...</td>\n",
       "      <td>None</td>\n",
       "      <td>2023-05-19T13:25:30</td>\n",
       "      <td>None</td>\n",
       "      <td>None</td>\n",
       "      <td>None</td>\n",
       "      <td>8a18cda3-8097-4c8b-915c-2950880ddb47</td>\n",
       "    </tr>\n",
       "    <tr>\n",
       "      <th>1</th>\n",
       "      <td>mcorr</td>\n",
       "      <td>img_stack_3</td>\n",
       "      <td>img_stack_3\\image.tif</td>\n",
       "      <td>{'main': {'strides': (40, 40), 'overlaps': (15, 15), 'max_shifts': (30, 30), 'max_deviation_rigid': 30, 'pw_rigid': ...</td>\n",
       "      <td>None</td>\n",
       "      <td>2023-05-19T13:25:30</td>\n",
       "      <td>None</td>\n",
       "      <td>None</td>\n",
       "      <td>None</td>\n",
       "      <td>81e9b407-0f06-419d-bde6-a34491054277</td>\n",
       "    </tr>\n",
       "    <tr>\n",
       "      <th>2</th>\n",
       "      <td>mcorr</td>\n",
       "      <td>img_stack_3</td>\n",
       "      <td>img_stack_3\\image.tif</td>\n",
       "      <td>{'main': {'strides': (40, 40), 'overlaps': (25, 25), 'max_shifts': (30, 30), 'max_deviation_rigid': 20, 'pw_rigid': ...</td>\n",
       "      <td>None</td>\n",
       "      <td>2023-05-19T13:25:30</td>\n",
       "      <td>None</td>\n",
       "      <td>None</td>\n",
       "      <td>None</td>\n",
       "      <td>0885bbd4-f303-4098-a4d7-bba35a5187ec</td>\n",
       "    </tr>\n",
       "    <tr>\n",
       "      <th>3</th>\n",
       "      <td>mcorr</td>\n",
       "      <td>img_stack_3</td>\n",
       "      <td>img_stack_3\\image.tif</td>\n",
       "      <td>{'main': {'strides': (40, 40), 'overlaps': (25, 25), 'max_shifts': (30, 30), 'max_deviation_rigid': 30, 'pw_rigid': ...</td>\n",
       "      <td>None</td>\n",
       "      <td>2023-05-19T13:25:30</td>\n",
       "      <td>None</td>\n",
       "      <td>None</td>\n",
       "      <td>None</td>\n",
       "      <td>5f42942f-05fc-4b3e-a18e-686bb159e2c9</td>\n",
       "    </tr>\n",
       "    <tr>\n",
       "      <th>4</th>\n",
       "      <td>mcorr</td>\n",
       "      <td>img_stack_3</td>\n",
       "      <td>img_stack_3\\image.tif</td>\n",
       "      <td>{'main': {'strides': (60, 60), 'overlaps': (15, 15), 'max_shifts': (30, 30), 'max_deviation_rigid': 20, 'pw_rigid': ...</td>\n",
       "      <td>None</td>\n",
       "      <td>2023-05-19T13:25:30</td>\n",
       "      <td>None</td>\n",
       "      <td>None</td>\n",
       "      <td>None</td>\n",
       "      <td>e6766df5-1b0f-4231-9c73-6b893b9d2b56</td>\n",
       "    </tr>\n",
       "    <tr>\n",
       "      <th>5</th>\n",
       "      <td>mcorr</td>\n",
       "      <td>img_stack_3</td>\n",
       "      <td>img_stack_3\\image.tif</td>\n",
       "      <td>{'main': {'strides': (60, 60), 'overlaps': (15, 15), 'max_shifts': (30, 30), 'max_deviation_rigid': 30, 'pw_rigid': ...</td>\n",
       "      <td>None</td>\n",
       "      <td>2023-05-19T13:25:30</td>\n",
       "      <td>None</td>\n",
       "      <td>None</td>\n",
       "      <td>None</td>\n",
       "      <td>0c2e8a37-33a4-4f1a-8542-32074d5c7b4b</td>\n",
       "    </tr>\n",
       "    <tr>\n",
       "      <th>6</th>\n",
       "      <td>mcorr</td>\n",
       "      <td>img_stack_3</td>\n",
       "      <td>img_stack_3\\image.tif</td>\n",
       "      <td>{'main': {'strides': (60, 60), 'overlaps': (25, 25), 'max_shifts': (30, 30), 'max_deviation_rigid': 20, 'pw_rigid': ...</td>\n",
       "      <td>None</td>\n",
       "      <td>2023-05-19T13:25:30</td>\n",
       "      <td>None</td>\n",
       "      <td>None</td>\n",
       "      <td>None</td>\n",
       "      <td>db92ebac-64bd-4e2e-a3b5-52b1dea3023e</td>\n",
       "    </tr>\n",
       "    <tr>\n",
       "      <th>7</th>\n",
       "      <td>mcorr</td>\n",
       "      <td>img_stack_3</td>\n",
       "      <td>img_stack_3\\image.tif</td>\n",
       "      <td>{'main': {'strides': (60, 60), 'overlaps': (25, 25), 'max_shifts': (30, 30), 'max_deviation_rigid': 30, 'pw_rigid': ...</td>\n",
       "      <td>None</td>\n",
       "      <td>2023-05-19T13:25:30</td>\n",
       "      <td>None</td>\n",
       "      <td>None</td>\n",
       "      <td>None</td>\n",
       "      <td>5e3a37c4-861d-453d-8b9e-53c0a3352f8f</td>\n",
       "    </tr>\n",
       "  </tbody>\n",
       "</table>\n",
       "</div>"
      ],
      "text/plain": [
       "    algo    item_name       input_movie_path  \\\n",
       "0  mcorr  img_stack_3  img_stack_3\\image.tif   \n",
       "1  mcorr  img_stack_3  img_stack_3\\image.tif   \n",
       "2  mcorr  img_stack_3  img_stack_3\\image.tif   \n",
       "3  mcorr  img_stack_3  img_stack_3\\image.tif   \n",
       "4  mcorr  img_stack_3  img_stack_3\\image.tif   \n",
       "5  mcorr  img_stack_3  img_stack_3\\image.tif   \n",
       "6  mcorr  img_stack_3  img_stack_3\\image.tif   \n",
       "7  mcorr  img_stack_3  img_stack_3\\image.tif   \n",
       "\n",
       "                                                                                                                    params  \\\n",
       "0  {'main': {'strides': (40, 40), 'overlaps': (15, 15), 'max_shifts': (30, 30), 'max_deviation_rigid': 20, 'pw_rigid': ...   \n",
       "1  {'main': {'strides': (40, 40), 'overlaps': (15, 15), 'max_shifts': (30, 30), 'max_deviation_rigid': 30, 'pw_rigid': ...   \n",
       "2  {'main': {'strides': (40, 40), 'overlaps': (25, 25), 'max_shifts': (30, 30), 'max_deviation_rigid': 20, 'pw_rigid': ...   \n",
       "3  {'main': {'strides': (40, 40), 'overlaps': (25, 25), 'max_shifts': (30, 30), 'max_deviation_rigid': 30, 'pw_rigid': ...   \n",
       "4  {'main': {'strides': (60, 60), 'overlaps': (15, 15), 'max_shifts': (30, 30), 'max_deviation_rigid': 20, 'pw_rigid': ...   \n",
       "5  {'main': {'strides': (60, 60), 'overlaps': (15, 15), 'max_shifts': (30, 30), 'max_deviation_rigid': 30, 'pw_rigid': ...   \n",
       "6  {'main': {'strides': (60, 60), 'overlaps': (25, 25), 'max_shifts': (30, 30), 'max_deviation_rigid': 20, 'pw_rigid': ...   \n",
       "7  {'main': {'strides': (60, 60), 'overlaps': (25, 25), 'max_shifts': (30, 30), 'max_deviation_rigid': 30, 'pw_rigid': ...   \n",
       "\n",
       "  outputs           added_time ran_time algo_duration comments  \\\n",
       "0    None  2023-05-19T13:25:30     None          None     None   \n",
       "1    None  2023-05-19T13:25:30     None          None     None   \n",
       "2    None  2023-05-19T13:25:30     None          None     None   \n",
       "3    None  2023-05-19T13:25:30     None          None     None   \n",
       "4    None  2023-05-19T13:25:30     None          None     None   \n",
       "5    None  2023-05-19T13:25:30     None          None     None   \n",
       "6    None  2023-05-19T13:25:30     None          None     None   \n",
       "7    None  2023-05-19T13:25:30     None          None     None   \n",
       "\n",
       "                                   uuid  \n",
       "0  8a18cda3-8097-4c8b-915c-2950880ddb47  \n",
       "1  81e9b407-0f06-419d-bde6-a34491054277  \n",
       "2  0885bbd4-f303-4098-a4d7-bba35a5187ec  \n",
       "3  5f42942f-05fc-4b3e-a18e-686bb159e2c9  \n",
       "4  e6766df5-1b0f-4231-9c73-6b893b9d2b56  \n",
       "5  0c2e8a37-33a4-4f1a-8542-32074d5c7b4b  \n",
       "6  db92ebac-64bd-4e2e-a3b5-52b1dea3023e  \n",
       "7  5e3a37c4-861d-453d-8b9e-53c0a3352f8f  "
      ]
     },
     "execution_count": 20,
     "metadata": {},
     "output_type": "execute_result"
    }
   ],
   "source": [
    "mes_df"
   ]
  },
  {
   "cell_type": "code",
   "execution_count": 21,
   "id": "3dec0008",
   "metadata": {},
   "outputs": [
    {
     "name": "stderr",
     "output_type": "stream",
     "text": [
      "C:\\Users\\minel\\AppData\\Local\\Temp\\ipykernel_30572\\688498701.py:2: FutureWarning: You are trying to use the following experimental feature, this may change in the future without warning:\n",
      "CaimanDataFrameExtensions.get_params_diffs\n",
      "This feature is new and the might improve in the future\n",
      "\n",
      "  diffs = mes_df.caiman.get_params_diffs(algo=\"mcorr\", item_name=mes_df.iloc[0][\"item_name\"])\n"
     ]
    },
    {
     "data": {
      "text/plain": [
       "0    {'overlaps': (15, 15), 'max_deviation_rigid': 20, 'strides': (40, 40)}\n",
       "1    {'overlaps': (15, 15), 'max_deviation_rigid': 30, 'strides': (40, 40)}\n",
       "2    {'overlaps': (25, 25), 'max_deviation_rigid': 20, 'strides': (40, 40)}\n",
       "3    {'overlaps': (25, 25), 'max_deviation_rigid': 30, 'strides': (40, 40)}\n",
       "4    {'overlaps': (15, 15), 'max_deviation_rigid': 20, 'strides': (60, 60)}\n",
       "5    {'overlaps': (15, 15), 'max_deviation_rigid': 30, 'strides': (60, 60)}\n",
       "6    {'overlaps': (25, 25), 'max_deviation_rigid': 20, 'strides': (60, 60)}\n",
       "7    {'overlaps': (25, 25), 'max_deviation_rigid': 30, 'strides': (60, 60)}\n",
       "Name: params, dtype: object"
      ]
     },
     "execution_count": 21,
     "metadata": {},
     "output_type": "execute_result"
    }
   ],
   "source": [
    "# See the unique parameters between rows with the same item_name\n",
    "diffs = mes_df.caiman.get_params_diffs(algo=\"mcorr\", item_name=mes_df.iloc[0][\"item_name\"])\n",
    "diffs"
   ]
  },
  {
   "cell_type": "markdown",
   "id": "ec970f45",
   "metadata": {},
   "source": [
    "### Run motion correction with the given parameter space"
   ]
  },
  {
   "cell_type": "code",
   "execution_count": 22,
   "id": "1c7e166e",
   "metadata": {
    "scrolled": true
   },
   "outputs": [
    {
     "name": "stdout",
     "output_type": "stream",
     "text": [
      "Batch exists. Loading batch.pickle\n",
      "Running 8a18cda3-8097-4c8b-915c-2950880ddb47 with local backend\n",
      "starting mc\n",
      "mc finished successfully!\n",
      "computing projections\n",
      "Decode mmap filename C:\\Users\\minel\\Documents\\data\\vglut2dsRed_elavl3H2BGCaMP8m_6dpf_unfed_glucose_500mM_9_20221024\\postgavage_vagal_R\\mesmerize-batch\\8a18cda3-8097-4c8b-915c-2950880ddb47\\8a18cda3-8097-4c8b-915c-2950880ddb47-image_els__d1_400_d2_400_d3_1_order_F_frames_480.mmap\n",
      "finished computing correlation image\n",
      "Running 81e9b407-0f06-419d-bde6-a34491054277 with local backend\n",
      "starting mc\n",
      "mc finished successfully!\n",
      "computing projections\n",
      "Decode mmap filename C:\\Users\\minel\\Documents\\data\\vglut2dsRed_elavl3H2BGCaMP8m_6dpf_unfed_glucose_500mM_9_20221024\\postgavage_vagal_R\\mesmerize-batch\\81e9b407-0f06-419d-bde6-a34491054277\\81e9b407-0f06-419d-bde6-a34491054277-image_els__d1_400_d2_400_d3_1_order_F_frames_480.mmap\n",
      "finished computing correlation image\n",
      "Running 0885bbd4-f303-4098-a4d7-bba35a5187ec with local backend\n",
      "starting mc\n",
      "mc finished successfully!\n",
      "computing projections\n",
      "Decode mmap filename C:\\Users\\minel\\Documents\\data\\vglut2dsRed_elavl3H2BGCaMP8m_6dpf_unfed_glucose_500mM_9_20221024\\postgavage_vagal_R\\mesmerize-batch\\0885bbd4-f303-4098-a4d7-bba35a5187ec\\0885bbd4-f303-4098-a4d7-bba35a5187ec-image_els__d1_400_d2_400_d3_1_order_F_frames_480.mmap\n",
      "finished computing correlation image\n",
      "Running 5f42942f-05fc-4b3e-a18e-686bb159e2c9 with local backend\n",
      "starting mc\n",
      "mc finished successfully!\n",
      "computing projections\n",
      "Decode mmap filename C:\\Users\\minel\\Documents\\data\\vglut2dsRed_elavl3H2BGCaMP8m_6dpf_unfed_glucose_500mM_9_20221024\\postgavage_vagal_R\\mesmerize-batch\\5f42942f-05fc-4b3e-a18e-686bb159e2c9\\5f42942f-05fc-4b3e-a18e-686bb159e2c9-image_els__d1_400_d2_400_d3_1_order_F_frames_480.mmap\n",
      "finished computing correlation image\n",
      "Running e6766df5-1b0f-4231-9c73-6b893b9d2b56 with local backend\n",
      "starting mc\n",
      "mc finished successfully!\n",
      "computing projections\n",
      "Decode mmap filename C:\\Users\\minel\\Documents\\data\\vglut2dsRed_elavl3H2BGCaMP8m_6dpf_unfed_glucose_500mM_9_20221024\\postgavage_vagal_R\\mesmerize-batch\\e6766df5-1b0f-4231-9c73-6b893b9d2b56\\e6766df5-1b0f-4231-9c73-6b893b9d2b56-image_els__d1_400_d2_400_d3_1_order_F_frames_480.mmap\n",
      "finished computing correlation image\n",
      "Running 0c2e8a37-33a4-4f1a-8542-32074d5c7b4b with local backend\n",
      "starting mc\n",
      "mc finished successfully!\n",
      "computing projections\n",
      "Decode mmap filename C:\\Users\\minel\\Documents\\data\\vglut2dsRed_elavl3H2BGCaMP8m_6dpf_unfed_glucose_500mM_9_20221024\\postgavage_vagal_R\\mesmerize-batch\\0c2e8a37-33a4-4f1a-8542-32074d5c7b4b\\0c2e8a37-33a4-4f1a-8542-32074d5c7b4b-image_els__d1_400_d2_400_d3_1_order_F_frames_480.mmap\n",
      "finished computing correlation image\n",
      "Running db92ebac-64bd-4e2e-a3b5-52b1dea3023e with local backend\n",
      "starting mc\n",
      "mc finished successfully!\n",
      "computing projections\n",
      "Decode mmap filename C:\\Users\\minel\\Documents\\data\\vglut2dsRed_elavl3H2BGCaMP8m_6dpf_unfed_glucose_500mM_9_20221024\\postgavage_vagal_R\\mesmerize-batch\\db92ebac-64bd-4e2e-a3b5-52b1dea3023e\\db92ebac-64bd-4e2e-a3b5-52b1dea3023e-image_els__d1_400_d2_400_d3_1_order_F_frames_480.mmap\n",
      "finished computing correlation image\n",
      "Running 5e3a37c4-861d-453d-8b9e-53c0a3352f8f with local backend\n",
      "starting mc\n",
      "mc finished successfully!\n",
      "computing projections\n",
      "Decode mmap filename C:\\Users\\minel\\Documents\\data\\vglut2dsRed_elavl3H2BGCaMP8m_6dpf_unfed_glucose_500mM_9_20221024\\postgavage_vagal_R\\mesmerize-batch\\5e3a37c4-861d-453d-8b9e-53c0a3352f8f\\5e3a37c4-861d-453d-8b9e-53c0a3352f8f-image_els__d1_400_d2_400_d3_1_order_F_frames_480.mmap\n",
      "finished computing correlation image\n"
     ]
    }
   ],
   "source": [
    "mes_df = load_mesmerize(fish)\n",
    "run_mesmerize(mes_df)\n",
    "mes_df = mes_df.caiman.reload_from_disk()"
   ]
  },
  {
   "cell_type": "code",
   "execution_count": 23,
   "id": "f4539ccc",
   "metadata": {},
   "outputs": [
    {
     "name": "stdout",
     "output_type": "stream",
     "text": [
      "True\n",
      "True\n",
      "True\n",
      "True\n",
      "True\n",
      "True\n",
      "True\n",
      "True\n"
     ]
    }
   ],
   "source": [
    "# See the rows that were successfully run\n",
    "for output in mes_df.loc[:, 'outputs']:\n",
    "    print(output['success'])"
   ]
  },
  {
   "cell_type": "markdown",
   "id": "7694ca58",
   "metadata": {},
   "source": [
    "### Visualize outputs"
   ]
  },
  {
   "cell_type": "code",
   "execution_count": 26,
   "id": "94446064",
   "metadata": {
    "scrolled": false
   },
   "outputs": [
    {
     "name": "stdout",
     "output_type": "stream",
     "text": [
      "Batch exists. Loading batch.pickle\n",
      "Decode mmap filename C:\\Users\\minel\\Documents\\data\\vglut2dsRed_elavl3H2BGCaMP8m_6dpf_unfed_glucose_500mM_9_20221024\\postgavage_vagal_R\\mesmerize-batch\\8a18cda3-8097-4c8b-915c-2950880ddb47\\8a18cda3-8097-4c8b-915c-2950880ddb47-image_els__d1_400_d2_400_d3_1_order_F_frames_480.mmap\n",
      "Decode mmap filename C:\\Users\\minel\\Documents\\data\\vglut2dsRed_elavl3H2BGCaMP8m_6dpf_unfed_glucose_500mM_9_20221024\\postgavage_vagal_R\\mesmerize-batch\\81e9b407-0f06-419d-bde6-a34491054277\\81e9b407-0f06-419d-bde6-a34491054277-image_els__d1_400_d2_400_d3_1_order_F_frames_480.mmap\n",
      "Decode mmap filename C:\\Users\\minel\\Documents\\data\\vglut2dsRed_elavl3H2BGCaMP8m_6dpf_unfed_glucose_500mM_9_20221024\\postgavage_vagal_R\\mesmerize-batch\\0885bbd4-f303-4098-a4d7-bba35a5187ec\\0885bbd4-f303-4098-a4d7-bba35a5187ec-image_els__d1_400_d2_400_d3_1_order_F_frames_480.mmap\n",
      "Decode mmap filename C:\\Users\\minel\\Documents\\data\\vglut2dsRed_elavl3H2BGCaMP8m_6dpf_unfed_glucose_500mM_9_20221024\\postgavage_vagal_R\\mesmerize-batch\\5f42942f-05fc-4b3e-a18e-686bb159e2c9\\5f42942f-05fc-4b3e-a18e-686bb159e2c9-image_els__d1_400_d2_400_d3_1_order_F_frames_480.mmap\n",
      "Decode mmap filename C:\\Users\\minel\\Documents\\data\\vglut2dsRed_elavl3H2BGCaMP8m_6dpf_unfed_glucose_500mM_9_20221024\\postgavage_vagal_R\\mesmerize-batch\\e6766df5-1b0f-4231-9c73-6b893b9d2b56\\e6766df5-1b0f-4231-9c73-6b893b9d2b56-image_els__d1_400_d2_400_d3_1_order_F_frames_480.mmap\n",
      "Decode mmap filename C:\\Users\\minel\\Documents\\data\\vglut2dsRed_elavl3H2BGCaMP8m_6dpf_unfed_glucose_500mM_9_20221024\\postgavage_vagal_R\\mesmerize-batch\\0c2e8a37-33a4-4f1a-8542-32074d5c7b4b\\0c2e8a37-33a4-4f1a-8542-32074d5c7b4b-image_els__d1_400_d2_400_d3_1_order_F_frames_480.mmap\n",
      "Decode mmap filename C:\\Users\\minel\\Documents\\data\\vglut2dsRed_elavl3H2BGCaMP8m_6dpf_unfed_glucose_500mM_9_20221024\\postgavage_vagal_R\\mesmerize-batch\\db92ebac-64bd-4e2e-a3b5-52b1dea3023e\\db92ebac-64bd-4e2e-a3b5-52b1dea3023e-image_els__d1_400_d2_400_d3_1_order_F_frames_480.mmap\n",
      "Decode mmap filename C:\\Users\\minel\\Documents\\data\\vglut2dsRed_elavl3H2BGCaMP8m_6dpf_unfed_glucose_500mM_9_20221024\\postgavage_vagal_R\\mesmerize-batch\\5e3a37c4-861d-453d-8b9e-53c0a3352f8f\\5e3a37c4-861d-453d-8b9e-53c0a3352f8f-image_els__d1_400_d2_400_d3_1_order_F_frames_480.mmap\n"
     ]
    },
    {
     "data": {
      "application/vnd.jupyter.widget-view+json": {
       "model_id": "3a607706934a45a4b2f0ae0e1f7ee6d4",
       "version_major": 2,
       "version_minor": 0
      },
      "text/plain": [
       "RFBOutputContext()"
      ]
     },
     "metadata": {},
     "output_type": "display_data"
    },
    {
     "data": {
      "application/vnd.jupyter.widget-view+json": {
       "model_id": "68f1c29cb9ba467195bc0bb40c34cd50",
       "version_major": 2,
       "version_minor": 0
      },
      "text/plain": [
       "VBox(children=(JupyterWgpuCanvas(), IntSlider(value=0, description='dimension: t', max=479), FloatRangeSlider(…"
      ]
     },
     "metadata": {},
     "output_type": "display_data"
    }
   ],
   "source": [
    "mes_df = load_mesmerize(fish)\n",
    "mcorr_iw = visualize_mesmerize(mes_df, 'mcorr')\n",
    "mcorr_iw.show()"
   ]
  },
  {
   "cell_type": "code",
   "execution_count": 27,
   "id": "e75d6d4b",
   "metadata": {},
   "outputs": [],
   "source": [
    "mcorr_iw.plot.canvas.close()"
   ]
  },
  {
   "cell_type": "code",
   "execution_count": 19,
   "id": "8fbeb093",
   "metadata": {
    "scrolled": false
   },
   "outputs": [
    {
     "name": "stdout",
     "output_type": "stream",
     "text": [
      "Decode mmap filename C:\\Users\\minel\\Documents\\data\\elavl3H2BGCaMP8m_7dpf_fed_glucose_500mM_25_20221227\\postgavage_vagal_L\\mesmerize-batch\\c9f646b6-e1e0-4d2c-bae1-19cca7c77e23\\c9f646b6-e1e0-4d2c-bae1-19cca7c77e23-image_els__d1_166_d2_250_d3_1_order_F_frames_833.mmap\n",
      "Decode mmap filename C:\\Users\\minel\\Documents\\data\\elavl3H2BGCaMP8m_7dpf_fed_glucose_500mM_25_20221227\\postgavage_vagal_L\\mesmerize-batch\\d6f64a99-45e4-4b60-be73-37d7375de6ac\\d6f64a99-45e4-4b60-be73-37d7375de6ac-image_els__d1_166_d2_250_d3_1_order_F_frames_833.mmap\n",
      "Decode mmap filename C:\\Users\\minel\\Documents\\data\\elavl3H2BGCaMP8m_7dpf_fed_glucose_500mM_25_20221227\\postgavage_vagal_L\\mesmerize-batch\\e92c5fbe-6669-466a-900e-d9b83e1cf8f6\\e92c5fbe-6669-466a-900e-d9b83e1cf8f6-image_els__d1_166_d2_250_d3_1_order_F_frames_833.mmap\n",
      "Decode mmap filename C:\\Users\\minel\\Documents\\data\\elavl3H2BGCaMP8m_7dpf_fed_glucose_500mM_25_20221227\\postgavage_vagal_L\\mesmerize-batch\\7809fe1b-0f60-4cb9-ab8c-cc3084c0e9a3\\7809fe1b-0f60-4cb9-ab8c-cc3084c0e9a3-image_els__d1_166_d2_250_d3_1_order_F_frames_833.mmap\n",
      "Decode mmap filename C:\\Users\\minel\\Documents\\data\\elavl3H2BGCaMP8m_7dpf_fed_glucose_500mM_25_20221227\\postgavage_vagal_L\\mesmerize-batch\\7b4a1f79-9c99-4d53-88a6-b2669eb656c6\\7b4a1f79-9c99-4d53-88a6-b2669eb656c6-image_els__d1_166_d2_250_d3_1_order_F_frames_833.mmap\n"
     ]
    },
    {
     "data": {
      "application/vnd.jupyter.widget-view+json": {
       "model_id": "84626ed782d444838f979ba2dd9962dd",
       "version_major": 2,
       "version_minor": 0
      },
      "text/plain": [
       "RFBOutputContext()"
      ]
     },
     "metadata": {},
     "output_type": "display_data"
    },
    {
     "data": {
      "application/vnd.jupyter.widget-view+json": {
       "model_id": "3fb7ca064d2548e9a46d6b336f28fd96",
       "version_major": 2,
       "version_minor": 0
      },
      "text/plain": [
       "VBox(children=(JupyterWgpuCanvas(), IntSlider(value=0, description='dimension: t', max=832), FloatRangeSlider(…"
      ]
     },
     "metadata": {},
     "output_type": "display_data"
    }
   ],
   "source": [
    "# Visualize the difference from the mean\n",
    "mcorr_iw = visualize_diff(mes_df)\n",
    "mcorr_iw.show()"
   ]
  },
  {
   "cell_type": "code",
   "execution_count": 20,
   "id": "3b415448",
   "metadata": {},
   "outputs": [],
   "source": [
    "mcorr_iw.plot.canvas.close()"
   ]
  },
  {
   "cell_type": "markdown",
   "id": "86cfed8f",
   "metadata": {},
   "source": [
    "### Choose an index with the best parameters"
   ]
  },
  {
   "cell_type": "code",
   "execution_count": 4,
   "id": "bda26abf",
   "metadata": {},
   "outputs": [],
   "source": [
    "indices = [1]"
   ]
  },
  {
   "cell_type": "code",
   "execution_count": 5,
   "id": "43ec449c",
   "metadata": {
    "scrolled": true
   },
   "outputs": [
    {
     "name": "stdout",
     "output_type": "stream",
     "text": [
      "Batch exists. Loading batch.pickle\n"
     ]
    },
    {
     "name": "stderr",
     "output_type": "stream",
     "text": [
      "C:\\Users\\minel\\mambaforge\\envs\\mescore\\lib\\site-packages\\mesmerize_core\\caiman_extensions\\common.py:209: FutureWarning: You are trying to use the following experimental feature, this may change in the future without warning:\n",
      "CaimanDataFrameExtensions.get_children\n",
      "This feature will change in the future and directly return the  a DataFrame of children (rows, ie. child batch items row) instead of a list of UUIDs\n",
      "\n",
      "  children = self.get_children(index)\n",
      "C:\\Users\\minel\\mambaforge\\envs\\mescore\\lib\\site-packages\\mesmerize_core\\caiman_extensions\\common.py:209: FutureWarning: You are trying to use the following experimental feature, this may change in the future without warning:\n",
      "CaimanDataFrameExtensions.get_children\n",
      "This feature will change in the future and directly return the  a DataFrame of children (rows, ie. child batch items row) instead of a list of UUIDs\n",
      "\n",
      "  children = self.get_children(index)\n",
      "C:\\Users\\minel\\mambaforge\\envs\\mescore\\lib\\site-packages\\mesmerize_core\\caiman_extensions\\common.py:209: FutureWarning: You are trying to use the following experimental feature, this may change in the future without warning:\n",
      "CaimanDataFrameExtensions.get_children\n",
      "This feature will change in the future and directly return the  a DataFrame of children (rows, ie. child batch items row) instead of a list of UUIDs\n",
      "\n",
      "  children = self.get_children(index)\n",
      "C:\\Users\\minel\\mambaforge\\envs\\mescore\\lib\\site-packages\\mesmerize_core\\caiman_extensions\\common.py:209: FutureWarning: You are trying to use the following experimental feature, this may change in the future without warning:\n",
      "CaimanDataFrameExtensions.get_children\n",
      "This feature will change in the future and directly return the  a DataFrame of children (rows, ie. child batch items row) instead of a list of UUIDs\n",
      "\n",
      "  children = self.get_children(index)\n",
      "C:\\Users\\minel\\mambaforge\\envs\\mescore\\lib\\site-packages\\mesmerize_core\\caiman_extensions\\common.py:209: FutureWarning: You are trying to use the following experimental feature, this may change in the future without warning:\n",
      "CaimanDataFrameExtensions.get_children\n",
      "This feature will change in the future and directly return the  a DataFrame of children (rows, ie. child batch items row) instead of a list of UUIDs\n",
      "\n",
      "  children = self.get_children(index)\n",
      "C:\\Users\\minel\\mambaforge\\envs\\mescore\\lib\\site-packages\\mesmerize_core\\caiman_extensions\\common.py:209: FutureWarning: You are trying to use the following experimental feature, this may change in the future without warning:\n",
      "CaimanDataFrameExtensions.get_children\n",
      "This feature will change in the future and directly return the  a DataFrame of children (rows, ie. child batch items row) instead of a list of UUIDs\n",
      "\n",
      "  children = self.get_children(index)\n",
      "C:\\Users\\minel\\mambaforge\\envs\\mescore\\lib\\site-packages\\mesmerize_core\\caiman_extensions\\common.py:209: FutureWarning: You are trying to use the following experimental feature, this may change in the future without warning:\n",
      "CaimanDataFrameExtensions.get_children\n",
      "This feature will change in the future and directly return the  a DataFrame of children (rows, ie. child batch items row) instead of a list of UUIDs\n",
      "\n",
      "  children = self.get_children(index)\n"
     ]
    },
    {
     "data": {
      "text/html": [
       "<div>\n",
       "<style scoped>\n",
       "    .dataframe tbody tr th:only-of-type {\n",
       "        vertical-align: middle;\n",
       "    }\n",
       "\n",
       "    .dataframe tbody tr th {\n",
       "        vertical-align: top;\n",
       "    }\n",
       "\n",
       "    .dataframe thead th {\n",
       "        text-align: right;\n",
       "    }\n",
       "</style>\n",
       "<table border=\"1\" class=\"dataframe\">\n",
       "  <thead>\n",
       "    <tr style=\"text-align: right;\">\n",
       "      <th></th>\n",
       "      <th>algo</th>\n",
       "      <th>item_name</th>\n",
       "      <th>input_movie_path</th>\n",
       "      <th>params</th>\n",
       "      <th>outputs</th>\n",
       "      <th>added_time</th>\n",
       "      <th>ran_time</th>\n",
       "      <th>algo_duration</th>\n",
       "      <th>comments</th>\n",
       "      <th>uuid</th>\n",
       "    </tr>\n",
       "  </thead>\n",
       "  <tbody>\n",
       "    <tr>\n",
       "      <th>0</th>\n",
       "      <td>mcorr</td>\n",
       "      <td>img_stack_3</td>\n",
       "      <td>img_stack_3\\image.tif</td>\n",
       "      <td>{'main': {'strides': (40, 40), 'overlaps': (15, 15), 'max_shifts': (30, 30), 'max_deviation_rigid': 30, 'pw_rigid': ...</td>\n",
       "      <td>{'mean-projection-path': 81e9b407-0f06-419d-bde6-a34491054277\\81e9b407-0f06-419d-bde6-a34491054277_mean_projection.n...</td>\n",
       "      <td>2023-05-19T13:25:30</td>\n",
       "      <td>2023-05-19T13:27:10</td>\n",
       "      <td>47.31 sec</td>\n",
       "      <td>None</td>\n",
       "      <td>81e9b407-0f06-419d-bde6-a34491054277</td>\n",
       "    </tr>\n",
       "  </tbody>\n",
       "</table>\n",
       "</div>"
      ],
      "text/plain": [
       "    algo    item_name       input_movie_path  \\\n",
       "0  mcorr  img_stack_3  img_stack_3\\image.tif   \n",
       "\n",
       "                                                                                                                    params  \\\n",
       "0  {'main': {'strides': (40, 40), 'overlaps': (15, 15), 'max_shifts': (30, 30), 'max_deviation_rigid': 30, 'pw_rigid': ...   \n",
       "\n",
       "                                                                                                                   outputs  \\\n",
       "0  {'mean-projection-path': 81e9b407-0f06-419d-bde6-a34491054277\\81e9b407-0f06-419d-bde6-a34491054277_mean_projection.n...   \n",
       "\n",
       "            added_time             ran_time algo_duration comments  \\\n",
       "0  2023-05-19T13:25:30  2023-05-19T13:27:10     47.31 sec     None   \n",
       "\n",
       "                                   uuid  \n",
       "0  81e9b407-0f06-419d-bde6-a34491054277  "
      ]
     },
     "execution_count": 5,
     "metadata": {},
     "output_type": "execute_result"
    }
   ],
   "source": [
    "df = load_mesmerize(fish)\n",
    "mes_df = clean_mesmerize(df, indices)\n",
    "mes_df"
   ]
  },
  {
   "cell_type": "markdown",
   "id": "eb96459c",
   "metadata": {},
   "source": [
    "## Run motion correction on all planes"
   ]
  },
  {
   "cell_type": "code",
   "execution_count": 6,
   "id": "cb5b83a4",
   "metadata": {},
   "outputs": [
    {
     "name": "stdout",
     "output_type": "stream",
     "text": [
      "Batch exists. Loading batch.pickle\n",
      "Batch exists. Loading batch.pickle\n",
      "Batch exists. Loading batch.pickle\n"
     ]
    },
    {
     "data": {
      "text/html": [
       "<div>\n",
       "<style scoped>\n",
       "    .dataframe tbody tr th:only-of-type {\n",
       "        vertical-align: middle;\n",
       "    }\n",
       "\n",
       "    .dataframe tbody tr th {\n",
       "        vertical-align: top;\n",
       "    }\n",
       "\n",
       "    .dataframe thead th {\n",
       "        text-align: right;\n",
       "    }\n",
       "</style>\n",
       "<table border=\"1\" class=\"dataframe\">\n",
       "  <thead>\n",
       "    <tr style=\"text-align: right;\">\n",
       "      <th></th>\n",
       "      <th>algo</th>\n",
       "      <th>item_name</th>\n",
       "      <th>input_movie_path</th>\n",
       "      <th>params</th>\n",
       "      <th>outputs</th>\n",
       "      <th>added_time</th>\n",
       "      <th>ran_time</th>\n",
       "      <th>algo_duration</th>\n",
       "      <th>comments</th>\n",
       "      <th>uuid</th>\n",
       "    </tr>\n",
       "  </thead>\n",
       "  <tbody>\n",
       "    <tr>\n",
       "      <th>0</th>\n",
       "      <td>mcorr</td>\n",
       "      <td>img_stack_3</td>\n",
       "      <td>img_stack_3\\image.tif</td>\n",
       "      <td>{'main': {'strides': (40, 40), 'overlaps': (15, 15), 'max_shifts': (30, 30), 'max_deviation_rigid': 30, 'pw_rigid': ...</td>\n",
       "      <td>{'mean-projection-path': 81e9b407-0f06-419d-bde6-a34491054277\\81e9b407-0f06-419d-bde6-a34491054277_mean_projection.n...</td>\n",
       "      <td>2023-05-19T13:25:30</td>\n",
       "      <td>2023-05-19T13:27:10</td>\n",
       "      <td>47.31 sec</td>\n",
       "      <td>None</td>\n",
       "      <td>81e9b407-0f06-419d-bde6-a34491054277</td>\n",
       "    </tr>\n",
       "    <tr>\n",
       "      <th>1</th>\n",
       "      <td>mcorr</td>\n",
       "      <td>img_stack_0</td>\n",
       "      <td>img_stack_0\\image.tif</td>\n",
       "      <td>{'main': {'strides': (40, 40), 'overlaps': (15, 15), 'max_shifts': (30, 30), 'max_deviation_rigid': 30, 'pw_rigid': ...</td>\n",
       "      <td>None</td>\n",
       "      <td>2023-05-19T13:35:13</td>\n",
       "      <td>None</td>\n",
       "      <td>None</td>\n",
       "      <td>None</td>\n",
       "      <td>4368db23-af24-4635-b1e5-5ed9917c3b12</td>\n",
       "    </tr>\n",
       "    <tr>\n",
       "      <th>2</th>\n",
       "      <td>mcorr</td>\n",
       "      <td>img_stack_1</td>\n",
       "      <td>img_stack_1\\image.tif</td>\n",
       "      <td>{'main': {'strides': (40, 40), 'overlaps': (15, 15), 'max_shifts': (30, 30), 'max_deviation_rigid': 30, 'pw_rigid': ...</td>\n",
       "      <td>None</td>\n",
       "      <td>2023-05-19T13:35:13</td>\n",
       "      <td>None</td>\n",
       "      <td>None</td>\n",
       "      <td>None</td>\n",
       "      <td>709f79b0-3e1c-4c70-b33e-67aaa2161c83</td>\n",
       "    </tr>\n",
       "    <tr>\n",
       "      <th>3</th>\n",
       "      <td>mcorr</td>\n",
       "      <td>img_stack_2</td>\n",
       "      <td>img_stack_2\\image.tif</td>\n",
       "      <td>{'main': {'strides': (40, 40), 'overlaps': (15, 15), 'max_shifts': (30, 30), 'max_deviation_rigid': 30, 'pw_rigid': ...</td>\n",
       "      <td>None</td>\n",
       "      <td>2023-05-19T13:35:13</td>\n",
       "      <td>None</td>\n",
       "      <td>None</td>\n",
       "      <td>None</td>\n",
       "      <td>d75ab8d1-c458-4f99-bf43-6d5aee0e2e92</td>\n",
       "    </tr>\n",
       "    <tr>\n",
       "      <th>4</th>\n",
       "      <td>mcorr</td>\n",
       "      <td>img_stack_4</td>\n",
       "      <td>img_stack_4\\image.tif</td>\n",
       "      <td>{'main': {'strides': (40, 40), 'overlaps': (15, 15), 'max_shifts': (30, 30), 'max_deviation_rigid': 30, 'pw_rigid': ...</td>\n",
       "      <td>None</td>\n",
       "      <td>2023-05-19T13:35:13</td>\n",
       "      <td>None</td>\n",
       "      <td>None</td>\n",
       "      <td>None</td>\n",
       "      <td>b9273412-6809-414a-8b3e-669f9533dc9c</td>\n",
       "    </tr>\n",
       "  </tbody>\n",
       "</table>\n",
       "</div>"
      ],
      "text/plain": [
       "    algo    item_name       input_movie_path  \\\n",
       "0  mcorr  img_stack_3  img_stack_3\\image.tif   \n",
       "1  mcorr  img_stack_0  img_stack_0\\image.tif   \n",
       "2  mcorr  img_stack_1  img_stack_1\\image.tif   \n",
       "3  mcorr  img_stack_2  img_stack_2\\image.tif   \n",
       "4  mcorr  img_stack_4  img_stack_4\\image.tif   \n",
       "\n",
       "                                                                                                                    params  \\\n",
       "0  {'main': {'strides': (40, 40), 'overlaps': (15, 15), 'max_shifts': (30, 30), 'max_deviation_rigid': 30, 'pw_rigid': ...   \n",
       "1  {'main': {'strides': (40, 40), 'overlaps': (15, 15), 'max_shifts': (30, 30), 'max_deviation_rigid': 30, 'pw_rigid': ...   \n",
       "2  {'main': {'strides': (40, 40), 'overlaps': (15, 15), 'max_shifts': (30, 30), 'max_deviation_rigid': 30, 'pw_rigid': ...   \n",
       "3  {'main': {'strides': (40, 40), 'overlaps': (15, 15), 'max_shifts': (30, 30), 'max_deviation_rigid': 30, 'pw_rigid': ...   \n",
       "4  {'main': {'strides': (40, 40), 'overlaps': (15, 15), 'max_shifts': (30, 30), 'max_deviation_rigid': 30, 'pw_rigid': ...   \n",
       "\n",
       "                                                                                                                   outputs  \\\n",
       "0  {'mean-projection-path': 81e9b407-0f06-419d-bde6-a34491054277\\81e9b407-0f06-419d-bde6-a34491054277_mean_projection.n...   \n",
       "1                                                                                                                     None   \n",
       "2                                                                                                                     None   \n",
       "3                                                                                                                     None   \n",
       "4                                                                                                                     None   \n",
       "\n",
       "            added_time             ran_time algo_duration comments  \\\n",
       "0  2023-05-19T13:25:30  2023-05-19T13:27:10     47.31 sec     None   \n",
       "1  2023-05-19T13:35:13                 None          None     None   \n",
       "2  2023-05-19T13:35:13                 None          None     None   \n",
       "3  2023-05-19T13:35:13                 None          None     None   \n",
       "4  2023-05-19T13:35:13                 None          None     None   \n",
       "\n",
       "                                   uuid  \n",
       "0  81e9b407-0f06-419d-bde6-a34491054277  \n",
       "1  4368db23-af24-4635-b1e5-5ed9917c3b12  \n",
       "2  709f79b0-3e1c-4c70-b33e-67aaa2161c83  \n",
       "3  d75ab8d1-c458-4f99-bf43-6d5aee0e2e92  \n",
       "4  b9273412-6809-414a-8b3e-669f9533dc9c  "
      ]
     },
     "execution_count": 6,
     "metadata": {},
     "output_type": "execute_result"
    }
   ],
   "source": [
    "fish.process_mesmerize_filestructure()\n",
    "mes_df = add_volume(fish, algo='mcorr')\n",
    "mes_df"
   ]
  },
  {
   "cell_type": "code",
   "execution_count": 7,
   "id": "993d49ce",
   "metadata": {
    "scrolled": true
   },
   "outputs": [
    {
     "name": "stdout",
     "output_type": "stream",
     "text": [
      "Running 4368db23-af24-4635-b1e5-5ed9917c3b12 with local backend\n",
      "starting mc\n",
      "mc finished successfully!\n",
      "computing projections\n",
      "Decode mmap filename C:\\Users\\minel\\Documents\\data\\vglut2dsRed_elavl3H2BGCaMP8m_6dpf_unfed_glucose_500mM_9_20221024\\postgavage_vagal_R\\mesmerize-batch\\4368db23-af24-4635-b1e5-5ed9917c3b12\\4368db23-af24-4635-b1e5-5ed9917c3b12-image_els__d1_400_d2_400_d3_1_order_F_frames_480.mmap\n",
      "finished computing correlation image\n",
      "Running 709f79b0-3e1c-4c70-b33e-67aaa2161c83 with local backend\n",
      "starting mc\n",
      "mc finished successfully!\n",
      "computing projections\n",
      "Decode mmap filename C:\\Users\\minel\\Documents\\data\\vglut2dsRed_elavl3H2BGCaMP8m_6dpf_unfed_glucose_500mM_9_20221024\\postgavage_vagal_R\\mesmerize-batch\\709f79b0-3e1c-4c70-b33e-67aaa2161c83\\709f79b0-3e1c-4c70-b33e-67aaa2161c83-image_els__d1_400_d2_400_d3_1_order_F_frames_480.mmap\n",
      "finished computing correlation image\n",
      "Running d75ab8d1-c458-4f99-bf43-6d5aee0e2e92 with local backend\n",
      "starting mc\n",
      "mc finished successfully!\n",
      "computing projections\n",
      "Decode mmap filename C:\\Users\\minel\\Documents\\data\\vglut2dsRed_elavl3H2BGCaMP8m_6dpf_unfed_glucose_500mM_9_20221024\\postgavage_vagal_R\\mesmerize-batch\\d75ab8d1-c458-4f99-bf43-6d5aee0e2e92\\d75ab8d1-c458-4f99-bf43-6d5aee0e2e92-image_els__d1_400_d2_400_d3_1_order_F_frames_480.mmap\n",
      "finished computing correlation image\n",
      "Running b9273412-6809-414a-8b3e-669f9533dc9c with local backend\n",
      "starting mc\n",
      "mc finished successfully!\n",
      "computing projections\n",
      "Decode mmap filename C:\\Users\\minel\\Documents\\data\\vglut2dsRed_elavl3H2BGCaMP8m_6dpf_unfed_glucose_500mM_9_20221024\\postgavage_vagal_R\\mesmerize-batch\\b9273412-6809-414a-8b3e-669f9533dc9c\\b9273412-6809-414a-8b3e-669f9533dc9c-image_els__d1_400_d2_400_d3_1_order_F_frames_479.mmap\n",
      "finished computing correlation image\n",
      "True\n",
      "True\n",
      "True\n",
      "True\n",
      "True\n"
     ]
    }
   ],
   "source": [
    "run_mesmerize(mes_df)\n",
    "mes_df = mes_df.caiman.reload_from_disk()\n",
    "\n",
    "# See the rows that were successfully run\n",
    "for output in mes_df.loc[:, 'outputs']:\n",
    "    print(output['success'])"
   ]
  },
  {
   "cell_type": "markdown",
   "id": "8bf2f9a3",
   "metadata": {},
   "source": [
    "### Visualize outputs"
   ]
  },
  {
   "cell_type": "code",
   "execution_count": 8,
   "id": "837d4ce1",
   "metadata": {
    "scrolled": false
   },
   "outputs": [
    {
     "name": "stdout",
     "output_type": "stream",
     "text": [
      "Batch exists. Loading batch.pickle\n",
      "Decode mmap filename C:\\Users\\minel\\Documents\\data\\vglut2dsRed_elavl3H2BGCaMP8m_6dpf_unfed_glucose_500mM_9_20221024\\postgavage_vagal_R\\mesmerize-batch\\81e9b407-0f06-419d-bde6-a34491054277\\81e9b407-0f06-419d-bde6-a34491054277-image_els__d1_400_d2_400_d3_1_order_F_frames_480.mmap\n",
      "Decode mmap filename C:\\Users\\minel\\Documents\\data\\vglut2dsRed_elavl3H2BGCaMP8m_6dpf_unfed_glucose_500mM_9_20221024\\postgavage_vagal_R\\mesmerize-batch\\4368db23-af24-4635-b1e5-5ed9917c3b12\\4368db23-af24-4635-b1e5-5ed9917c3b12-image_els__d1_400_d2_400_d3_1_order_F_frames_480.mmap\n",
      "Decode mmap filename C:\\Users\\minel\\Documents\\data\\vglut2dsRed_elavl3H2BGCaMP8m_6dpf_unfed_glucose_500mM_9_20221024\\postgavage_vagal_R\\mesmerize-batch\\709f79b0-3e1c-4c70-b33e-67aaa2161c83\\709f79b0-3e1c-4c70-b33e-67aaa2161c83-image_els__d1_400_d2_400_d3_1_order_F_frames_480.mmap\n",
      "Decode mmap filename C:\\Users\\minel\\Documents\\data\\vglut2dsRed_elavl3H2BGCaMP8m_6dpf_unfed_glucose_500mM_9_20221024\\postgavage_vagal_R\\mesmerize-batch\\d75ab8d1-c458-4f99-bf43-6d5aee0e2e92\\d75ab8d1-c458-4f99-bf43-6d5aee0e2e92-image_els__d1_400_d2_400_d3_1_order_F_frames_480.mmap\n",
      "Decode mmap filename C:\\Users\\minel\\Documents\\data\\vglut2dsRed_elavl3H2BGCaMP8m_6dpf_unfed_glucose_500mM_9_20221024\\postgavage_vagal_R\\mesmerize-batch\\b9273412-6809-414a-8b3e-669f9533dc9c\\b9273412-6809-414a-8b3e-669f9533dc9c-image_els__d1_400_d2_400_d3_1_order_F_frames_479.mmap\n"
     ]
    },
    {
     "data": {
      "application/vnd.jupyter.widget-view+json": {
       "model_id": "ef8caa43e0f6464fb22167926baa0371",
       "version_major": 2,
       "version_minor": 0
      },
      "text/plain": [
       "RFBOutputContext()"
      ]
     },
     "metadata": {},
     "output_type": "display_data"
    },
    {
     "data": {
      "application/vnd.jupyter.widget-view+json": {
       "model_id": "808e7ffffd7f4f759f4469a3d6e8be8f",
       "version_major": 2,
       "version_minor": 0
      },
      "text/plain": [
       "VBox(children=(JupyterWgpuCanvas(), IntSlider(value=0, description='dimension: t', max=478), FloatRangeSlider(…"
      ]
     },
     "metadata": {},
     "output_type": "display_data"
    }
   ],
   "source": [
    "mes_df = load_mesmerize(fish)\n",
    "mcorr_iw = visualize_mesmerize(mes_df, 'mcorr')\n",
    "mcorr_iw.show()"
   ]
  },
  {
   "cell_type": "code",
   "execution_count": 9,
   "id": "bf188b3b",
   "metadata": {},
   "outputs": [],
   "source": [
    "mcorr_iw.plot.canvas.close()"
   ]
  },
  {
   "cell_type": "code",
   "execution_count": null,
   "id": "e65ec3ca",
   "metadata": {},
   "outputs": [],
   "source": []
  }
 ],
 "metadata": {
  "kernelspec": {
   "display_name": "Python 3 (ipykernel)",
   "language": "python",
   "name": "python3"
  },
  "language_info": {
   "codemirror_mode": {
    "name": "ipython",
    "version": 3
   },
   "file_extension": ".py",
   "mimetype": "text/x-python",
   "name": "python",
   "nbconvert_exporter": "python",
   "pygments_lexer": "ipython3",
   "version": "3.10.8"
  }
 },
 "nbformat": 4,
 "nbformat_minor": 5
}
