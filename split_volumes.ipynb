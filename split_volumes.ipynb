{
 "cells": [
  {
   "cell_type": "code",
   "execution_count": 3,
   "id": "9e849465",
   "metadata": {},
   "outputs": [],
   "source": [
    "%load_ext autoreload\n",
    "%autoreload 2\n",
    "\n",
    "from volume_fish import VolumeFish\n",
    "from utils import visualize_volumes"
   ]
  },
  {
   "cell_type": "markdown",
   "id": "26ff5451",
   "metadata": {},
   "source": [
    "### Change the exp_folder to the path of the experiment"
   ]
  },
  {
   "cell_type": "code",
   "execution_count": 36,
   "id": "96675de5",
   "metadata": {},
   "outputs": [],
   "source": [
    "exp_folder = r'C:\\Users\\minel\\Documents\\data\\elavl3H2BGCaMP8m_6dpf_fed_glucose_625mM_51_20230403'"
   ]
  },
  {
   "cell_type": "code",
   "execution_count": 37,
   "id": "de0029cc",
   "metadata": {},
   "outputs": [
    {
     "data": {
      "text/plain": [
       "{'injection': WindowsPath('C:/Users/minel/Documents/data/elavl3H2BGCaMP8m_6dpf_fed_glucose_625mM_51_20230403/injection.txt'),\n",
       " 'log': WindowsPath('C:/Users/minel/Documents/data/elavl3H2BGCaMP8m_6dpf_fed_glucose_625mM_51_20230403/log.546.txt'),\n",
       " 'postgavage_path': WindowsPath('C:/Users/minel/Documents/data/elavl3H2BGCaMP8m_6dpf_fed_glucose_625mM_51_20230403/postgavage_vagal_R'),\n",
       " 'cropped': WindowsPath('C:/Users/minel/Documents/data/elavl3H2BGCaMP8m_6dpf_fed_glucose_625mM_51_20230403/postgavage_vagal_R/img_cropped.tif'),\n",
       " 'raw_image': WindowsPath('C:/Users/minel/Documents/data/elavl3H2BGCaMP8m_6dpf_fed_glucose_625mM_51_20230403/postgavage_vagal_R/postgavage_vagal_R.ch1.tif'),\n",
       " 'frametimes': WindowsPath('C:/Users/minel/Documents/data/elavl3H2BGCaMP8m_6dpf_fed_glucose_625mM_51_20230403/postgavage_vagal_R/postgavage_vagal_R.ch1.txt'),\n",
       " 'anatomy': WindowsPath('C:/Users/minel/Documents/data/elavl3H2BGCaMP8m_6dpf_fed_glucose_625mM_51_20230403/postgavage_vagal_R/postgavage_vagal_R_anatomy'),\n",
       " 'flipped': WindowsPath('C:/Users/minel/Documents/data/elavl3H2BGCaMP8m_6dpf_fed_glucose_625mM_51_20230403/postgavage_vagal_R/raw_flipped.tif'),\n",
       " 'volumes': {'0': {}}}"
      ]
     },
     "execution_count": 37,
     "metadata": {},
     "output_type": "execute_result"
    }
   ],
   "source": [
    "# Create fish\n",
    "\n",
    "fish = VolumeFish(exp_folder)\n",
    "fish.data_paths"
   ]
  },
  {
   "cell_type": "code",
   "execution_count": 22,
   "id": "ffa21ab0",
   "metadata": {
    "scrolled": true
   },
   "outputs": [
    {
     "data": {
      "text/plain": [
       "memmap([[[102,  92, 123, ..., 118, 110, 106],\n",
       "         [109,  96, 108, ..., 172, 127, 120],\n",
       "         [ 94, 108, 110, ..., 132, 169, 254],\n",
       "         ...,\n",
       "         [105, 127, 112, ..., 119,  93, 107],\n",
       "         [106, 110, 108, ..., 119, 105, 125],\n",
       "         [112,  87,  91, ...,  97, 117, 118]],\n",
       "\n",
       "        [[120, 107, 125, ..., 103, 124, 105],\n",
       "         [ 98,  97,  94, ...,  96, 107, 115],\n",
       "         [128, 120, 175, ..., 119, 139, 145],\n",
       "         ...,\n",
       "         [108, 118, 101, ..., 118, 113, 124],\n",
       "         [115, 103, 122, ..., 100, 102, 125],\n",
       "         [116, 120, 112, ..., 115, 119,  88]],\n",
       "\n",
       "        [[113, 119, 104, ..., 101,  90, 120],\n",
       "         [ 90, 109, 100, ..., 130, 109, 107],\n",
       "         [ 97, 137, 109, ..., 123,  92, 124],\n",
       "         ...,\n",
       "         [104, 103, 109, ..., 108,  94, 122],\n",
       "         [104, 123, 110, ..., 125, 102, 110],\n",
       "         [115, 103, 105, ..., 110, 109,  88]],\n",
       "\n",
       "        ...,\n",
       "\n",
       "        [[ 75, 121, 121, ..., 110, 112, 122],\n",
       "         [102,  95, 114, ...,  97, 106, 120],\n",
       "         [152, 118, 120, ..., 118,  99, 102],\n",
       "         ...,\n",
       "         [113, 145, 105, ..., 107,  96, 106],\n",
       "         [105, 101, 107, ..., 106, 112, 112],\n",
       "         [139, 135, 115, ..., 106, 107, 106]],\n",
       "\n",
       "        [[108, 117,  91, ..., 110, 131, 136],\n",
       "         [120, 126,  84, ...,  97, 122, 105],\n",
       "         [ 93, 105, 109, ..., 113, 102, 114],\n",
       "         ...,\n",
       "         [116, 147, 150, ...,  90,  91, 107],\n",
       "         [115, 107, 107, ..., 118, 119,  87],\n",
       "         [113, 102, 102, ..., 118, 113, 104]],\n",
       "\n",
       "        [[113, 108, 108, ..., 124, 107, 105],\n",
       "         [114,  96,  94, ..., 105, 107, 110],\n",
       "         [100, 106, 123, ..., 109, 129, 109],\n",
       "         ...,\n",
       "         [105, 108, 110, ..., 105, 106, 109],\n",
       "         [114, 141, 150, ..., 116, 106, 107],\n",
       "         [106, 113, 102, ..., 128, 113, 113]]], dtype=uint16)"
      ]
     },
     "execution_count": 22,
     "metadata": {},
     "output_type": "execute_result"
    }
   ],
   "source": [
    "# Crop the flyback from raw image\n",
    "\n",
    "fish.crop_flyback()"
   ]
  },
  {
   "cell_type": "code",
   "execution_count": 23,
   "id": "37080230",
   "metadata": {},
   "outputs": [],
   "source": [
    "# FLip the image to correct\n",
    "fish.flip_image()"
   ]
  },
  {
   "cell_type": "code",
   "execution_count": 38,
   "id": "dff9bf74",
   "metadata": {
    "scrolled": true
   },
   "outputs": [
    {
     "name": "stderr",
     "output_type": "stream",
     "text": [
      "C:\\Users\\minel\\caImageAnalysis\\gavage\\volume_fish.py:142: FutureWarning: In a future version, `df.iloc[:, i] = newvals` will attempt to set the values inplace instead of always setting a new array. To retain the old behavior, use either `df[df.columns[i]] = newvals` or, if columns are non-unique, `df.isetitem(i, newvals)`\n",
      "  self.frametimes_df.loc[:, 'step'] = self.frametimes_df.step.astype(np.float32)\n"
     ]
    },
    {
     "name": "stdout",
     "output_type": "stream",
     "text": [
      "saved C:\\Users\\minel\\Documents\\data\\elavl3H2BGCaMP8m_6dpf_fed_glucose_625mM_51_20230403\\postgavage_vagal_R\\img_stack_0\\image.tif\n"
     ]
    },
    {
     "name": "stderr",
     "output_type": "stream",
     "text": [
      "C:\\Users\\minel\\caImageAnalysis\\gavage\\volume_fish.py:40: PerformanceWarning: \n",
      "your performance may suffer as PyTables will pickle object types that it cannot\n",
      "map directly to c-types [inferred_type->mixed,key->block0_values] [items->Index(['time', 'injection'], dtype='object')]\n",
      "\n",
      "  new_fts.to_hdf(new_framet_path, 'frametimes')\n"
     ]
    },
    {
     "name": "stdout",
     "output_type": "stream",
     "text": [
      "saved C:\\Users\\minel\\Documents\\data\\elavl3H2BGCaMP8m_6dpf_fed_glucose_625mM_51_20230403\\postgavage_vagal_R\\img_stack_0\\frametimes.h5\n",
      "saved C:\\Users\\minel\\Documents\\data\\elavl3H2BGCaMP8m_6dpf_fed_glucose_625mM_51_20230403\\postgavage_vagal_R\\img_stack_1\\image.tif\n"
     ]
    },
    {
     "name": "stderr",
     "output_type": "stream",
     "text": [
      "C:\\Users\\minel\\caImageAnalysis\\gavage\\volume_fish.py:40: PerformanceWarning: \n",
      "your performance may suffer as PyTables will pickle object types that it cannot\n",
      "map directly to c-types [inferred_type->mixed,key->block0_values] [items->Index(['time', 'injection'], dtype='object')]\n",
      "\n",
      "  new_fts.to_hdf(new_framet_path, 'frametimes')\n"
     ]
    },
    {
     "name": "stdout",
     "output_type": "stream",
     "text": [
      "saved C:\\Users\\minel\\Documents\\data\\elavl3H2BGCaMP8m_6dpf_fed_glucose_625mM_51_20230403\\postgavage_vagal_R\\img_stack_1\\frametimes.h5\n",
      "saved C:\\Users\\minel\\Documents\\data\\elavl3H2BGCaMP8m_6dpf_fed_glucose_625mM_51_20230403\\postgavage_vagal_R\\img_stack_2\\image.tif\n"
     ]
    },
    {
     "name": "stderr",
     "output_type": "stream",
     "text": [
      "C:\\Users\\minel\\caImageAnalysis\\gavage\\volume_fish.py:40: PerformanceWarning: \n",
      "your performance may suffer as PyTables will pickle object types that it cannot\n",
      "map directly to c-types [inferred_type->mixed,key->block0_values] [items->Index(['time', 'injection'], dtype='object')]\n",
      "\n",
      "  new_fts.to_hdf(new_framet_path, 'frametimes')\n"
     ]
    },
    {
     "name": "stdout",
     "output_type": "stream",
     "text": [
      "saved C:\\Users\\minel\\Documents\\data\\elavl3H2BGCaMP8m_6dpf_fed_glucose_625mM_51_20230403\\postgavage_vagal_R\\img_stack_2\\frametimes.h5\n",
      "saved C:\\Users\\minel\\Documents\\data\\elavl3H2BGCaMP8m_6dpf_fed_glucose_625mM_51_20230403\\postgavage_vagal_R\\img_stack_3\\image.tif\n"
     ]
    },
    {
     "name": "stderr",
     "output_type": "stream",
     "text": [
      "C:\\Users\\minel\\caImageAnalysis\\gavage\\volume_fish.py:40: PerformanceWarning: \n",
      "your performance may suffer as PyTables will pickle object types that it cannot\n",
      "map directly to c-types [inferred_type->mixed,key->block0_values] [items->Index(['time', 'injection'], dtype='object')]\n",
      "\n",
      "  new_fts.to_hdf(new_framet_path, 'frametimes')\n"
     ]
    },
    {
     "name": "stdout",
     "output_type": "stream",
     "text": [
      "saved C:\\Users\\minel\\Documents\\data\\elavl3H2BGCaMP8m_6dpf_fed_glucose_625mM_51_20230403\\postgavage_vagal_R\\img_stack_3\\frametimes.h5\n"
     ]
    }
   ],
   "source": [
    "# Split volume into individual planes\n",
    "\n",
    "fish.split_volume()"
   ]
  },
  {
   "cell_type": "code",
   "execution_count": 39,
   "id": "c253d81b",
   "metadata": {
    "scrolled": true
   },
   "outputs": [
    {
     "data": {
      "text/plain": [
       "{'injection': WindowsPath('C:/Users/minel/Documents/data/elavl3H2BGCaMP8m_6dpf_fed_glucose_625mM_51_20230403/injection.txt'),\n",
       " 'log': WindowsPath('C:/Users/minel/Documents/data/elavl3H2BGCaMP8m_6dpf_fed_glucose_625mM_51_20230403/log.546.txt'),\n",
       " 'postgavage_path': WindowsPath('C:/Users/minel/Documents/data/elavl3H2BGCaMP8m_6dpf_fed_glucose_625mM_51_20230403/postgavage_vagal_R'),\n",
       " 'cropped': WindowsPath('C:/Users/minel/Documents/data/elavl3H2BGCaMP8m_6dpf_fed_glucose_625mM_51_20230403/postgavage_vagal_R/img_cropped.tif'),\n",
       " 'raw_image': WindowsPath('C:/Users/minel/Documents/data/elavl3H2BGCaMP8m_6dpf_fed_glucose_625mM_51_20230403/postgavage_vagal_R/postgavage_vagal_R.ch1.tif'),\n",
       " 'frametimes': WindowsPath('C:/Users/minel/Documents/data/elavl3H2BGCaMP8m_6dpf_fed_glucose_625mM_51_20230403/postgavage_vagal_R/postgavage_vagal_R.ch1.txt'),\n",
       " 'anatomy': WindowsPath('C:/Users/minel/Documents/data/elavl3H2BGCaMP8m_6dpf_fed_glucose_625mM_51_20230403/postgavage_vagal_R/postgavage_vagal_R_anatomy'),\n",
       " 'flipped': WindowsPath('C:/Users/minel/Documents/data/elavl3H2BGCaMP8m_6dpf_fed_glucose_625mM_51_20230403/postgavage_vagal_R/raw_flipped.tif'),\n",
       " 'volumes': {'0': {'frametimes': WindowsPath('C:/Users/minel/Documents/data/elavl3H2BGCaMP8m_6dpf_fed_glucose_625mM_51_20230403/postgavage_vagal_R/img_stack_0/frametimes.h5'),\n",
       "   'inj_frame': 179,\n",
       "   'image': WindowsPath('C:/Users/minel/Documents/data/elavl3H2BGCaMP8m_6dpf_fed_glucose_625mM_51_20230403/postgavage_vagal_R/img_stack_0/image.tif')},\n",
       "  '1': {'frametimes': WindowsPath('C:/Users/minel/Documents/data/elavl3H2BGCaMP8m_6dpf_fed_glucose_625mM_51_20230403/postgavage_vagal_R/img_stack_1/frametimes.h5'),\n",
       "   'inj_frame': 179,\n",
       "   'image': WindowsPath('C:/Users/minel/Documents/data/elavl3H2BGCaMP8m_6dpf_fed_glucose_625mM_51_20230403/postgavage_vagal_R/img_stack_1/image.tif')},\n",
       "  '2': {'frametimes': WindowsPath('C:/Users/minel/Documents/data/elavl3H2BGCaMP8m_6dpf_fed_glucose_625mM_51_20230403/postgavage_vagal_R/img_stack_2/frametimes.h5'),\n",
       "   'inj_frame': 179,\n",
       "   'image': WindowsPath('C:/Users/minel/Documents/data/elavl3H2BGCaMP8m_6dpf_fed_glucose_625mM_51_20230403/postgavage_vagal_R/img_stack_2/image.tif')},\n",
       "  '3': {'frametimes': WindowsPath('C:/Users/minel/Documents/data/elavl3H2BGCaMP8m_6dpf_fed_glucose_625mM_51_20230403/postgavage_vagal_R/img_stack_3/frametimes.h5'),\n",
       "   'inj_frame': 179,\n",
       "   'image': WindowsPath('C:/Users/minel/Documents/data/elavl3H2BGCaMP8m_6dpf_fed_glucose_625mM_51_20230403/postgavage_vagal_R/img_stack_3/image.tif')}}}"
      ]
     },
     "execution_count": 39,
     "metadata": {},
     "output_type": "execute_result"
    }
   ],
   "source": [
    "fish.data_paths"
   ]
  },
  {
   "cell_type": "markdown",
   "id": "86eafa70",
   "metadata": {},
   "source": [
    "## Visualize planes"
   ]
  },
  {
   "cell_type": "code",
   "execution_count": 8,
   "id": "04d9e036",
   "metadata": {
    "scrolled": false
   },
   "outputs": [
    {
     "data": {
      "application/vnd.jupyter.widget-view+json": {
       "model_id": "7831c1cf063c43ffbc0bb8723a8dad50",
       "version_major": 2,
       "version_minor": 0
      },
      "text/plain": [
       "RFBOutputContext()"
      ]
     },
     "metadata": {},
     "output_type": "display_data"
    },
    {
     "data": {
      "application/vnd.jupyter.widget-view+json": {
       "model_id": "3b910db609a34a04a3ee51611bc43faa",
       "version_major": 2,
       "version_minor": 0
      },
      "text/plain": [
       "VBox(children=(JupyterWgpuCanvas(), IntSlider(value=0, description='dimension: t', max=622), FloatRangeSlider(…"
      ]
     },
     "metadata": {},
     "output_type": "display_data"
    }
   ],
   "source": [
    "iw = visualize_volumes(fish)\n",
    "iw.show()"
   ]
  },
  {
   "cell_type": "code",
   "execution_count": 12,
   "id": "9a3a457f",
   "metadata": {},
   "outputs": [],
   "source": [
    "iw.plot.canvas.close()"
   ]
  },
  {
   "cell_type": "markdown",
   "id": "5a643e56",
   "metadata": {},
   "source": [
    "### TODO: Function to add a stimulus text to the planes after injection"
   ]
  }
 ],
 "metadata": {
  "kernelspec": {
   "display_name": "Python 3 (ipykernel)",
   "language": "python",
   "name": "python3"
  },
  "language_info": {
   "codemirror_mode": {
    "name": "ipython",
    "version": 3
   },
   "file_extension": ".py",
   "mimetype": "text/x-python",
   "name": "python",
   "nbconvert_exporter": "python",
   "pygments_lexer": "ipython3",
   "version": "3.10.8"
  }
 },
 "nbformat": 4,
 "nbformat_minor": 5
}
